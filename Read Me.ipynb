{
 "cells": [
  {
   "cell_type": "markdown",
   "metadata": {},
   "source": [
    "# Mid-price Prediction Based on High Frequency Data\n"
   ]
  },
  {
   "cell_type": "markdown",
   "metadata": {},
   "source": [
    "## Project Overview\n",
    "\n",
    "This project is related to my submission for the data challenge held by XTX Markets and Correlation One in September 2019. The repository includes my work during the competition and also some further research. The data provided in the competition and features extracted from the data are not shared in this depository out of respect for organiserss and the participants' code of conduct. Correlation One's repository for this challenge: https://github.com/correlation-one/XTXStarterKit.\n",
    "\n",
    "### Goal, Data and Metrics\n",
    "The goal is to use limit order book data to predict midprice change in ticks ahead\n",
    "\n",
    "xxx ticks of data are provided for training. Each line of training data includes\n",
    "- first 14 levels of bid and ask prices and order sizes\n",
    "- prediction target y, which is the midprice change in 87 ticks\n",
    "\n",
    "**Note**: past y can't be used as input of next tick prediction\n",
    "\n",
    "The final submission must include feature construction code and the trained model. It will be tested real-time on private data and ranked by R-squared. \n",
    "$$R^2 = \\frac{\\sum_{i}(\\hat{y}_i-\\bar{y}_i)^2}{\\sum_{i}(y_i-\\bar{y}_i)^2}$$\n",
    "\n",
    "### High-frequency Trading Environment Constraints\n",
    "The competition preserved important features of high-frequency trading environment, i.e. real-time prediction and low latency. It's unlike kaggle, in which participants only compete on the prediction results without limits on model complexity and prediciton time. This one sets **limit on model size** (smaller than 256mb) and **real-time prediciotn speed** (60000 lines in 60min on their cloud computer, specs unkown). So it requires considerations for\n",
    "1. **tradeoff between model complexity and performance** under time constrains\n",
    "2. **algorithm** of machine learning model and feature construction process\n"
   ]
  },
  {
   "cell_type": "code",
   "execution_count": null,
   "metadata": {},
   "outputs": [],
   "source": []
  }
 ],
 "metadata": {
  "kernelspec": {
   "display_name": "Python 3",
   "language": "python",
   "name": "python3"
  },
  "language_info": {
   "codemirror_mode": {
    "name": "ipython",
    "version": 3
   },
   "file_extension": ".py",
   "mimetype": "text/x-python",
   "name": "python",
   "nbconvert_exporter": "python",
   "pygments_lexer": "ipython3",
   "version": "3.7.4"
  }
 },
 "nbformat": 4,
 "nbformat_minor": 2
}
