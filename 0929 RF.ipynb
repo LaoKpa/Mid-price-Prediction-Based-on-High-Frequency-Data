{
 "cells": [
  {
   "cell_type": "code",
   "execution_count": 1,
   "metadata": {},
   "outputs": [],
   "source": [
    "import numpy as np\n",
    "import pandas as pd\n",
    "import pickle\n",
    "import os\n",
    "import time\n",
    "import matplotlib.pyplot as plt"
   ]
  },
  {
   "cell_type": "markdown",
   "metadata": {},
   "source": [
    "helper functions"
   ]
  },
  {
   "cell_type": "code",
   "execution_count": 2,
   "metadata": {},
   "outputs": [],
   "source": [
    "def r2_score(y_pred, y_test):\n",
    "    return 1- np.sum((y_pred-y_test)**2)/np.sum(y_test**2)\n",
    "\n",
    "def train_test_split(all_x, all_y, test_size):\n",
    "    n = int(len(all_x)*(1-test_size))\n",
    "    \n",
    "    x_train, x_test = all_x[:n].copy(), all_x[n:].copy()\n",
    "    y_train, y_test = all_y[:n].copy(), all_y[n:].copy()\n",
    "    \n",
    "    return x_train,x_test,y_train,y_test"
   ]
  },
  {
   "cell_type": "code",
   "execution_count": 3,
   "metadata": {},
   "outputs": [],
   "source": [
    "def combine_rfs(rf_a, rf_b):\n",
    "    rf_a.estimators_ += rf_b.estimators_\n",
    "    rf_a.n_estimators = len(rf_a.estimators_)\n",
    "    return rf_a"
   ]
  },
  {
   "cell_type": "code",
   "execution_count": 4,
   "metadata": {},
   "outputs": [],
   "source": [
    "import pickle\n",
    "\n",
    "def model2pickle(model,filename,filepath=\"\"):\n",
    "    outfile = open(filepath+filename,'wb')\n",
    "    pickle.dump(model,outfile)\n",
    "    outfile.close()\n",
    "\n",
    "def pickle2model(filename,filepath=\"\"):\n",
    "    infile = open(filepath+filename,'rb')\n",
    "    model = pickle.load(infile)\n",
    "    infile.close()\n",
    "    return model"
   ]
  },
  {
   "cell_type": "code",
   "execution_count": 5,
   "metadata": {},
   "outputs": [],
   "source": [
    "def RF87slice(this_regr_params, X_train, y_train, X_test, y_test):\n",
    "    train_score = []\n",
    "    valid_score = []\n",
    "    for i in range(87):   \n",
    "\n",
    "        regr_temp = RandomForestRegressor(**this_regr_params)\n",
    "\n",
    "        X_train_this, y_train_this = X_train[i::87], y_train[i::87]\n",
    "        regr_temp.fit(X_train_this, y_train_this)\n",
    "\n",
    "        if i == 0:\n",
    "            regr = regr_temp\n",
    "        else:\n",
    "            regr = combine_rfs(regr, regr_temp)\n",
    "\n",
    "        train_score.append(regr_temp.score(X_train_this, y_train_this.values))\n",
    "        valid_score.append(regr.score(X_test, y_test.values))\n",
    "\n",
    "        if i%20 == 0 or i ==86:\n",
    "            print(str(i)+':\\ttemp train score: %.6f, valid score: %.6f'%(train_score[-1],valid_score[-1]))\n",
    "    return regr, train_score, valid_score"
   ]
  },
  {
   "cell_type": "markdown",
   "metadata": {},
   "source": [
    "### load raw data"
   ]
  },
  {
   "cell_type": "code",
   "execution_count": 8,
   "metadata": {
    "scrolled": true
   },
   "outputs": [],
   "source": [
    "df_raw = pd.read_csv('../data-training.csv')"
   ]
  },
  {
   "cell_type": "code",
   "execution_count": 9,
   "metadata": {},
   "outputs": [],
   "source": [
    "df = df_raw.copy()\n",
    "\n",
    "col = np.array(df.columns)\n",
    "\n",
    "askrate_col = [ x for x in col if 'askRate' in x]\n",
    "bidrate_col = [ x for x in col if 'bidRate' in x][::-1]\n",
    "asksize_col = [ x for x in col if 'askSize' in x]\n",
    "bidsize_col = [ x for x in col if 'bidSize' in x][::-1]\n",
    "\n",
    "rate_col = bidrate_col+askrate_col\n",
    "size_col = bidsize_col+asksize_col\n",
    "\n",
    "df[size_col] = df[size_col].fillna(0)"
   ]
  },
  {
   "cell_type": "markdown",
   "metadata": {},
   "source": [
    "### calculating features"
   ]
  },
  {
   "cell_type": "code",
   "execution_count": 10,
   "metadata": {},
   "outputs": [],
   "source": [
    "df[size_col] = df[size_col].fillna(0)\n",
    "\n",
    "# price\n",
    "df['midprice'] = (df['askRate0'] + df['bidRate0'])/2\n",
    "for i in range(3):\n",
    "    df['bookprice'+str(i)] = (df['askRate'+str(i)]*df['bidSize'+str(i)] + df['bidRate'+str(i)]*df['askSize'+str(i)])/(df['askSize'+str(i)] + df['bidSize'+str(i)])\n",
    "\n",
    "# spread\n",
    "df['spread'] = df['askRate0'] - df['bidRate0']"
   ]
  },
  {
   "cell_type": "code",
   "execution_count": 11,
   "metadata": {},
   "outputs": [],
   "source": [
    "# volume\n",
    "df['askSize_ttl'] = df[asksize_col].sum(axis=1)\n",
    "df['bidSize_ttl'] = df[bidsize_col].sum(axis=1)\n",
    "\n",
    "# volume imbalance = bidsize/(bidsize+asksize) in (0,1), more buy when higher\n",
    "for i in range(15):\n",
    "    df['volumn_imb_'+str(i)] = 1/(1+df['askSize'+str(i) ]/df['bidSize'+str(i)])\n",
    "\n",
    "df['volumn_imb_3+'] = 1/(1+df[['askSize'+str(i) for i in range(3,15)]].sum(axis=1)/df[['bidSize'+str(i) for i in range(3,15)]].sum(axis=1))"
   ]
  },
  {
   "cell_type": "code",
   "execution_count": 12,
   "metadata": {},
   "outputs": [],
   "source": [
    "# volume change\n",
    "for lag in [5,15,45,87,180]:\n",
    "    for level in range(3):\n",
    "        for x in ['askSize','bidSize']:\n",
    "            df[x+str(level)+'_chg'+str(lag)] = df[x+str(level)].diff(lag)/lag"
   ]
  },
  {
   "cell_type": "code",
   "execution_count": 13,
   "metadata": {},
   "outputs": [],
   "source": [
    "# rate change\n",
    "for lag in [5,15,45,87,180]:\n",
    "    for level in range(3):\n",
    "        for x in ['askRate','bidRate']:\n",
    "            df[x+str(level)+'_chg'] = df[x+str(level)].diff(lag)/lag"
   ]
  },
  {
   "cell_type": "code",
   "execution_count": 14,
   "metadata": {},
   "outputs": [],
   "source": [
    "# rate sparsity\n",
    "for level in [1,2,3,7,14]:\n",
    "    for x in ['askRate','bidRate']:\n",
    "        df[x+str(level)+'_dev'] = df[x+str(level)] - df[x+str(0)]"
   ]
  },
  {
   "cell_type": "code",
   "execution_count": 15,
   "metadata": {},
   "outputs": [],
   "source": [
    "# moving average of prices / spread\n",
    "for lag in [5,15,45,87,180,360]:\n",
    "    for col in ['midprice','spread','bookprice0']:\n",
    "        df[col+'_ma'+str(lag)]=df[col].rolling(lag).mean()\n",
    "  "
   ]
  },
  {
   "cell_type": "code",
   "execution_count": 16,
   "metadata": {},
   "outputs": [],
   "source": [
    "# std of prices / spread\n",
    "for lag in [5,15,45,87,180,360]:\n",
    "    for col in ['midprice','spread','bookprice0']:\n",
    "        df[col+'_std'+str(lag)]=df[col].rolling(lag).std()"
   ]
  },
  {
   "cell_type": "code",
   "execution_count": 17,
   "metadata": {},
   "outputs": [],
   "source": [
    "# price change\n",
    "for lag in [5,15,45,87,180,360]:\n",
    "    for col in ['midprice','spread','bookprice0']:\n",
    "        df[col+'_chg'+str(lag)]=df[col].diff(lag)"
   ]
  },
  {
   "cell_type": "code",
   "execution_count": 18,
   "metadata": {},
   "outputs": [],
   "source": [
    "# volume imbalance change\n",
    "for lag in [5,15,45,87,180,360]:\n",
    "    for i in [0,1,2,'3+']:\n",
    "        df['volumn_imb_'+str(i)+'_chg'+str(lag)] = df['volumn_imb_'+str(i)].diff(lag)"
   ]
  },
  {
   "cell_type": "code",
   "execution_count": 19,
   "metadata": {},
   "outputs": [],
   "source": [
    "def AddRateDiffFeature(t,level_max=2):\n",
    "    for i in range(level_max+1):\n",
    "        t['bidRatediff'+str(i)+str(i+1)]=np.clip( (t['bidRate'+str(i)]-t['bidRate'+str(i+1)]).abs()-0.5, a_min=0, a_max=2.5 )\n",
    "        t['askRatediff'+str(i)+str(i+1)]=np.clip( (t['askRate'+str(i)]-t['askRate'+str(i+1)]).abs()-0.5, a_min=0, a_max=2.5 )\n",
    "    t['bidRatediff']=t[['bidRatediff'+str(i)+str(i+1) for i in range(level_max+1)]].fillna(0).sum(axis=1)\n",
    "    t['askRatediff']=t[['askRatediff'+str(i)+str(i+1) for i in range(level_max+1)]].fillna(0).sum(axis=1)\n",
    "    t['bard']=t['bidRatediff']-t['askRatediff']\n",
    "    return t\n",
    "\n",
    "df=AddRateDiffFeature(df,2)"
   ]
  },
  {
   "cell_type": "code",
   "execution_count": 20,
   "metadata": {},
   "outputs": [],
   "source": [
    "ft_original = ['spread','bard']\n",
    "\n",
    "# midprice change\n",
    "for lag in [5,15,45,87,360]:\n",
    "    ft_original.append('midprice_chg'+str(lag))\n",
    "\n",
    "# moving average of prices / spread\n",
    "for lag in [5,15,45,87,360]:\n",
    "    for col in ['spread']:\n",
    "        ft_original.append(col+'_ma'+str(lag))\n",
    "\n",
    "# std of prices\n",
    "for lag in [5,15,45,87,360]:\n",
    "    for col in ['midprice']:\n",
    "        ft_original.append(col+'_std'+str(lag))\n",
    "\n",
    "# volume imbalance\n",
    "for i in [0,1,2,'3+']:\n",
    "    ft_original.append('volumn_imb_'+str(i))\n",
    "\n",
    "# volume imbalance change\n",
    "for lag in [5,15,45,87,360]:\n",
    "    for i in [0,1,2,'3+']:\n",
    "        ft_original.append('volumn_imb_'+str(i)+'_chg'+str(lag))\n",
    "\n",
    "# volume change\n",
    "for lag in [5,15,45,87,180]:\n",
    "    for level in range(3):\n",
    "        for x in ['askSize','bidSize']:\n",
    "            ft_original.append(x+str(level)+'_chg'+str(lag))\n",
    "            \n",
    "# rate sparsity\n",
    "for level in [1,2,3,7,14]:\n",
    "    for x in ['askRate','bidRate']:\n",
    "        ft_original.append(x+str(level)+'_dev')"
   ]
  },
  {
   "cell_type": "markdown",
   "metadata": {},
   "source": [
    "## load order book"
   ]
  },
  {
   "cell_type": "code",
   "execution_count": 21,
   "metadata": {},
   "outputs": [
    {
     "name": "stderr",
     "output_type": "stream",
     "text": [
      "/Users/shiyu/anaconda3/lib/python3.6/site-packages/numpy/lib/arraysetops.py:568: FutureWarning: elementwise comparison failed; returning scalar instead, but in the future will perform elementwise comparison\n",
      "  mask |= (ar1 == a)\n"
     ]
    }
   ],
   "source": [
    "df_orders = pd.read_csv('../data-orderbook.csv', index_col=0)"
   ]
  },
  {
   "cell_type": "code",
   "execution_count": 22,
   "metadata": {},
   "outputs": [],
   "source": [
    "for x in ['ask','bid']:\n",
    "    df_orders['lmt_'+x+'_new3+'] = df_orders['lmt_'+x+'_new3']+df_orders['lmt_'+x+'_new4']\\\n",
    "                          +df_orders['lmt_'+x+'_new5']+df_orders['lmt_'+x+'_new6-10']\\\n",
    "                          +df_orders['lmt_'+x+'_new11+']"
   ]
  },
  {
   "cell_type": "markdown",
   "metadata": {},
   "source": [
    "#### merge the data into df"
   ]
  },
  {
   "cell_type": "code",
   "execution_count": 24,
   "metadata": {},
   "outputs": [],
   "source": [
    "col_orders_tomerge = ['mkt_ask','mkt_bid',\n",
    "                      'lmt_bid_nrw','lmt_ask_nrw',\n",
    "                      'lmt_bid_cnl_ttl','lmt_ask_cnl_ttl',\n",
    "                      'lmt_bid_cnl_b3','lmt_ask_cnl_b3',\n",
    "                      'lmt_bid_new0','lmt_bid_new1','lmt_bid_new2','lmt_bid_new3+',\n",
    "                      'lmt_ask_new0','lmt_ask_new1','lmt_ask_new2','lmt_ask_new3+']\n",
    "\n",
    "for c in col_orders_tomerge:\n",
    "    df[c] = df_orders[c].fillna(0)"
   ]
  },
  {
   "cell_type": "code",
   "execution_count": 25,
   "metadata": {},
   "outputs": [],
   "source": [
    "col_orders_st = ['mkt_ask','mkt_bid',\n",
    "                 'lmt_bid_nrw','lmt_ask_nrw',\n",
    "                 'lmt_bid_cnl_ttl','lmt_ask_cnl_ttl',\n",
    "                 'lmt_bid_cnl_b3','lmt_ask_cnl_b3',\n",
    "                 'lmt_bid_new0','lmt_bid_new1','lmt_bid_new2',\n",
    "                 'lmt_ask_new0','lmt_ask_new1','lmt_ask_new2']\n",
    "col_orders_lt = ['lmt_bid_new3+', 'lmt_ask_new3+']\n",
    "\n",
    "ft_orders = []\n",
    "\n",
    "for c in col_orders_st:\n",
    "    df[c+'_acc10'] = df[c].rolling(10).sum()\n",
    "    ft_orders.append(c+'_acc10')\n",
    "    \n",
    "for c in col_orders_lt:\n",
    "    df[c+'_acc360'] = df[c].rolling(360).sum()\n",
    "    ft_orders.append(c+'_acc360')"
   ]
  },
  {
   "cell_type": "markdown",
   "metadata": {},
   "source": [
    "### new feature - time stays on current midprice/askRate0/bidRate0"
   ]
  },
  {
   "cell_type": "code",
   "execution_count": 26,
   "metadata": {},
   "outputs": [],
   "source": [
    "mp_tim = np.ones(len(df))\n",
    "\n",
    "for i in range(1,len(df)):\n",
    "    if df['midprice'][i] == df['midprice'][i-1]:\n",
    "        mp_tim[i]=mp_tim[i-1]+1"
   ]
  },
  {
   "cell_type": "code",
   "execution_count": 27,
   "metadata": {},
   "outputs": [],
   "source": [
    "df['midprice_stay']=mp_tim"
   ]
  },
  {
   "cell_type": "markdown",
   "metadata": {},
   "source": [
    "### new feature - weighted ask/bid/spread/midprice"
   ]
  },
  {
   "cell_type": "code",
   "execution_count": 28,
   "metadata": {},
   "outputs": [],
   "source": [
    "df['askRate_weighted'] = np.nansum(df[askrate_col].values*df[asksize_col].values,axis=1)\n",
    "df['bidRate_weighted'] = np.nansum(df[bidrate_col].values*df[bidsize_col].values,axis=1)\n",
    "df['midprice_weighted'] = (df['askRate_weighted']+df['bidRate_weighted'])/2\n",
    "df['spread_weighted'] = df['askRate_weighted']-df['bidRate_weighted']"
   ]
  },
  {
   "cell_type": "markdown",
   "metadata": {},
   "source": [
    "### new feature -  intensity"
   ]
  },
  {
   "cell_type": "code",
   "execution_count": 29,
   "metadata": {},
   "outputs": [],
   "source": [
    "df['mkt_ask_int']= df_orders['mkt_ask']/df['midprice_stay']\n",
    "df['mkt_bid_int']= df_orders['mkt_bid']/df['midprice_stay']"
   ]
  },
  {
   "cell_type": "code",
   "execution_count": 30,
   "metadata": {},
   "outputs": [],
   "source": [
    "ft_weighted = ['askRate_weighted','bidRate_weighted','midprice_weighted','spread_weighted']\n",
    "ft_intensity = ['mkt_ask_int','mkt_bid_int']"
   ]
  },
  {
   "cell_type": "markdown",
   "metadata": {},
   "source": [
    "### full features"
   ]
  },
  {
   "cell_type": "code",
   "execution_count": 31,
   "metadata": {},
   "outputs": [],
   "source": [
    "ft_full = list(ft_original) + list(ft_orders) + list(ft_weighted) + list(ft_intensity)"
   ]
  },
  {
   "cell_type": "code",
   "execution_count": 32,
   "metadata": {},
   "outputs": [
    {
     "data": {
      "text/plain": [
       "103"
      ]
     },
     "execution_count": 32,
     "metadata": {},
     "output_type": "execute_result"
    }
   ],
   "source": [
    "len(ft_full)"
   ]
  },
  {
   "cell_type": "markdown",
   "metadata": {},
   "source": [
    "## df_demean: normalize the features by mean and range"
   ]
  },
  {
   "cell_type": "code",
   "execution_count": 33,
   "metadata": {},
   "outputs": [],
   "source": [
    "# for whole book\n",
    "df_demean = df.copy()\n",
    "df_demean[ft_full] = (df_demean[ft_full]-df_demean[ft_full].mean())/(df_demean[ft_full].max()-df_demean[ft_full].min())\n",
    "y_all = df_demean['y'].copy()\n",
    "\n",
    "n = int(0.8*len(df_demean))\n",
    "t_train = df_demean[:n].copy().fillna(0)\n",
    "t_test = df_demean[n:].copy().fillna(0)"
   ]
  },
  {
   "cell_type": "code",
   "execution_count": 36,
   "metadata": {},
   "outputs": [],
   "source": [
    "# depend on the features\n",
    "ft = ft_full\n",
    "X_all = df_demean[ft].copy().fillna(0)\n",
    "X_train,X_test,y_train, y_test = train_test_split(X_all, y_all, 0.2)"
   ]
  },
  {
   "cell_type": "markdown",
   "metadata": {},
   "source": [
    "### not normalized"
   ]
  },
  {
   "cell_type": "code",
   "execution_count": 37,
   "metadata": {},
   "outputs": [],
   "source": [
    "# depend on the features\n",
    "ft = ft_full\n",
    "X_all_x = df[ft].copy().fillna(0)\n",
    "X_train,X_test,y_train, y_test = train_test_split(X_all_x, y_all, 0.2)"
   ]
  },
  {
   "cell_type": "markdown",
   "metadata": {},
   "source": [
    "# FEATURES TEST"
   ]
  },
  {
   "cell_type": "code",
   "execution_count": 34,
   "metadata": {},
   "outputs": [],
   "source": [
    "from sklearn.ensemble import RandomForestRegressor\n",
    "\n",
    "regr_parameters = {\n",
    "    'min_samples_leaf': 100,\n",
    "    'n_estimators': 2,\n",
    "    'n_jobs': -1,\n",
    "    'random_state': 0}"
   ]
  },
  {
   "cell_type": "markdown",
   "metadata": {},
   "source": [
    "### last submission: ft_originals"
   ]
  },
  {
   "cell_type": "code",
   "execution_count": 40,
   "metadata": {},
   "outputs": [
    {
     "name": "stdout",
     "output_type": "stream",
     "text": [
      "0:\ttemp train score: 0.059790, valid score: -0.035252\n",
      "10:\ttemp train score: 0.060399, valid score: 0.018712\n",
      "20:\ttemp train score: 0.056699, valid score: 0.021306\n",
      "30:\ttemp train score: 0.057101, valid score: 0.022913\n",
      "40:\ttemp train score: 0.059127, valid score: 0.023705\n",
      "50:\ttemp train score: 0.061136, valid score: 0.024161\n",
      "60:\ttemp train score: 0.056430, valid score: 0.024315\n",
      "70:\ttemp train score: 0.062140, valid score: 0.024492\n",
      "80:\ttemp train score: 0.062404, valid score: 0.024312\n",
      "86:\ttemp train score: 0.060463, valid score: 0.024356\n"
     ]
    }
   ],
   "source": [
    "# no norm\n",
    "ft = ft_original\n",
    "ft.remove('bard')\n",
    "X_all = df[ft].copy().fillna(0)\n",
    "X_train,X_test,y_train, y_test = train_test_split(X_all, y_all, 0.2)\n",
    "\n",
    "regr_org_x, train_score, valid_score = RF87slice(regr_parameters, X_train, y_train, X_test, y_test)"
   ]
  },
  {
   "cell_type": "markdown",
   "metadata": {},
   "source": [
    "#### add bard"
   ]
  },
  {
   "cell_type": "code",
   "execution_count": 39,
   "metadata": {},
   "outputs": [
    {
     "name": "stdout",
     "output_type": "stream",
     "text": [
      "0:\ttemp train score: 0.059790, valid score: -0.035252\n",
      "10:\ttemp train score: 0.059648, valid score: 0.018936\n",
      "20:\ttemp train score: 0.056699, valid score: 0.021472\n",
      "30:\ttemp train score: 0.057101, valid score: 0.022999\n",
      "40:\ttemp train score: 0.059127, valid score: 0.023741\n",
      "50:\ttemp train score: 0.061136, valid score: 0.024194\n",
      "60:\ttemp train score: 0.056430, valid score: 0.024342\n",
      "70:\ttemp train score: 0.061478, valid score: 0.024525\n",
      "80:\ttemp train score: 0.062404, valid score: 0.024338\n",
      "86:\ttemp train score: 0.061187, valid score: 0.024412\n"
     ]
    }
   ],
   "source": [
    "# no norm \n",
    "ft = ft_original\n",
    "X_all = df[ft].copy().fillna(0)\n",
    "X_train,X_test,y_train, y_test = train_test_split(X_all, y_all, 0.2)\n",
    "\n",
    "regr_org_x, train_score, valid_score = RF87slice(regr_parameters, X_train, y_train, X_test, y_test)"
   ]
  },
  {
   "cell_type": "code",
   "execution_count": 43,
   "metadata": {},
   "outputs": [
    {
     "name": "stdout",
     "output_type": "stream",
     "text": [
      "0:\ttemp train score: 0.060527, valid score: -0.033111\n",
      "20:\ttemp train score: 0.056748, valid score: 0.021297\n",
      "40:\ttemp train score: 0.059279, valid score: 0.023715\n",
      "60:\ttemp train score: 0.055909, valid score: 0.024293\n",
      "80:\ttemp train score: 0.062541, valid score: 0.024296\n",
      "86:\ttemp train score: 0.059658, valid score: 0.024337\n"
     ]
    }
   ],
   "source": [
    "# norm\n",
    "ft = ft_original\n",
    "X_all = df_demean[ft].copy().fillna(0)\n",
    "X_train,X_test,y_train, y_test = train_test_split(X_all, y_all, 0.2)\n",
    "\n",
    "regr_org, train_score, valid_score = RF87slice(regr_parameters, X_train, y_train, X_test, y_test)"
   ]
  },
  {
   "cell_type": "markdown",
   "metadata": {},
   "source": [
    "## BASELINE: ft_full"
   ]
  },
  {
   "cell_type": "code",
   "execution_count": 35,
   "metadata": {},
   "outputs": [
    {
     "name": "stdout",
     "output_type": "stream",
     "text": [
      "0:\ttemp train score: 0.061554, valid score: -0.034545\n",
      "20:\ttemp train score: 0.059634, valid score: 0.021562\n",
      "40:\ttemp train score: 0.062208, valid score: 0.023873\n",
      "60:\ttemp train score: 0.062382, valid score: 0.024695\n",
      "80:\ttemp train score: 0.061753, valid score: 0.024868\n",
      "86:\ttemp train score: 0.059581, valid score: 0.024931\n"
     ]
    }
   ],
   "source": [
    "# no norm\n",
    "ft = ft_full\n",
    "X_all = df[ft].copy().fillna(0)\n",
    "X_train,X_test,y_train, y_test = train_test_split(X_all, y_all, 0.2)\n",
    "\n",
    "regr_full_x, train_score, valid_score = RF87slice(regr_parameters, X_train, y_train, X_test, y_test)"
   ]
  },
  {
   "cell_type": "code",
   "execution_count": 36,
   "metadata": {},
   "outputs": [
    {
     "name": "stdout",
     "output_type": "stream",
     "text": [
      "0:\ttemp train score: 0.061137, valid score: -0.034402\n",
      "20:\ttemp train score: 0.059634, valid score: 0.021535\n",
      "40:\ttemp train score: 0.062107, valid score: 0.023945\n",
      "60:\ttemp train score: 0.062344, valid score: 0.024750\n",
      "80:\ttemp train score: 0.062967, valid score: 0.024891\n",
      "86:\ttemp train score: 0.059663, valid score: 0.024954\n"
     ]
    }
   ],
   "source": [
    "# norm\n",
    "X_all = df_demean[ft].copy().fillna(0)\n",
    "X_train,X_test,y_train, y_test = train_test_split(X_all, y_all, 0.2)\n",
    "\n",
    "regr_full, train_score, valid_score = RF87slice(regr_parameters, X_train, y_train, X_test, y_test)"
   ]
  },
  {
   "cell_type": "markdown",
   "metadata": {},
   "source": [
    "### last time hand picked features"
   ]
  },
  {
   "cell_type": "code",
   "execution_count": 37,
   "metadata": {},
   "outputs": [],
   "source": [
    "ft_pick = ['bard',\n",
    " 'midprice_chg45',\n",
    " 'spread_ma5',\n",
    " 'volumn_imb_0',\n",
    " 'volumn_imb_1',\n",
    " 'volumn_imb_2',\n",
    " 'volumn_imb_1_chg5',\n",
    " 'volumn_imb_1_chg360',\n",
    " 'volumn_imb_2_chg360',\n",
    " 'volumn_imb_3+_chg360',\n",
    " 'askSize0_chg15',\n",
    " 'bidSize0_chg15',\n",
    " 'askSize0_chg180',\n",
    " 'bidSize0_chg180',\n",
    " 'askSize1_chg180',\n",
    " 'bidSize1_chg180',\n",
    " 'askRate3_dev',\n",
    " 'bidRate3_dev',\n",
    " 'mkt_ask_acc10',\n",
    " 'mkt_bid_acc10',\n",
    " 'lmt_bid_cnl_b3_acc10',\n",
    " 'lmt_ask_cnl_b3_acc10',\n",
    " 'lmt_bid_new0_acc10',\n",
    " 'lmt_bid_new1_acc10',\n",
    " 'lmt_ask_new0_acc10',\n",
    " 'lmt_ask_new1_acc10',\n",
    " 'mkt_ask_int',\n",
    " 'mkt_bid_int',\n",
    " 'lmt_bid_new2_acc10',\n",
    " 'lmt_ask_new2_acc10',\n",
    " 'lmt_bid_new3+_acc360',\n",
    " 'lmt_ask_new3+_acc360']"
   ]
  },
  {
   "cell_type": "code",
   "execution_count": 38,
   "metadata": {},
   "outputs": [
    {
     "name": "stdout",
     "output_type": "stream",
     "text": [
      "0:\ttemp train score: 0.048654, valid score: -0.019629\n",
      "20:\ttemp train score: 0.048117, valid score: 0.023166\n",
      "40:\ttemp train score: 0.049493, valid score: 0.025384\n",
      "60:\ttemp train score: 0.051554, valid score: 0.025906\n",
      "80:\ttemp train score: 0.051194, valid score: 0.025981\n",
      "86:\ttemp train score: 0.050662, valid score: 0.025912\n"
     ]
    }
   ],
   "source": [
    "# no norm\n",
    "ft = ft_pick\n",
    "X_all = df[ft].copy().fillna(0)\n",
    "X_train,X_test,y_train, y_test = train_test_split(X_all, y_all, 0.2)\n",
    "\n",
    "regr_pick_x, train_score, valid_score = RF87slice(regr_parameters, X_train, y_train, X_test, y_test)"
   ]
  },
  {
   "cell_type": "code",
   "execution_count": 39,
   "metadata": {},
   "outputs": [
    {
     "name": "stdout",
     "output_type": "stream",
     "text": [
      "0:\ttemp train score: 0.048597, valid score: -0.019684\n",
      "20:\ttemp train score: 0.048117, valid score: 0.023166\n",
      "40:\ttemp train score: 0.049493, valid score: 0.025390\n",
      "60:\ttemp train score: 0.051554, valid score: 0.025906\n",
      "80:\ttemp train score: 0.051194, valid score: 0.025984\n",
      "86:\ttemp train score: 0.051051, valid score: 0.025919\n"
     ]
    }
   ],
   "source": [
    "# norm\n",
    "X_all = df_demean[ft].copy().fillna(0)\n",
    "X_train,X_test,y_train, y_test = train_test_split(X_all, y_all, 0.2)\n",
    "\n",
    "regr_pick, train_score, valid_score = RF87slice(regr_parameters, X_train, y_train, X_test, y_test)"
   ]
  },
  {
   "cell_type": "markdown",
   "metadata": {},
   "source": [
    "### ? what if we add two more estimator?"
   ]
  },
  {
   "cell_type": "code",
   "execution_count": 40,
   "metadata": {},
   "outputs": [
    {
     "name": "stdout",
     "output_type": "stream",
     "text": [
      "0:\ttemp train score: 0.062427, valid score: 0.004142\n",
      "20:\ttemp train score: 0.062223, valid score: 0.025048\n",
      "40:\ttemp train score: 0.064950, valid score: 0.025957\n",
      "60:\ttemp train score: 0.063956, valid score: 0.026393\n",
      "80:\ttemp train score: 0.065617, valid score: 0.026647\n",
      "86:\ttemp train score: 0.065959, valid score: 0.026625\n"
     ]
    }
   ],
   "source": [
    "# norm\n",
    "ft = ft_pick\n",
    "X_all = df_demean[ft].copy().fillna(0)\n",
    "X_train,X_test,y_train, y_test = train_test_split(X_all, y_all, 0.2)\n",
    "\n",
    "this_regr_parameters = regr_parameters.copy()\n",
    "this_regr_parameters['n_estimators']=4\n",
    "\n",
    "regr_pick_nolmt, train_score, valid_score = RF87slice(this_regr_parameters, X_train, y_train, X_test, y_test)"
   ]
  },
  {
   "cell_type": "markdown",
   "metadata": {},
   "source": [
    "### ? what if we decrease leaf size?"
   ]
  },
  {
   "cell_type": "code",
   "execution_count": 41,
   "metadata": {},
   "outputs": [
    {
     "name": "stdout",
     "output_type": "stream",
     "text": [
      "0:\ttemp train score: 0.077283, valid score: -0.002897\n",
      "20:\ttemp train score: 0.075324, valid score: 0.025197\n",
      "40:\ttemp train score: 0.079247, valid score: 0.026515\n",
      "60:\ttemp train score: 0.077153, valid score: 0.026902\n",
      "80:\ttemp train score: 0.081189, valid score: 0.027152\n",
      "86:\ttemp train score: 0.080132, valid score: 0.027131\n"
     ]
    }
   ],
   "source": [
    "# norm\n",
    "ft = ft_pick\n",
    "X_all = df_demean[ft].copy().fillna(0)\n",
    "X_train,X_test,y_train, y_test = train_test_split(X_all, y_all, 0.2)\n",
    "\n",
    "this_regr_parameters = regr_parameters.copy()\n",
    "this_regr_parameters['n_estimators']=4\n",
    "this_regr_parameters['min_samples_leaf']=75\n",
    "\n",
    "regr_pick_nolmt, train_score, valid_score = RF87slice(this_regr_parameters, X_train, y_train, X_test, y_test)"
   ]
  },
  {
   "cell_type": "markdown",
   "metadata": {},
   "source": [
    "### last time hand picked features - no limit order info"
   ]
  },
  {
   "cell_type": "code",
   "execution_count": 81,
   "metadata": {},
   "outputs": [],
   "source": [
    "ft_pick_nolmt = []\n",
    "for f in ft_pick:\n",
    "    if 'lmt' not in f:\n",
    "        ft_pick_nolmt.append(f)"
   ]
  },
  {
   "cell_type": "code",
   "execution_count": 82,
   "metadata": {},
   "outputs": [
    {
     "name": "stdout",
     "output_type": "stream",
     "text": [
      "0:\ttemp train score: 0.044633, valid score: -0.014289\n",
      "20:\ttemp train score: 0.043551, valid score: 0.023427\n",
      "40:\ttemp train score: 0.046828, valid score: 0.025294\n",
      "60:\ttemp train score: 0.047387, valid score: 0.025697\n",
      "80:\ttemp train score: 0.050347, valid score: 0.025755\n",
      "86:\ttemp train score: 0.047198, valid score: 0.025769\n"
     ]
    }
   ],
   "source": [
    "# no norm\n",
    "ft = ft_pick_nolmt\n",
    "X_all = df[ft].copy().fillna(0)\n",
    "X_train,X_test,y_train, y_test = train_test_split(X_all, y_all, 0.2)\n",
    "\n",
    "regr_pick_nolmt_x, train_score, valid_score = RF87slice(regr_parameters, X_train, y_train, X_test, y_test)"
   ]
  },
  {
   "cell_type": "code",
   "execution_count": 83,
   "metadata": {
    "scrolled": true
   },
   "outputs": [
    {
     "name": "stdout",
     "output_type": "stream",
     "text": [
      "0:\ttemp train score: 0.044635, valid score: -0.014292\n",
      "20:\ttemp train score: 0.043551, valid score: 0.023413\n",
      "40:\ttemp train score: 0.046828, valid score: 0.025299\n",
      "60:\ttemp train score: 0.047387, valid score: 0.025713\n",
      "80:\ttemp train score: 0.050347, valid score: 0.025767\n",
      "86:\ttemp train score: 0.047198, valid score: 0.025780\n"
     ]
    }
   ],
   "source": [
    "# norm\n",
    "X_all = df_demean[ft].copy().fillna(0)\n",
    "X_train,X_test,y_train, y_test = train_test_split(X_all, y_all, 0.2)\n",
    "\n",
    "regr_pick_nolmt, train_score, valid_score = RF87slice(regr_parameters, X_train, y_train, X_test, y_test)"
   ]
  },
  {
   "cell_type": "markdown",
   "metadata": {},
   "source": [
    "# test each group performance on single RF"
   ]
  },
  {
   "cell_type": "code",
   "execution_count": 42,
   "metadata": {},
   "outputs": [],
   "source": [
    "def RFsingle(this_regr_params, X_train, y_train, X_test, y_test, full=1):\n",
    "    if full == 1:\n",
    "        r = range(87)\n",
    "    else:\n",
    "        r = range(0,87,full)\n",
    "        \n",
    "    for i in r:\n",
    "        regr_temp = RandomForestRegressor(**this_regr_params)\n",
    "\n",
    "        X_train_this, y_train_this = X_train[i::87], y_train[i::87]\n",
    "        regr_temp.fit(X_train_this, y_train_this)\n",
    "\n",
    "        if i == 0:\n",
    "            regr = regr_temp\n",
    "        else:\n",
    "            regr = combine_rfs(regr, regr_temp)\n",
    "\n",
    "    return regr, regr.score(X_train, y_train.values), regr.score(X_test, y_test.values)\n",
    "\n",
    "def test_ft_group(ft_test,ft_full,benchmark,t_train,t_test,regr_parameters,full=5):\n",
    "    regr_ft = {}\n",
    "    ft_weak = []\n",
    "    \n",
    "    for f in ft_test:\n",
    "\n",
    "        ft = ft_full.copy()\n",
    "        ft.remove(f)\n",
    "\n",
    "        X_train, X_test = t_train[ft], t_test[ft]\n",
    "        y_train, y_test = t_train['y'], t_test['y']\n",
    "        \n",
    "        regr,train_score,valid_score = RFsingle(regr_parameters, X_train, y_train, X_test, y_test,full)\n",
    "        \n",
    "        if benchmark == None:\n",
    "            suffix =''\n",
    "        elif valid_score > benchmark:\n",
    "            suffix ='--> beat!'\n",
    "            ft_weak.append(f)\n",
    "        else:\n",
    "            suffix =''\n",
    "        \n",
    "        print('%25s: train score: %.6f, valid score: %.6f'%(f,train_score,valid_score)+suffix)\n",
    "        \n",
    "        regr_ft[f]=regr\n",
    "    \n",
    "    return regr_ft, ft_weak"
   ]
  },
  {
   "cell_type": "markdown",
   "metadata": {},
   "source": [
    "### group combinations"
   ]
  },
  {
   "cell_type": "code",
   "execution_count": 43,
   "metadata": {},
   "outputs": [],
   "source": [
    "# [ base case you want to work with]\n",
    "ft = ft_full\n",
    "X_all = df_demean[ft].copy().fillna(0)\n",
    "X_train,X_test,y_train, y_test = train_test_split(X_all, y_all, 0.2)\n",
    "\n",
    "regr, train_score, valid_score_full = RFsingle(regr_parameters, X_train, y_train, X_test, y_test,5)"
   ]
  },
  {
   "cell_type": "code",
   "execution_count": 44,
   "metadata": {},
   "outputs": [
    {
     "data": {
      "text/plain": [
       "0.02271956603738079"
      ]
     },
     "execution_count": 44,
     "metadata": {},
     "output_type": "execute_result"
    }
   ],
   "source": [
    "valid_score_full"
   ]
  },
  {
   "cell_type": "code",
   "execution_count": 45,
   "metadata": {},
   "outputs": [],
   "source": [
    "# [ base case you want to work with]\n",
    "ft = ft_pick\n",
    "X_all = df_demean[ft].copy().fillna(0)\n",
    "X_train,X_test,y_train, y_test = train_test_split(X_all, y_all, 0.2)\n",
    "\n",
    "regr_pick, train_score, valid_score_pick = RFsingle(regr_parameters, X_train, y_train, X_test, y_test,5)"
   ]
  },
  {
   "cell_type": "code",
   "execution_count": 46,
   "metadata": {},
   "outputs": [
    {
     "data": {
      "text/plain": [
       "0.02437159862544025"
      ]
     },
     "execution_count": 46,
     "metadata": {},
     "output_type": "execute_result"
    }
   ],
   "source": [
    "valid_score_pick"
   ]
  },
  {
   "cell_type": "markdown",
   "metadata": {},
   "source": [
    "# choose the features - benchmark 0.02271956603738079"
   ]
  },
  {
   "cell_type": "markdown",
   "metadata": {},
   "source": [
    "## ft_original, benchmark, all 104 features"
   ]
  },
  {
   "cell_type": "code",
   "execution_count": 47,
   "metadata": {
    "scrolled": true
   },
   "outputs": [
    {
     "name": "stdout",
     "output_type": "stream",
     "text": [
      "                   spread: train score: 0.028463, valid score: 0.022687\n",
      "                     bard: train score: 0.028351, valid score: 0.022478\n",
      "            midprice_chg5: train score: 0.028475, valid score: 0.022668\n",
      "           midprice_chg15: train score: 0.028436, valid score: 0.022707\n",
      "           midprice_chg45: train score: 0.028474, valid score: 0.022693\n",
      "           midprice_chg87: train score: 0.028343, valid score: 0.022754--> beat!\n",
      "          midprice_chg360: train score: 0.028456, valid score: 0.022728--> beat!\n",
      "               spread_ma5: train score: 0.028472, valid score: 0.022737--> beat!\n",
      "              spread_ma15: train score: 0.028415, valid score: 0.022906--> beat!\n",
      "              spread_ma45: train score: 0.028387, valid score: 0.022535\n",
      "              spread_ma87: train score: 0.028316, valid score: 0.022829--> beat!\n",
      "             spread_ma360: train score: 0.028436, valid score: 0.022226\n",
      "            midprice_std5: train score: 0.028507, valid score: 0.022677\n",
      "           midprice_std15: train score: 0.028416, valid score: 0.022525\n",
      "           midprice_std45: train score: 0.028438, valid score: 0.022914--> beat!\n",
      "           midprice_std87: train score: 0.028583, valid score: 0.022649\n",
      "          midprice_std360: train score: 0.028058, valid score: 0.022650\n",
      "             volumn_imb_0: train score: 0.026905, valid score: 0.020303\n",
      "             volumn_imb_1: train score: 0.027643, valid score: 0.021451\n",
      "             volumn_imb_2: train score: 0.028306, valid score: 0.022830--> beat!\n",
      "            volumn_imb_3+: train score: 0.028354, valid score: 0.023202--> beat!\n",
      "        volumn_imb_0_chg5: train score: 0.028499, valid score: 0.023562--> beat!\n",
      "        volumn_imb_1_chg5: train score: 0.028530, valid score: 0.022510\n",
      "        volumn_imb_2_chg5: train score: 0.028526, valid score: 0.022660\n",
      "       volumn_imb_3+_chg5: train score: 0.028552, valid score: 0.022681\n",
      "       volumn_imb_0_chg15: train score: 0.028364, valid score: 0.023210--> beat!\n",
      "       volumn_imb_1_chg15: train score: 0.028498, valid score: 0.022458\n",
      "       volumn_imb_2_chg15: train score: 0.028460, valid score: 0.022273\n",
      "      volumn_imb_3+_chg15: train score: 0.028645, valid score: 0.022842--> beat!\n",
      "       volumn_imb_0_chg45: train score: 0.028588, valid score: 0.022883--> beat!\n",
      "       volumn_imb_1_chg45: train score: 0.028690, valid score: 0.022571\n",
      "       volumn_imb_2_chg45: train score: 0.028483, valid score: 0.022800--> beat!\n",
      "      volumn_imb_3+_chg45: train score: 0.028547, valid score: 0.022946--> beat!\n",
      "       volumn_imb_0_chg87: train score: 0.028476, valid score: 0.022710\n",
      "       volumn_imb_1_chg87: train score: 0.028460, valid score: 0.022803--> beat!\n",
      "       volumn_imb_2_chg87: train score: 0.028372, valid score: 0.022687\n",
      "      volumn_imb_3+_chg87: train score: 0.028405, valid score: 0.022702\n",
      "      volumn_imb_0_chg360: train score: 0.028497, valid score: 0.022620\n",
      "      volumn_imb_1_chg360: train score: 0.028393, valid score: 0.022817--> beat!\n",
      "      volumn_imb_2_chg360: train score: 0.028545, valid score: 0.022590\n",
      "     volumn_imb_3+_chg360: train score: 0.028361, valid score: 0.022529\n",
      "            askSize0_chg5: train score: 0.028461, valid score: 0.022688\n",
      "            bidSize0_chg5: train score: 0.028309, valid score: 0.022406\n",
      "            askSize1_chg5: train score: 0.028493, valid score: 0.022761--> beat!\n",
      "            bidSize1_chg5: train score: 0.028459, valid score: 0.022682\n",
      "            askSize2_chg5: train score: 0.028476, valid score: 0.022752--> beat!\n",
      "            bidSize2_chg5: train score: 0.028443, valid score: 0.022689\n",
      "           askSize0_chg15: train score: 0.028445, valid score: 0.022685\n",
      "           bidSize0_chg15: train score: 0.028495, valid score: 0.022565\n",
      "           askSize1_chg15: train score: 0.028449, valid score: 0.022576\n",
      "           bidSize1_chg15: train score: 0.028442, valid score: 0.022669\n",
      "           askSize2_chg15: train score: 0.028460, valid score: 0.022689\n",
      "           bidSize2_chg15: train score: 0.028491, valid score: 0.022763--> beat!\n",
      "           askSize0_chg45: train score: 0.028370, valid score: 0.022935--> beat!\n",
      "           bidSize0_chg45: train score: 0.028409, valid score: 0.022570\n",
      "           askSize1_chg45: train score: 0.028391, valid score: 0.022665\n",
      "           bidSize1_chg45: train score: 0.028460, valid score: 0.022667\n",
      "           askSize2_chg45: train score: 0.028474, valid score: 0.022634\n",
      "           bidSize2_chg45: train score: 0.028485, valid score: 0.022874--> beat!\n",
      "           askSize0_chg87: train score: 0.028429, valid score: 0.022681\n",
      "           bidSize0_chg87: train score: 0.028464, valid score: 0.022860--> beat!\n",
      "           askSize1_chg87: train score: 0.028471, valid score: 0.022794--> beat!\n",
      "           bidSize1_chg87: train score: 0.028402, valid score: 0.022845--> beat!\n",
      "           askSize2_chg87: train score: 0.028532, valid score: 0.022617\n",
      "           bidSize2_chg87: train score: 0.028548, valid score: 0.023013--> beat!\n",
      "          askSize0_chg180: train score: 0.028459, valid score: 0.022628\n",
      "          bidSize0_chg180: train score: 0.028501, valid score: 0.022604\n",
      "          askSize1_chg180: train score: 0.028482, valid score: 0.022823--> beat!\n",
      "          bidSize1_chg180: train score: 0.028467, valid score: 0.022734--> beat!\n",
      "          askSize2_chg180: train score: 0.028442, valid score: 0.022637\n",
      "          bidSize2_chg180: train score: 0.028442, valid score: 0.022721--> beat!\n",
      "             askRate1_dev: train score: 0.028465, valid score: 0.022720\n",
      "             bidRate1_dev: train score: 0.028465, valid score: 0.022720\n",
      "             askRate2_dev: train score: 0.028465, valid score: 0.022720\n",
      "             bidRate2_dev: train score: 0.028465, valid score: 0.022720\n",
      "             askRate3_dev: train score: 0.028529, valid score: 0.022463\n",
      "             bidRate3_dev: train score: 0.028419, valid score: 0.022696\n",
      "             askRate7_dev: train score: 0.028390, valid score: 0.022618\n",
      "             bidRate7_dev: train score: 0.028330, valid score: 0.022466\n",
      "            askRate14_dev: train score: 0.028471, valid score: 0.022763--> beat!\n",
      "            bidRate14_dev: train score: 0.028403, valid score: 0.022795--> beat!\n"
     ]
    }
   ],
   "source": [
    "benchmark = valid_score_full\n",
    "regr_ft_org, ft_weak_org = test_ft_group(ft_original,ft_full,benchmark,t_train,t_test,regr_parameters)"
   ]
  },
  {
   "cell_type": "code",
   "execution_count": 101,
   "metadata": {},
   "outputs": [],
   "source": [
    "regr_imp = pd.DataFrame(regr.feature_importances_, index = ft_full ).sort_values(0,ascending=False)"
   ]
  },
  {
   "cell_type": "code",
   "execution_count": 68,
   "metadata": {},
   "outputs": [
    {
     "data": {
      "text/plain": [
       "volumn_imb_0           0.100350\n",
       "volumn_imb_1           0.034606\n",
       "midprice_std360        0.032747\n",
       "volumn_imb_0_chg5      0.030299\n",
       "midprice_std87         0.026348\n",
       "bidRate_weighted       0.024619\n",
       "volumn_imb_0_chg15     0.022485\n",
       "midprice_weighted      0.020919\n",
       "askRate_weighted       0.020389\n",
       "volumn_imb_2           0.019206\n",
       "volumn_imb_1_chg45     0.019109\n",
       "midprice_std45         0.018946\n",
       "volumn_imb_1_chg87     0.018751\n",
       "volumn_imb_2_chg87     0.018358\n",
       "spread_ma360           0.018344\n",
       "volumn_imb_0_chg45     0.017826\n",
       "volumn_imb_1_chg360    0.017129\n",
       "volumn_imb_0_chg360    0.016694\n",
       "volumn_imb_2_chg360    0.015991\n",
       "volumn_imb_3+_chg45    0.015720\n",
       "dtype: float64"
      ]
     },
     "execution_count": 68,
     "metadata": {},
     "output_type": "execute_result"
    }
   ],
   "source": [
    "regr_imp.head(20)"
   ]
  },
  {
   "cell_type": "code",
   "execution_count": 64,
   "metadata": {},
   "outputs": [
    {
     "name": "stdout",
     "output_type": "stream",
     "text": [
      "midprice_std45\n",
      "volumn_imb_2\n",
      "volumn_imb_0_chg5\n",
      "volumn_imb_0_chg15\n",
      "volumn_imb_0_chg45\n",
      "volumn_imb_3+_chg45\n",
      "volumn_imb_1_chg87\n",
      "volumn_imb_1_chg360\n"
     ]
    }
   ],
   "source": [
    "for f in ft_weak_org:\n",
    "    if f in regr_imp.iloc[:20]:\n",
    "        print(f)"
   ]
  },
  {
   "cell_type": "markdown",
   "metadata": {},
   "source": [
    "#### remove all the weak features, to see if r2 improves"
   ]
  },
  {
   "cell_type": "code",
   "execution_count": 49,
   "metadata": {},
   "outputs": [],
   "source": [
    "ft_full_opt_org = ft_full.copy()\n",
    "for f in ft_weak_org:\n",
    "    ft_full_opt_org.remove(f)\n",
    "\n",
    "ft = ft_full_opt_org\n",
    "X_all = df_demean[ft].copy().fillna(0)\n",
    "X_train,X_test,y_train, y_test = train_test_split(X_all, y_all, 0.2)\n",
    "\n",
    "regr_opt_org,_,valid_score_opt_org = RFsingle(regr_parameters, X_train, y_train, \n",
    "                                                                  X_test, y_test,5)"
   ]
  },
  {
   "cell_type": "code",
   "execution_count": 50,
   "metadata": {},
   "outputs": [
    {
     "data": {
      "text/plain": [
       "0.023583779310526465"
      ]
     },
     "execution_count": 50,
     "metadata": {},
     "output_type": "execute_result"
    }
   ],
   "source": [
    "valid_score_opt_org"
   ]
  },
  {
   "cell_type": "code",
   "execution_count": 88,
   "metadata": {},
   "outputs": [],
   "source": [
    "regr_imp_opt_org = pd.Series(regr_opt_org.feature_importances_, index = ft_full_opt_org).sort_values(ascending=False)\n",
    "regr_imp_opt_org['rank'] = regr_imp_opt_org.index"
   ]
  },
  {
   "cell_type": "code",
   "execution_count": 74,
   "metadata": {},
   "outputs": [
    {
     "name": "stdout",
     "output_type": "stream",
     "text": [
      "spread_ma45\n",
      "volumn_imb_1_chg45\n",
      "volumn_imb_2_chg360\n",
      "volumn_imb_3+_chg360\n"
     ]
    }
   ],
   "source": [
    "for f in ft_weak_org2:\n",
    "    if f in regr_imp_opt_org.head(20):\n",
    "        print(f)"
   ]
  },
  {
   "cell_type": "markdown",
   "metadata": {},
   "source": [
    "#### another round"
   ]
  },
  {
   "cell_type": "code",
   "execution_count": 51,
   "metadata": {
    "scrolled": true
   },
   "outputs": [
    {
     "name": "stdout",
     "output_type": "stream",
     "text": [
      "                   spread: train score: 0.028183, valid score: 0.023689--> beat!\n",
      "                     bard: train score: 0.028287, valid score: 0.023526\n",
      "            midprice_chg5: train score: 0.028325, valid score: 0.023567\n",
      "           midprice_chg15: train score: 0.028320, valid score: 0.023549\n",
      "           midprice_chg45: train score: 0.028242, valid score: 0.023460\n",
      "              spread_ma45: train score: 0.028079, valid score: 0.023728--> beat!\n",
      "             spread_ma360: train score: 0.028155, valid score: 0.023228\n",
      "            midprice_std5: train score: 0.028324, valid score: 0.023633--> beat!\n",
      "           midprice_std15: train score: 0.028318, valid score: 0.023235\n",
      "           midprice_std87: train score: 0.028222, valid score: 0.023301\n",
      "          midprice_std360: train score: 0.027932, valid score: 0.023218\n",
      "             volumn_imb_0: train score: 0.026282, valid score: 0.020379\n",
      "             volumn_imb_1: train score: 0.027260, valid score: 0.023243\n",
      "        volumn_imb_1_chg5: train score: 0.028437, valid score: 0.023388\n",
      "        volumn_imb_2_chg5: train score: 0.028381, valid score: 0.023840--> beat!\n",
      "       volumn_imb_3+_chg5: train score: 0.028451, valid score: 0.023354\n",
      "       volumn_imb_1_chg15: train score: 0.028302, valid score: 0.023257\n",
      "       volumn_imb_2_chg15: train score: 0.028370, valid score: 0.023499\n",
      "       volumn_imb_1_chg45: train score: 0.028398, valid score: 0.023875--> beat!\n",
      "       volumn_imb_0_chg87: train score: 0.028331, valid score: 0.023491\n",
      "       volumn_imb_2_chg87: train score: 0.028356, valid score: 0.023370\n",
      "      volumn_imb_3+_chg87: train score: 0.028222, valid score: 0.023475\n",
      "      volumn_imb_0_chg360: train score: 0.028337, valid score: 0.023124\n",
      "      volumn_imb_2_chg360: train score: 0.027979, valid score: 0.023904--> beat!\n",
      "     volumn_imb_3+_chg360: train score: 0.028079, valid score: 0.023629--> beat!\n",
      "            askSize0_chg5: train score: 0.028166, valid score: 0.023410\n",
      "            bidSize0_chg5: train score: 0.028061, valid score: 0.023187\n",
      "            bidSize1_chg5: train score: 0.028372, valid score: 0.023533\n",
      "            bidSize2_chg5: train score: 0.028319, valid score: 0.023561\n",
      "           askSize0_chg15: train score: 0.028075, valid score: 0.023042\n",
      "           bidSize0_chg15: train score: 0.028190, valid score: 0.022620\n",
      "           askSize1_chg15: train score: 0.028326, valid score: 0.023544\n",
      "           bidSize1_chg15: train score: 0.028255, valid score: 0.023807--> beat!\n",
      "           askSize2_chg15: train score: 0.028345, valid score: 0.023630--> beat!\n",
      "           bidSize0_chg45: train score: 0.028319, valid score: 0.023406\n",
      "           askSize1_chg45: train score: 0.028239, valid score: 0.023604--> beat!\n",
      "           bidSize1_chg45: train score: 0.028328, valid score: 0.023534\n",
      "           askSize2_chg45: train score: 0.028290, valid score: 0.023453\n",
      "           askSize0_chg87: train score: 0.028292, valid score: 0.023845--> beat!\n",
      "           askSize2_chg87: train score: 0.028366, valid score: 0.023503\n",
      "          askSize0_chg180: train score: 0.028348, valid score: 0.023567\n",
      "          bidSize0_chg180: train score: 0.028314, valid score: 0.023536\n",
      "          askSize2_chg180: train score: 0.028309, valid score: 0.023736--> beat!\n",
      "             askRate1_dev: train score: 0.028339, valid score: 0.023584--> beat!\n",
      "             bidRate1_dev: train score: 0.028339, valid score: 0.023584--> beat!\n",
      "             askRate2_dev: train score: 0.028339, valid score: 0.023584--> beat!\n",
      "             bidRate2_dev: train score: 0.028337, valid score: 0.023538\n",
      "             askRate3_dev: train score: 0.028290, valid score: 0.023460\n",
      "             bidRate3_dev: train score: 0.028329, valid score: 0.023588--> beat!\n",
      "             askRate7_dev: train score: 0.028279, valid score: 0.023452\n",
      "             bidRate7_dev: train score: 0.028070, valid score: 0.023455\n"
     ]
    }
   ],
   "source": [
    "ft_org_opt_org = ft_original.copy()\n",
    "for f in ft_weak_org:\n",
    "    ft_org_opt_org.remove(f)\n",
    "\n",
    "benchmark = valid_score_opt_org\n",
    "regr_ft_org2, ft_weak_org2 = test_ft_group(ft_org_opt_org,ft_full_opt_org,benchmark,t_train,t_test,regr_parameters)"
   ]
  },
  {
   "cell_type": "code",
   "execution_count": 69,
   "metadata": {},
   "outputs": [
    {
     "data": {
      "text/plain": [
       "16"
      ]
     },
     "execution_count": 69,
     "metadata": {},
     "output_type": "execute_result"
    }
   ],
   "source": [
    "len(ft_weak_org2)"
   ]
  },
  {
   "cell_type": "code",
   "execution_count": 76,
   "metadata": {},
   "outputs": [],
   "source": [
    "ft_full_opt_org2 = ft_full_opt_org.copy()\n",
    "for f in ft_weak_org2:\n",
    "    ft_full_opt_org2.remove(f)\n",
    "\n",
    "ft = ft_full_opt_org2\n",
    "X_all = df_demean[ft].copy().fillna(0)\n",
    "X_train,X_test,y_train, y_test = train_test_split(X_all, y_all, 0.2)\n",
    "\n",
    "regr_opt_org2,_,valid_score_opt_org2 = RFsingle(regr_parameters, X_train, y_train, \n",
    "                                                                  X_test, y_test,5)"
   ]
  },
  {
   "cell_type": "code",
   "execution_count": 77,
   "metadata": {},
   "outputs": [
    {
     "data": {
      "text/plain": [
       "0.024709003230929283"
      ]
     },
     "execution_count": 77,
     "metadata": {},
     "output_type": "execute_result"
    }
   ],
   "source": [
    "valid_score_opt_org2"
   ]
  },
  {
   "cell_type": "code",
   "execution_count": 89,
   "metadata": {},
   "outputs": [],
   "source": [
    "regr_imp_opt_org2 = pd.Series(regr_opt_org2.feature_importances_, index = ft_full_opt_org2).sort_values(ascending=False)\n",
    "regr_imp_opt_org2['rank'] = regr_imp_opt_org2.index"
   ]
  },
  {
   "cell_type": "markdown",
   "metadata": {},
   "source": [
    "#### third round"
   ]
  },
  {
   "cell_type": "code",
   "execution_count": 80,
   "metadata": {
    "scrolled": true
   },
   "outputs": [
    {
     "name": "stdout",
     "output_type": "stream",
     "text": [
      "                     bard: train score: 0.027313, valid score: 0.024300\n",
      "            midprice_chg5: train score: 0.027464, valid score: 0.024662\n",
      "           midprice_chg15: train score: 0.027481, valid score: 0.024717--> beat!\n",
      "           midprice_chg45: train score: 0.027465, valid score: 0.024830--> beat!\n",
      "             spread_ma360: train score: 0.027311, valid score: 0.023890\n",
      "           midprice_std15: train score: 0.027453, valid score: 0.024445\n",
      "           midprice_std87: train score: 0.027565, valid score: 0.024910--> beat!\n",
      "          midprice_std360: train score: 0.027471, valid score: 0.024423\n",
      "             volumn_imb_0: train score: 0.025953, valid score: 0.019796\n",
      "             volumn_imb_1: train score: 0.026418, valid score: 0.022933\n",
      "        volumn_imb_1_chg5: train score: 0.027616, valid score: 0.024622\n",
      "       volumn_imb_3+_chg5: train score: 0.027629, valid score: 0.024800--> beat!\n",
      "       volumn_imb_1_chg15: train score: 0.027426, valid score: 0.023947\n",
      "       volumn_imb_2_chg15: train score: 0.027497, valid score: 0.024067\n",
      "       volumn_imb_0_chg87: train score: 0.027598, valid score: 0.024539\n",
      "       volumn_imb_2_chg87: train score: 0.027357, valid score: 0.024799--> beat!\n",
      "      volumn_imb_3+_chg87: train score: 0.027543, valid score: 0.024582\n",
      "      volumn_imb_0_chg360: train score: 0.027576, valid score: 0.024688\n",
      "            askSize0_chg5: train score: 0.027316, valid score: 0.024021\n",
      "            bidSize0_chg5: train score: 0.027294, valid score: 0.023895\n",
      "            bidSize1_chg5: train score: 0.027487, valid score: 0.024542\n",
      "            bidSize2_chg5: train score: 0.027450, valid score: 0.024699\n",
      "           askSize0_chg15: train score: 0.027528, valid score: 0.024161\n",
      "           bidSize0_chg15: train score: 0.027646, valid score: 0.024149\n",
      "           askSize1_chg15: train score: 0.027524, valid score: 0.024505\n",
      "           bidSize0_chg45: train score: 0.027550, valid score: 0.024459\n",
      "           bidSize1_chg45: train score: 0.027502, valid score: 0.024432\n",
      "           askSize2_chg45: train score: 0.027487, valid score: 0.024421\n",
      "           askSize2_chg87: train score: 0.027571, valid score: 0.024688\n",
      "          askSize0_chg180: train score: 0.027554, valid score: 0.024729--> beat!\n",
      "          bidSize0_chg180: train score: 0.027491, valid score: 0.024590\n",
      "             bidRate2_dev: train score: 0.027519, valid score: 0.024692\n",
      "             askRate3_dev: train score: 0.027446, valid score: 0.024485\n",
      "             askRate7_dev: train score: 0.027392, valid score: 0.024478\n",
      "             bidRate7_dev: train score: 0.027370, valid score: 0.024469\n"
     ]
    }
   ],
   "source": [
    "ft_org_opt_org2 = ft_org_opt_org.copy()\n",
    "for f in ft_weak_org2:\n",
    "    ft_org_opt_org2.remove(f)\n",
    "\n",
    "benchmark = valid_score_opt_org2\n",
    "regr_ft_org3, ft_weak_org3 = test_ft_group(ft_org_opt_org2,ft_full_opt_org2,benchmark,t_train,t_test,regr_parameters)"
   ]
  },
  {
   "cell_type": "code",
   "execution_count": 81,
   "metadata": {},
   "outputs": [
    {
     "data": {
      "text/plain": [
       "6"
      ]
     },
     "execution_count": 81,
     "metadata": {},
     "output_type": "execute_result"
    }
   ],
   "source": [
    "len(ft_weak_org3)"
   ]
  },
  {
   "cell_type": "code",
   "execution_count": 82,
   "metadata": {},
   "outputs": [],
   "source": [
    "ft_full_opt_org3 = ft_full_opt_org2.copy()\n",
    "for f in ft_weak_org3:\n",
    "    ft_full_opt_org3.remove(f)\n",
    "\n",
    "ft = ft_full_opt_org3\n",
    "X_all = df_demean[ft].copy().fillna(0)\n",
    "X_train,X_test,y_train, y_test = train_test_split(X_all, y_all, 0.2)\n",
    "\n",
    "regr_opt_org3,_,valid_score_opt_org3 = RFsingle(regr_parameters, X_train, y_train, \n",
    "                                                                  X_test, y_test,5)"
   ]
  },
  {
   "cell_type": "code",
   "execution_count": 83,
   "metadata": {},
   "outputs": [
    {
     "data": {
      "text/plain": [
       "0.024974010267265978"
      ]
     },
     "execution_count": 83,
     "metadata": {},
     "output_type": "execute_result"
    }
   ],
   "source": [
    "valid_score_opt_org3"
   ]
  },
  {
   "cell_type": "code",
   "execution_count": 90,
   "metadata": {},
   "outputs": [],
   "source": [
    "regr_imp_opt_org3 = pd.Series(regr_opt_org3.feature_importances_, index = ft_full_opt_org3).sort_values(ascending=False)"
   ]
  },
  {
   "cell_type": "code",
   "execution_count": 102,
   "metadata": {},
   "outputs": [
    {
     "data": {
      "text/plain": [
       "['midprice_chg87',\n",
       " 'midprice_chg360',\n",
       " 'spread_ma5',\n",
       " 'spread_ma15',\n",
       " 'spread_ma87',\n",
       " 'midprice_std45',\n",
       " 'volumn_imb_2',\n",
       " 'volumn_imb_3+',\n",
       " 'volumn_imb_0_chg5',\n",
       " 'volumn_imb_0_chg15',\n",
       " 'volumn_imb_3+_chg15',\n",
       " 'volumn_imb_0_chg45',\n",
       " 'volumn_imb_2_chg45',\n",
       " 'volumn_imb_3+_chg45',\n",
       " 'volumn_imb_1_chg87',\n",
       " 'volumn_imb_1_chg360',\n",
       " 'askSize1_chg5',\n",
       " 'askSize2_chg5',\n",
       " 'bidSize2_chg15',\n",
       " 'askSize0_chg45',\n",
       " 'bidSize2_chg45',\n",
       " 'bidSize0_chg87',\n",
       " 'askSize1_chg87',\n",
       " 'bidSize1_chg87',\n",
       " 'bidSize2_chg87',\n",
       " 'askSize1_chg180',\n",
       " 'bidSize1_chg180',\n",
       " 'bidSize2_chg180',\n",
       " 'askRate14_dev',\n",
       " 'bidRate14_dev']"
      ]
     },
     "execution_count": 102,
     "metadata": {},
     "output_type": "execute_result"
    }
   ],
   "source": [
    "ft_weak_org"
   ]
  },
  {
   "cell_type": "code",
   "execution_count": 103,
   "metadata": {},
   "outputs": [
    {
     "data": {
      "text/plain": [
       "['spread',\n",
       " 'spread_ma45',\n",
       " 'midprice_std5',\n",
       " 'volumn_imb_2_chg5',\n",
       " 'volumn_imb_1_chg45',\n",
       " 'volumn_imb_2_chg360',\n",
       " 'volumn_imb_3+_chg360',\n",
       " 'bidSize1_chg15',\n",
       " 'askSize2_chg15',\n",
       " 'askSize1_chg45',\n",
       " 'askSize0_chg87',\n",
       " 'askSize2_chg180',\n",
       " 'askRate1_dev',\n",
       " 'bidRate1_dev',\n",
       " 'askRate2_dev',\n",
       " 'bidRate3_dev']"
      ]
     },
     "execution_count": 103,
     "metadata": {},
     "output_type": "execute_result"
    }
   ],
   "source": [
    "ft_weak_org2"
   ]
  },
  {
   "cell_type": "code",
   "execution_count": 104,
   "metadata": {},
   "outputs": [
    {
     "data": {
      "text/plain": [
       "['midprice_chg15',\n",
       " 'midprice_chg45',\n",
       " 'midprice_std87',\n",
       " 'volumn_imb_3+_chg5',\n",
       " 'volumn_imb_2_chg87',\n",
       " 'askSize0_chg180']"
      ]
     },
     "execution_count": 104,
     "metadata": {},
     "output_type": "execute_result"
    }
   ],
   "source": [
    "ft_weak_org3"
   ]
  },
  {
   "cell_type": "markdown",
   "metadata": {},
   "source": [
    "#### add back two"
   ]
  },
  {
   "cell_type": "code",
   "execution_count": 105,
   "metadata": {},
   "outputs": [],
   "source": [
    "add_back = ['volumn_imb_2','volumn_imb_3+']"
   ]
  },
  {
   "cell_type": "code",
   "execution_count": 106,
   "metadata": {},
   "outputs": [],
   "source": [
    "ft_full_opt_org4 = ft_full_opt_org3.copy()\n",
    "for f in add_back:\n",
    "    ft_full_opt_org4.append(f)\n",
    "\n",
    "ft = ft_full_opt_org4\n",
    "X_all = df_demean[ft].copy().fillna(0)\n",
    "X_train,X_test,y_train, y_test = train_test_split(X_all, y_all, 0.2)\n",
    "\n",
    "regr_opt_org4,_,valid_score_opt_org4 = RFsingle(regr_parameters, X_train, y_train, \n",
    "                                                                  X_test, y_test,5)"
   ]
  },
  {
   "cell_type": "code",
   "execution_count": 107,
   "metadata": {},
   "outputs": [
    {
     "data": {
      "text/plain": [
       "0.02469636163862121"
      ]
     },
     "execution_count": 107,
     "metadata": {},
     "output_type": "execute_result"
    }
   ],
   "source": [
    "valid_score_opt_org4"
   ]
  },
  {
   "cell_type": "markdown",
   "metadata": {},
   "source": [
    "#### fourth round"
   ]
  },
  {
   "cell_type": "code",
   "execution_count": 108,
   "metadata": {
    "scrolled": false
   },
   "outputs": [
    {
     "name": "stdout",
     "output_type": "stream",
     "text": [
      "                     bard: train score: 0.027143, valid score: 0.024291\n",
      "            midprice_chg5: train score: 0.027429, valid score: 0.024949\n",
      "             spread_ma360: train score: 0.027271, valid score: 0.024629\n",
      "           midprice_std15: train score: 0.027226, valid score: 0.024521\n",
      "          midprice_std360: train score: 0.027035, valid score: 0.025230--> beat!\n",
      "             volumn_imb_0: train score: 0.025561, valid score: 0.020020\n",
      "             volumn_imb_1: train score: 0.026169, valid score: 0.023758\n",
      "        volumn_imb_1_chg5: train score: 0.027590, valid score: 0.024897\n",
      "       volumn_imb_1_chg15: train score: 0.027508, valid score: 0.024524\n",
      "       volumn_imb_2_chg15: train score: 0.027394, valid score: 0.024890\n",
      "       volumn_imb_0_chg87: train score: 0.027557, valid score: 0.024767\n",
      "      volumn_imb_3+_chg87: train score: 0.027461, valid score: 0.024635\n",
      "      volumn_imb_0_chg360: train score: 0.027543, valid score: 0.025439--> beat!\n",
      "            askSize0_chg5: train score: 0.027348, valid score: 0.024330\n",
      "            bidSize0_chg5: train score: 0.027313, valid score: 0.024332\n",
      "            bidSize1_chg5: train score: 0.027427, valid score: 0.024938\n",
      "            bidSize2_chg5: train score: 0.027438, valid score: 0.025026--> beat!\n",
      "           askSize0_chg15: train score: 0.027491, valid score: 0.024259\n",
      "           bidSize0_chg15: train score: 0.027326, valid score: 0.024354\n",
      "           askSize1_chg15: train score: 0.027312, valid score: 0.024722\n",
      "           bidSize0_chg45: train score: 0.027488, valid score: 0.024741\n",
      "           bidSize1_chg45: train score: 0.027324, valid score: 0.024737\n",
      "           askSize2_chg45: train score: 0.027490, valid score: 0.024960\n",
      "           askSize2_chg87: train score: 0.027465, valid score: 0.024796\n",
      "          bidSize0_chg180: train score: 0.027389, valid score: 0.024715\n",
      "             bidRate2_dev: train score: 0.027459, valid score: 0.024869\n",
      "             askRate3_dev: train score: 0.027369, valid score: 0.024862\n",
      "             askRate7_dev: train score: 0.027316, valid score: 0.024918\n",
      "             bidRate7_dev: train score: 0.027134, valid score: 0.024552\n"
     ]
    }
   ],
   "source": [
    "ft_org_opt_org3 = ft_org_opt_org2.copy()\n",
    "for f in ft_weak_org3:\n",
    "    ft_org_opt_org3.remove(f)\n",
    "\n",
    "benchmark = valid_score_opt_org3\n",
    "regr_ft_org4, ft_weak_org4 = test_ft_group(ft_org_opt_org3,ft_full_opt_org3,benchmark,t_train,t_test,regr_parameters)"
   ]
  },
  {
   "cell_type": "code",
   "execution_count": 109,
   "metadata": {},
   "outputs": [
    {
     "data": {
      "text/plain": [
       "3"
      ]
     },
     "execution_count": 109,
     "metadata": {},
     "output_type": "execute_result"
    }
   ],
   "source": [
    "len(ft_weak_org4)"
   ]
  },
  {
   "cell_type": "code",
   "execution_count": 110,
   "metadata": {},
   "outputs": [],
   "source": [
    "ft_full_opt_org4 = ft_full_opt_org3.copy()\n",
    "for f in ft_weak_org4:\n",
    "    ft_full_opt_org4.remove(f)\n",
    "\n",
    "ft = ft_full_opt_org4\n",
    "X_all = df_demean[ft].copy().fillna(0)\n",
    "X_train,X_test,y_train, y_test = train_test_split(X_all, y_all, 0.2)\n",
    "\n",
    "regr_opt_org4,_,valid_score_opt_org4 = RFsingle(regr_parameters, X_train, y_train, \n",
    "                                                                  X_test, y_test,5)"
   ]
  },
  {
   "cell_type": "code",
   "execution_count": 111,
   "metadata": {},
   "outputs": [
    {
     "data": {
      "text/plain": [
       "0.025275361337902313"
      ]
     },
     "execution_count": 111,
     "metadata": {},
     "output_type": "execute_result"
    }
   ],
   "source": [
    "valid_score_opt_org4"
   ]
  },
  {
   "cell_type": "code",
   "execution_count": 112,
   "metadata": {},
   "outputs": [],
   "source": [
    "regr_imp_opt_org4 = pd.Series(regr_opt_org4.feature_importances_, index = ft_full_opt_org4).sort_values(ascending=False)"
   ]
  },
  {
   "cell_type": "markdown",
   "metadata": {},
   "source": [
    "#### fifth round"
   ]
  },
  {
   "cell_type": "code",
   "execution_count": 114,
   "metadata": {
    "scrolled": false
   },
   "outputs": [
    {
     "name": "stdout",
     "output_type": "stream",
     "text": [
      "                     bard: train score: 0.027032, valid score: 0.024800\n",
      "            midprice_chg5: train score: 0.027242, valid score: 0.025248\n",
      "             spread_ma360: train score: 0.026893, valid score: 0.024704\n",
      "           midprice_std15: train score: 0.027075, valid score: 0.024553\n",
      "             volumn_imb_0: train score: 0.025207, valid score: 0.018876\n",
      "             volumn_imb_1: train score: 0.026065, valid score: 0.023537\n",
      "        volumn_imb_1_chg5: train score: 0.027423, valid score: 0.025302--> beat!\n",
      "       volumn_imb_1_chg15: train score: 0.027242, valid score: 0.024643\n",
      "       volumn_imb_2_chg15: train score: 0.027210, valid score: 0.025259\n",
      "       volumn_imb_0_chg87: train score: 0.027429, valid score: 0.025141\n",
      "      volumn_imb_3+_chg87: train score: 0.027162, valid score: 0.025104\n",
      "            askSize0_chg5: train score: 0.027166, valid score: 0.024387\n",
      "            bidSize0_chg5: train score: 0.027126, valid score: 0.024601\n",
      "            bidSize1_chg5: train score: 0.027252, valid score: 0.025319--> beat!\n",
      "           askSize0_chg15: train score: 0.027157, valid score: 0.024485\n",
      "           bidSize0_chg15: train score: 0.027118, valid score: 0.024705\n",
      "           askSize1_chg15: train score: 0.027148, valid score: 0.025059\n",
      "           bidSize0_chg45: train score: 0.027381, valid score: 0.024853\n",
      "           bidSize1_chg45: train score: 0.027187, valid score: 0.025134\n",
      "           askSize2_chg45: train score: 0.027303, valid score: 0.025105\n",
      "           askSize2_chg87: train score: 0.027185, valid score: 0.025038\n",
      "          bidSize0_chg180: train score: 0.027152, valid score: 0.025162\n",
      "             bidRate2_dev: train score: 0.027215, valid score: 0.025139\n",
      "             askRate3_dev: train score: 0.027188, valid score: 0.025086\n",
      "             askRate7_dev: train score: 0.027171, valid score: 0.025218\n",
      "             bidRate7_dev: train score: 0.026961, valid score: 0.024752\n"
     ]
    }
   ],
   "source": [
    "ft_org_opt_org4 = ft_org_opt_org3.copy()\n",
    "for f in ft_weak_org4:\n",
    "    ft_org_opt_org4.remove(f)\n",
    "\n",
    "benchmark = valid_score_opt_org4\n",
    "regr_ft_org5, ft_weak_org5 = test_ft_group(ft_org_opt_org4,ft_full_opt_org4,benchmark,t_train,t_test,regr_parameters)"
   ]
  },
  {
   "cell_type": "code",
   "execution_count": 118,
   "metadata": {},
   "outputs": [
    {
     "data": {
      "text/plain": [
       "2"
      ]
     },
     "execution_count": 118,
     "metadata": {},
     "output_type": "execute_result"
    }
   ],
   "source": [
    "len(ft_weak_org5)"
   ]
  },
  {
   "cell_type": "code",
   "execution_count": 115,
   "metadata": {},
   "outputs": [],
   "source": [
    "ft_full_opt_org5 = ft_full_opt_org4.copy()\n",
    "for f in ft_weak_org5:\n",
    "    ft_full_opt_org5.remove(f)\n",
    "\n",
    "ft = ft_full_opt_org5\n",
    "X_all = df_demean[ft].copy().fillna(0)\n",
    "X_train,X_test,y_train, y_test = train_test_split(X_all, y_all, 0.2)\n",
    "\n",
    "regr_opt_org5,_,valid_score_opt_org5 = RFsingle(regr_parameters, X_train, y_train, \n",
    "                                                                  X_test, y_test,5)"
   ]
  },
  {
   "cell_type": "code",
   "execution_count": 116,
   "metadata": {},
   "outputs": [
    {
     "data": {
      "text/plain": [
       "0.025322001186774856"
      ]
     },
     "execution_count": 116,
     "metadata": {},
     "output_type": "execute_result"
    }
   ],
   "source": [
    "valid_score_opt_org5"
   ]
  },
  {
   "cell_type": "code",
   "execution_count": 117,
   "metadata": {},
   "outputs": [],
   "source": [
    "regr_imp_opt_org5 = pd.Series(regr_opt_org5.feature_importances_, index = ft_full_opt_org5).sort_values(ascending=False)"
   ]
  },
  {
   "cell_type": "code",
   "execution_count": 119,
   "metadata": {},
   "outputs": [],
   "source": [
    "ft_org_opt_org5 = ft_org_opt_org4.copy()\n",
    "for f in ft_weak_org5:\n",
    "    ft_org_opt_org5.remove(f)"
   ]
  },
  {
   "cell_type": "code",
   "execution_count": 120,
   "metadata": {
    "scrolled": true
   },
   "outputs": [
    {
     "data": {
      "text/plain": [
       "['bard',\n",
       " 'midprice_chg5',\n",
       " 'spread_ma360',\n",
       " 'midprice_std15',\n",
       " 'volumn_imb_0',\n",
       " 'volumn_imb_1',\n",
       " 'volumn_imb_1_chg15',\n",
       " 'volumn_imb_2_chg15',\n",
       " 'volumn_imb_0_chg87',\n",
       " 'volumn_imb_3+_chg87',\n",
       " 'askSize0_chg5',\n",
       " 'bidSize0_chg5',\n",
       " 'askSize0_chg15',\n",
       " 'bidSize0_chg15',\n",
       " 'askSize1_chg15',\n",
       " 'bidSize0_chg45',\n",
       " 'bidSize1_chg45',\n",
       " 'askSize2_chg45',\n",
       " 'askSize2_chg87',\n",
       " 'bidSize0_chg180',\n",
       " 'bidRate2_dev',\n",
       " 'askRate3_dev',\n",
       " 'askRate7_dev',\n",
       " 'bidRate7_dev']"
      ]
     },
     "execution_count": 120,
     "metadata": {},
     "output_type": "execute_result"
    }
   ],
   "source": [
    "ft_org_opt_org5"
   ]
  },
  {
   "cell_type": "markdown",
   "metadata": {},
   "source": [
    "#### final list to give up"
   ]
  },
  {
   "cell_type": "code",
   "execution_count": 124,
   "metadata": {},
   "outputs": [],
   "source": [
    "ft_full_opt_org_final = ft_full_opt_org5"
   ]
  },
  {
   "cell_type": "markdown",
   "metadata": {},
   "source": [
    "## ft_orders, benchmark, all 104 features - 48 weak original features"
   ]
  },
  {
   "cell_type": "markdown",
   "metadata": {},
   "source": [
    "#### first compare with full list"
   ]
  },
  {
   "cell_type": "code",
   "execution_count": 123,
   "metadata": {
    "scrolled": true
   },
   "outputs": [
    {
     "name": "stdout",
     "output_type": "stream",
     "text": [
      "            mkt_ask_acc10: train score: 0.028339, valid score: 0.022118\n",
      "            mkt_bid_acc10: train score: 0.028344, valid score: 0.022410\n",
      "        lmt_bid_nrw_acc10: train score: 0.028464, valid score: 0.022796--> beat!\n",
      "        lmt_ask_nrw_acc10: train score: 0.028394, valid score: 0.022444\n",
      "    lmt_bid_cnl_ttl_acc10: train score: 0.028486, valid score: 0.022509\n",
      "    lmt_ask_cnl_ttl_acc10: train score: 0.028474, valid score: 0.022669\n",
      "     lmt_bid_cnl_b3_acc10: train score: 0.028448, valid score: 0.022516\n",
      "     lmt_ask_cnl_b3_acc10: train score: 0.028462, valid score: 0.022630\n",
      "       lmt_bid_new0_acc10: train score: 0.028453, valid score: 0.022654\n",
      "       lmt_bid_new1_acc10: train score: 0.028489, valid score: 0.022705\n",
      "       lmt_bid_new2_acc10: train score: 0.028465, valid score: 0.022660\n",
      "       lmt_ask_new0_acc10: train score: 0.028350, valid score: 0.022419\n",
      "       lmt_ask_new1_acc10: train score: 0.028480, valid score: 0.022660\n",
      "       lmt_ask_new2_acc10: train score: 0.028465, valid score: 0.022717\n",
      "     lmt_bid_new3+_acc360: train score: 0.028409, valid score: 0.022764--> beat!\n",
      "     lmt_ask_new3+_acc360: train score: 0.028412, valid score: 0.022637\n"
     ]
    }
   ],
   "source": [
    "benchmark = valid_score_full\n",
    "regr_ft_order, ft_weak_order = test_ft_group(ft_orders,ft_full,benchmark,t_train,t_test,regr_parameters)"
   ]
  },
  {
   "cell_type": "markdown",
   "metadata": {},
   "source": [
    "#### still second compare, but change to another slide see if the list changes"
   ]
  },
  {
   "cell_type": "code",
   "execution_count": 125,
   "metadata": {
    "scrolled": true
   },
   "outputs": [
    {
     "name": "stdout",
     "output_type": "stream",
     "text": [
      "            mkt_ask_acc10: train score: 0.027031, valid score: 0.024401\n",
      "            mkt_bid_acc10: train score: 0.027150, valid score: 0.024890\n",
      "        lmt_bid_nrw_acc10: train score: 0.027399, valid score: 0.025296\n",
      "        lmt_ask_nrw_acc10: train score: 0.027416, valid score: 0.025076\n",
      "    lmt_bid_cnl_ttl_acc10: train score: 0.027553, valid score: 0.025326--> beat!\n",
      "    lmt_ask_cnl_ttl_acc10: train score: 0.027380, valid score: 0.024682\n",
      "     lmt_bid_cnl_b3_acc10: train score: 0.027415, valid score: 0.025117\n",
      "     lmt_ask_cnl_b3_acc10: train score: 0.027429, valid score: 0.025153\n",
      "       lmt_bid_new0_acc10: train score: 0.027414, valid score: 0.025455--> beat!\n",
      "       lmt_bid_new1_acc10: train score: 0.027433, valid score: 0.025242\n",
      "       lmt_bid_new2_acc10: train score: 0.027482, valid score: 0.025517--> beat!\n",
      "       lmt_ask_new0_acc10: train score: 0.027399, valid score: 0.025084\n",
      "       lmt_ask_new1_acc10: train score: 0.027413, valid score: 0.025178\n",
      "       lmt_ask_new2_acc10: train score: 0.027501, valid score: 0.025235\n",
      "     lmt_bid_new3+_acc360: train score: 0.027216, valid score: 0.025154\n",
      "     lmt_ask_new3+_acc360: train score: 0.027219, valid score: 0.025169\n"
     ]
    }
   ],
   "source": [
    "benchmark = valid_score_opt_org5\n",
    "regr_ft_order2, ft_weak_order2 = test_ft_group(ft_orders,ft_full_opt_org_final,benchmark,t_train,t_test,regr_parameters)"
   ]
  },
  {
   "cell_type": "markdown",
   "metadata": {},
   "source": [
    "#### give if a try to remove some"
   ]
  },
  {
   "cell_type": "code",
   "execution_count": 130,
   "metadata": {},
   "outputs": [],
   "source": [
    "ft_full_opt_ord = ft_full_opt_org_final.copy()\n",
    "for f in ft_weak_order2:\n",
    "    ft_full_opt_ord.remove(f)\n",
    "\n",
    "ft = ft_full_opt_ord\n",
    "X_all = df_demean[ft].copy().fillna(0)\n",
    "X_train,X_test,y_train, y_test = train_test_split(X_all, y_all, 0.2)\n",
    "\n",
    "regr_opt_ord,_,valid_score_opt_ord = RFsingle(regr_parameters, X_train, y_train, \n",
    "                                                                  X_test, y_test,5)"
   ]
  },
  {
   "cell_type": "code",
   "execution_count": 131,
   "metadata": {},
   "outputs": [
    {
     "data": {
      "text/plain": [
       "0.025608151160677384"
      ]
     },
     "execution_count": 131,
     "metadata": {},
     "output_type": "execute_result"
    }
   ],
   "source": [
    "valid_score_opt_ord"
   ]
  },
  {
   "cell_type": "markdown",
   "metadata": {},
   "source": [
    "#### second round"
   ]
  },
  {
   "cell_type": "code",
   "execution_count": 135,
   "metadata": {
    "scrolled": true
   },
   "outputs": [
    {
     "name": "stdout",
     "output_type": "stream",
     "text": [
      "            mkt_ask_acc10: train score: 0.027039, valid score: 0.024559\n",
      "            mkt_bid_acc10: train score: 0.027186, valid score: 0.025216\n",
      "        lmt_bid_nrw_acc10: train score: 0.027401, valid score: 0.025384\n",
      "        lmt_ask_nrw_acc10: train score: 0.027465, valid score: 0.025357\n",
      "    lmt_ask_cnl_ttl_acc10: train score: 0.027442, valid score: 0.024761\n",
      "     lmt_bid_cnl_b3_acc10: train score: 0.027487, valid score: 0.025322\n",
      "     lmt_ask_cnl_b3_acc10: train score: 0.027531, valid score: 0.025435\n",
      "       lmt_bid_new1_acc10: train score: 0.027458, valid score: 0.025553\n",
      "       lmt_ask_new0_acc10: train score: 0.027440, valid score: 0.025397\n",
      "       lmt_ask_new1_acc10: train score: 0.027472, valid score: 0.025269\n",
      "       lmt_ask_new2_acc10: train score: 0.027560, valid score: 0.025533\n",
      "     lmt_bid_new3+_acc360: train score: 0.027307, valid score: 0.025009\n",
      "     lmt_ask_new3+_acc360: train score: 0.027316, valid score: 0.025342\n"
     ]
    }
   ],
   "source": [
    "ft_ord_opt_ord = ft_orders.copy()\n",
    "for f in ft_weak_order2:\n",
    "    ft_ord_opt_ord.remove(f)\n",
    "\n",
    "benchmark = valid_score_opt_ord\n",
    "regr_ft_ord2, ft_weak_ord2 = test_ft_group(ft_ord_opt_ord,ft_full_opt_ord,benchmark,t_train,t_test,regr_parameters)"
   ]
  },
  {
   "cell_type": "code",
   "execution_count": 136,
   "metadata": {},
   "outputs": [
    {
     "data": {
      "text/plain": [
       "0"
      ]
     },
     "execution_count": 136,
     "metadata": {},
     "output_type": "execute_result"
    }
   ],
   "source": [
    "len(ft_weak_ord2)"
   ]
  },
  {
   "cell_type": "code",
   "execution_count": 137,
   "metadata": {},
   "outputs": [],
   "source": [
    "ft_full_opt_ord2 = ft_full_opt_ord.copy()\n",
    "for f in ft_weak_ord2:\n",
    "    ft_full_opt_ord2.remove(f)\n",
    "\n",
    "ft = ft_full_opt_ord2\n",
    "X_all = df_demean[ft].copy().fillna(0)\n",
    "X_train,X_test,y_train, y_test = train_test_split(X_all, y_all, 0.2)\n",
    "\n",
    "regr_opt_ord2,_,valid_score_opt_ord2 = RFsingle(regr_parameters, X_train, y_train, \n",
    "                                                                  X_test, y_test,5)"
   ]
  },
  {
   "cell_type": "code",
   "execution_count": 138,
   "metadata": {},
   "outputs": [
    {
     "data": {
      "text/plain": [
       "0.025608151160677384"
      ]
     },
     "execution_count": 138,
     "metadata": {},
     "output_type": "execute_result"
    }
   ],
   "source": [
    "valid_score_opt_ord2"
   ]
  },
  {
   "cell_type": "code",
   "execution_count": 139,
   "metadata": {},
   "outputs": [],
   "source": [
    "ft_full_opt_ord_final = ft_full_opt_ord"
   ]
  },
  {
   "cell_type": "markdown",
   "metadata": {},
   "source": [
    "## Intensity"
   ]
  },
  {
   "cell_type": "markdown",
   "metadata": {},
   "source": [
    "#### first compare with full list"
   ]
  },
  {
   "cell_type": "code",
   "execution_count": 79,
   "metadata": {},
   "outputs": [
    {
     "name": "stdout",
     "output_type": "stream",
     "text": [
      "              mkt_ask_int: train score: 0.031648, valid score: 0.025297\n",
      "              mkt_bid_int: train score: 0.031380, valid score: 0.025484\n"
     ]
    }
   ],
   "source": [
    "benchmark = 0.026139110259951637\n",
    "regr_ft_in, ft_weak_int = test_ft_group(ft_intensity,ft_full,benchmark,t_train,t_test,regr_parameters)"
   ]
  },
  {
   "cell_type": "markdown",
   "metadata": {},
   "source": [
    "#### second compare with list w/o weak original features"
   ]
  },
  {
   "cell_type": "code",
   "execution_count": 140,
   "metadata": {},
   "outputs": [
    {
     "name": "stdout",
     "output_type": "stream",
     "text": [
      "              mkt_ask_int: train score: 0.027426, valid score: 0.025359\n",
      "              mkt_bid_int: train score: 0.027463, valid score: 0.025582\n"
     ]
    }
   ],
   "source": [
    "benchmark = valid_score_opt_ord2\n",
    "regr_ft_in1, ft_weak_int1 = test_ft_group(ft_intensity,ft_full_opt_ord_final,benchmark,t_train,t_test,regr_parameters)"
   ]
  },
  {
   "cell_type": "markdown",
   "metadata": {},
   "source": [
    "## weighted"
   ]
  },
  {
   "cell_type": "markdown",
   "metadata": {},
   "source": [
    "#### first compare with full list"
   ]
  },
  {
   "cell_type": "code",
   "execution_count": 81,
   "metadata": {},
   "outputs": [
    {
     "name": "stdout",
     "output_type": "stream",
     "text": [
      "         askRate_weighted: train score: 0.032402, valid score: 0.026368--> beat!\n",
      "         bidRate_weighted: train score: 0.031809, valid score: 0.027067--> beat!\n",
      "        midprice_weighted: train score: 0.032241, valid score: 0.026457--> beat!\n",
      "          spread_weighted: train score: 0.032315, valid score: 0.026110\n"
     ]
    }
   ],
   "source": [
    "benchmark = 0.026139110259951637\n",
    "regr_ft_wt, ft_weak_wt = test_ft_group(ft_weighted,ft_full,benchmark,t_train,t_test,regr_parameters)"
   ]
  },
  {
   "cell_type": "markdown",
   "metadata": {},
   "source": [
    "#### second compare with list w/o weak original features"
   ]
  },
  {
   "cell_type": "code",
   "execution_count": 142,
   "metadata": {},
   "outputs": [
    {
     "name": "stdout",
     "output_type": "stream",
     "text": [
      "         askRate_weighted: train score: 0.027351, valid score: 0.024454\n",
      "         bidRate_weighted: train score: 0.026638, valid score: 0.025436\n",
      "        midprice_weighted: train score: 0.027404, valid score: 0.025223\n",
      "          spread_weighted: train score: 0.027288, valid score: 0.025507\n"
     ]
    }
   ],
   "source": [
    "benchmark =valid_score_opt_ord2\n",
    "regr_ft_wt1, ft_weak_wt1 = test_ft_group(ft_weighted,ft_full_opt_ord_final,benchmark,t_train,t_test,regr_parameters)"
   ]
  },
  {
   "cell_type": "markdown",
   "metadata": {},
   "source": [
    "# test final choice of features"
   ]
  },
  {
   "cell_type": "code",
   "execution_count": 143,
   "metadata": {},
   "outputs": [],
   "source": [
    "ft_final = ft_full_opt_ord_final"
   ]
  },
  {
   "cell_type": "code",
   "execution_count": 144,
   "metadata": {},
   "outputs": [
    {
     "name": "stdout",
     "output_type": "stream",
     "text": [
      "0:\ttemp train score: 0.055607, valid score: -0.016169\n",
      "20:\ttemp train score: 0.051916, valid score: 0.023023\n",
      "40:\ttemp train score: 0.051822, valid score: 0.024990\n",
      "60:\ttemp train score: 0.052431, valid score: 0.025553\n",
      "80:\ttemp train score: 0.053607, valid score: 0.025771\n",
      "86:\ttemp train score: 0.054438, valid score: 0.025802\n"
     ]
    }
   ],
   "source": [
    "target = 'y'\n",
    "\n",
    "ft = ft_final\n",
    "\n",
    "X_all = df_demean[ft].copy().fillna(0)\n",
    "X_train,X_test,y_train, y_test = train_test_split(X_all, y_all, 0.2)\n",
    "\n",
    "this_regr_params = regr_parameters.copy()\n",
    "regr_final, train_score, valid_score_final = RF87slice(this_regr_params, X_train, y_train, X_test, y_test)"
   ]
  },
  {
   "cell_type": "markdown",
   "metadata": {},
   "source": [
    "### if i could push more features out of the group?"
   ]
  },
  {
   "cell_type": "code",
   "execution_count": 145,
   "metadata": {
    "scrolled": false
   },
   "outputs": [
    {
     "name": "stdout",
     "output_type": "stream",
     "text": [
      "                     bard: train score: 0.027293, valid score: 0.025165\n",
      "            midprice_chg5: train score: 0.027540, valid score: 0.025536\n",
      "             spread_ma360: train score: 0.027128, valid score: 0.024670\n",
      "           midprice_std15: train score: 0.027383, valid score: 0.024944\n",
      "             volumn_imb_0: train score: 0.025333, valid score: 0.019314\n",
      "             volumn_imb_1: train score: 0.026236, valid score: 0.023153\n",
      "       volumn_imb_1_chg15: train score: 0.027535, valid score: 0.024430\n",
      "       volumn_imb_2_chg15: train score: 0.027413, valid score: 0.025193\n",
      "       volumn_imb_0_chg87: train score: 0.027714, valid score: 0.025143\n",
      "      volumn_imb_3+_chg87: train score: 0.027466, valid score: 0.024820\n",
      "            askSize0_chg5: train score: 0.027326, valid score: 0.024754\n",
      "            bidSize0_chg5: train score: 0.027380, valid score: 0.024880\n",
      "           askSize0_chg15: train score: 0.027297, valid score: 0.024713\n",
      "           bidSize0_chg15: train score: 0.027405, valid score: 0.024694\n",
      "           askSize1_chg15: train score: 0.027444, valid score: 0.025529\n",
      "           bidSize0_chg45: train score: 0.027594, valid score: 0.025548\n",
      "           bidSize1_chg45: train score: 0.027428, valid score: 0.025341\n",
      "           askSize2_chg45: train score: 0.027540, valid score: 0.025064\n",
      "           askSize2_chg87: train score: 0.027520, valid score: 0.025400\n",
      "          bidSize0_chg180: train score: 0.027431, valid score: 0.025572\n",
      "             bidRate2_dev: train score: 0.027488, valid score: 0.025482\n",
      "             askRate3_dev: train score: 0.027519, valid score: 0.025364\n",
      "             askRate7_dev: train score: 0.027317, valid score: 0.025474\n",
      "             bidRate7_dev: train score: 0.027197, valid score: 0.024903\n",
      "            mkt_ask_acc10: train score: 0.027039, valid score: 0.024559\n",
      "            mkt_bid_acc10: train score: 0.027186, valid score: 0.025216\n",
      "        lmt_bid_nrw_acc10: train score: 0.027401, valid score: 0.025384\n",
      "        lmt_ask_nrw_acc10: train score: 0.027465, valid score: 0.025357\n",
      "    lmt_ask_cnl_ttl_acc10: train score: 0.027442, valid score: 0.024761\n",
      "     lmt_bid_cnl_b3_acc10: train score: 0.027487, valid score: 0.025322\n",
      "     lmt_ask_cnl_b3_acc10: train score: 0.027531, valid score: 0.025435\n",
      "       lmt_bid_new1_acc10: train score: 0.027458, valid score: 0.025553\n",
      "       lmt_ask_new0_acc10: train score: 0.027440, valid score: 0.025397\n",
      "       lmt_ask_new1_acc10: train score: 0.027472, valid score: 0.025269\n",
      "       lmt_ask_new2_acc10: train score: 0.027560, valid score: 0.025533\n",
      "     lmt_bid_new3+_acc360: train score: 0.027307, valid score: 0.025009\n",
      "     lmt_ask_new3+_acc360: train score: 0.027316, valid score: 0.025342\n",
      "         askRate_weighted: train score: 0.027351, valid score: 0.024454\n",
      "         bidRate_weighted: train score: 0.026638, valid score: 0.025436\n",
      "        midprice_weighted: train score: 0.027404, valid score: 0.025223\n",
      "          spread_weighted: train score: 0.027288, valid score: 0.025507\n",
      "              mkt_ask_int: train score: 0.027426, valid score: 0.025359\n",
      "              mkt_bid_int: train score: 0.027463, valid score: 0.025582\n"
     ]
    }
   ],
   "source": [
    "benchmark = valid_score_opt_ord2\n",
    "regr_ft_fine, ft_weak_fine = test_ft_group(ft_final,ft_final,benchmark,t_train,t_test,regr_parameters)"
   ]
  },
  {
   "cell_type": "markdown",
   "metadata": {},
   "source": [
    "# tune model"
   ]
  },
  {
   "cell_type": "code",
   "execution_count": null,
   "metadata": {},
   "outputs": [],
   "source": [
    "ft = ft_final\n",
    "\n",
    "X_all = df_demean[ft].copy().fillna(0)\n",
    "X_train,X_test,y_train, y_test = train_test_split(X_all, y_all, 0.2)"
   ]
  },
  {
   "cell_type": "code",
   "execution_count": 146,
   "metadata": {},
   "outputs": [
    {
     "name": "stdout",
     "output_type": "stream",
     "text": [
      "0:\ttemp train score: 0.118036, valid score: -0.016411\n",
      "20:\ttemp train score: 0.114467, valid score: 0.025309\n",
      "40:\ttemp train score: 0.113960, valid score: 0.026083\n",
      "60:\ttemp train score: 0.113827, valid score: 0.026298\n",
      "80:\ttemp train score: 0.113371, valid score: 0.026980\n",
      "86:\ttemp train score: 0.118914, valid score: 0.027157\n"
     ]
    }
   ],
   "source": [
    "this_regr_params = regr_parameters.copy()\n",
    "\n",
    "this_regr_params['n_estimators'] = 4\n",
    "this_regr_params['min_samples_leaf'] = 50\n",
    "\n",
    "regr_final, train_score, valid_score_final = RF87slice(this_regr_params, X_train, y_train, X_test, y_test)"
   ]
  },
  {
   "cell_type": "code",
   "execution_count": null,
   "metadata": {},
   "outputs": [],
   "source": []
  },
  {
   "cell_type": "markdown",
   "metadata": {},
   "source": [
    "# old features"
   ]
  },
  {
   "cell_type": "code",
   "execution_count": 163,
   "metadata": {},
   "outputs": [],
   "source": [
    "ft = ft_pick\n",
    "\n",
    "X_all_old = df_demean[ft].copy().fillna(0)\n",
    "X_train_old,X_test_old,y_train, y_test = train_test_split(X_all_old, y_all, 0.2)"
   ]
  },
  {
   "cell_type": "code",
   "execution_count": 164,
   "metadata": {},
   "outputs": [],
   "source": [
    "def test_params(this_regr_params):\n",
    "    print('n_estimators: %d,\\t min_samples_leaf: %d'%(n_estimators,min_samples_leaf))\n",
    "\n",
    "\n",
    "    regr_final, train_score, valid_score_final = RF87slice(this_regr_params, X_train_old, y_train, X_test_old, y_test)\n",
    "    \n",
    "    return regr_final, valid_score_final"
   ]
  },
  {
   "cell_type": "code",
   "execution_count": 165,
   "metadata": {},
   "outputs": [
    {
     "name": "stdout",
     "output_type": "stream",
     "text": [
      "n_estimators: 5,\t min_samples_leaf: 50\n",
      "0:\ttemp train score: 0.109539, valid score: -0.005458\n",
      "20:\ttemp train score: 0.109246, valid score: 0.024766\n",
      "40:\ttemp train score: 0.111016, valid score: 0.026315\n",
      "60:\ttemp train score: 0.111431, valid score: 0.027161\n",
      "80:\ttemp train score: 0.112142, valid score: 0.027573\n",
      "86:\ttemp train score: 0.110971, valid score: 0.027644\n",
      "n_estimators: 5,\t min_samples_leaf: 10\n",
      "0:\ttemp train score: 0.362758, valid score: -0.093383\n",
      "20:\ttemp train score: 0.359421, valid score: 0.021717\n",
      "40:\ttemp train score: 0.360028, valid score: 0.025106\n",
      "60:\ttemp train score: 0.355474, valid score: 0.026837\n",
      "80:\ttemp train score: 0.364474, valid score: 0.027891\n",
      "86:\ttemp train score: 0.361709, valid score: 0.028143\n",
      "n_estimators: 10,\t min_samples_leaf: 50\n",
      "0:\ttemp train score: 0.121424, valid score: 0.009035\n",
      "20:\ttemp train score: 0.120872, valid score: 0.025276\n",
      "40:\ttemp train score: 0.120714, valid score: 0.026380\n",
      "60:\ttemp train score: 0.120964, valid score: 0.027232\n",
      "80:\ttemp train score: 0.123438, valid score: 0.027649\n",
      "86:\ttemp train score: 0.122837, valid score: 0.027730\n"
     ]
    }
   ],
   "source": [
    "for n_estimators, min_samples_leaf in [[5,50],[5,10],[10,50]]:\n",
    "        \n",
    "    this_regr_params = regr_parameters.copy()\n",
    "\n",
    "    this_regr_params['n_estimators'] = n_estimators\n",
    "    this_regr_params['min_samples_leaf'] = min_samples_leaf\n",
    "    \n",
    "    regr, valid_score = test_params(this_regr_params)"
   ]
  },
  {
   "cell_type": "code",
   "execution_count": 166,
   "metadata": {},
   "outputs": [
    {
     "name": "stdout",
     "output_type": "stream",
     "text": [
      "n_estimators: 10,\t min_samples_leaf: 10\n",
      "0:\ttemp train score: 0.397385, valid score: -0.038749\n",
      "20:\ttemp train score: 0.392308, valid score: 0.023696\n",
      "40:\ttemp train score: 0.397672, valid score: 0.026073\n",
      "60:\ttemp train score: 0.392635, valid score: 0.027483\n",
      "80:\ttemp train score: 0.398051, valid score: 0.028322\n",
      "86:\ttemp train score: 0.394602, valid score: 0.028525\n"
     ]
    }
   ],
   "source": [
    "for n_estimators, min_samples_leaf in [[10,10]]:\n",
    "    this_regr_params = regr_parameters.copy()\n",
    "    this_regr_params['n_estimators'] = n_estimators\n",
    "    this_regr_params['min_samples_leaf'] = min_samples_leaf\n",
    "    \n",
    "    regr, valid_score = test_params(this_regr_params)"
   ]
  },
  {
   "cell_type": "code",
   "execution_count": 168,
   "metadata": {
    "scrolled": true
   },
   "outputs": [
    {
     "name": "stdout",
     "output_type": "stream",
     "text": [
      "n_estimators: 20,\t min_samples_leaf: 10\n",
      "0:\ttemp train score: 0.413203, valid score: -0.007517\n",
      "20:\ttemp train score: 0.409978, valid score: 0.024961\n",
      "40:\ttemp train score: 0.416649, valid score: 0.026851\n",
      "60:\ttemp train score: 0.410209, valid score: 0.028394\n"
     ]
    },
    {
     "ename": "KeyboardInterrupt",
     "evalue": "",
     "output_type": "error",
     "traceback": [
      "\u001b[0;31m---------------------------------------------------------------------------\u001b[0m",
      "\u001b[0;31mKeyboardInterrupt\u001b[0m                         Traceback (most recent call last)",
      "\u001b[0;32m<ipython-input-168-a65ec8d20d76>\u001b[0m in \u001b[0;36m<module>\u001b[0;34m()\u001b[0m\n\u001b[1;32m      4\u001b[0m     \u001b[0mthis_regr_params\u001b[0m\u001b[0;34m[\u001b[0m\u001b[0;34m'min_samples_leaf'\u001b[0m\u001b[0;34m]\u001b[0m \u001b[0;34m=\u001b[0m \u001b[0mmin_samples_leaf\u001b[0m\u001b[0;34m\u001b[0m\u001b[0m\n\u001b[1;32m      5\u001b[0m \u001b[0;34m\u001b[0m\u001b[0m\n\u001b[0;32m----> 6\u001b[0;31m     \u001b[0mregr\u001b[0m\u001b[0;34m,\u001b[0m \u001b[0mvalid_score\u001b[0m \u001b[0;34m=\u001b[0m \u001b[0mtest_params\u001b[0m\u001b[0;34m(\u001b[0m\u001b[0mthis_regr_params\u001b[0m\u001b[0;34m)\u001b[0m\u001b[0;34m\u001b[0m\u001b[0m\n\u001b[0m",
      "\u001b[0;32m<ipython-input-164-eeb21d3525c6>\u001b[0m in \u001b[0;36mtest_params\u001b[0;34m(this_regr_params)\u001b[0m\n\u001b[1;32m      3\u001b[0m \u001b[0;34m\u001b[0m\u001b[0m\n\u001b[1;32m      4\u001b[0m \u001b[0;34m\u001b[0m\u001b[0m\n\u001b[0;32m----> 5\u001b[0;31m     \u001b[0mregr_final\u001b[0m\u001b[0;34m,\u001b[0m \u001b[0mtrain_score\u001b[0m\u001b[0;34m,\u001b[0m \u001b[0mvalid_score_final\u001b[0m \u001b[0;34m=\u001b[0m \u001b[0mRF87slice\u001b[0m\u001b[0;34m(\u001b[0m\u001b[0mthis_regr_params\u001b[0m\u001b[0;34m,\u001b[0m \u001b[0mX_train_old\u001b[0m\u001b[0;34m,\u001b[0m \u001b[0my_train\u001b[0m\u001b[0;34m,\u001b[0m \u001b[0mX_test_old\u001b[0m\u001b[0;34m,\u001b[0m \u001b[0my_test\u001b[0m\u001b[0;34m)\u001b[0m\u001b[0;34m\u001b[0m\u001b[0m\n\u001b[0m\u001b[1;32m      6\u001b[0m \u001b[0;34m\u001b[0m\u001b[0m\n\u001b[1;32m      7\u001b[0m     \u001b[0;32mreturn\u001b[0m \u001b[0mregr_final\u001b[0m\u001b[0;34m,\u001b[0m \u001b[0mvalid_score_final\u001b[0m\u001b[0;34m\u001b[0m\u001b[0m\n",
      "\u001b[0;32m<ipython-input-5-dd8c73106f90>\u001b[0m in \u001b[0;36mRF87slice\u001b[0;34m(this_regr_params, X_train, y_train, X_test, y_test)\u001b[0m\n\u001b[1;32m     15\u001b[0m \u001b[0;34m\u001b[0m\u001b[0m\n\u001b[1;32m     16\u001b[0m         \u001b[0mtrain_score\u001b[0m\u001b[0;34m.\u001b[0m\u001b[0mappend\u001b[0m\u001b[0;34m(\u001b[0m\u001b[0mregr_temp\u001b[0m\u001b[0;34m.\u001b[0m\u001b[0mscore\u001b[0m\u001b[0;34m(\u001b[0m\u001b[0mX_train_this\u001b[0m\u001b[0;34m,\u001b[0m \u001b[0my_train_this\u001b[0m\u001b[0;34m.\u001b[0m\u001b[0mvalues\u001b[0m\u001b[0;34m)\u001b[0m\u001b[0;34m)\u001b[0m\u001b[0;34m\u001b[0m\u001b[0m\n\u001b[0;32m---> 17\u001b[0;31m         \u001b[0mvalid_score\u001b[0m\u001b[0;34m.\u001b[0m\u001b[0mappend\u001b[0m\u001b[0;34m(\u001b[0m\u001b[0mregr\u001b[0m\u001b[0;34m.\u001b[0m\u001b[0mscore\u001b[0m\u001b[0;34m(\u001b[0m\u001b[0mX_test\u001b[0m\u001b[0;34m,\u001b[0m \u001b[0my_test\u001b[0m\u001b[0;34m.\u001b[0m\u001b[0mvalues\u001b[0m\u001b[0;34m)\u001b[0m\u001b[0;34m)\u001b[0m\u001b[0;34m\u001b[0m\u001b[0m\n\u001b[0m\u001b[1;32m     18\u001b[0m \u001b[0;34m\u001b[0m\u001b[0m\n\u001b[1;32m     19\u001b[0m         \u001b[0;32mif\u001b[0m \u001b[0mi\u001b[0m\u001b[0;34m%\u001b[0m\u001b[0;36m20\u001b[0m \u001b[0;34m==\u001b[0m \u001b[0;36m0\u001b[0m \u001b[0;32mor\u001b[0m \u001b[0mi\u001b[0m \u001b[0;34m==\u001b[0m\u001b[0;36m86\u001b[0m\u001b[0;34m:\u001b[0m\u001b[0;34m\u001b[0m\u001b[0m\n",
      "\u001b[0;32m~/anaconda3/lib/python3.6/site-packages/sklearn/base.py\u001b[0m in \u001b[0;36mscore\u001b[0;34m(self, X, y, sample_weight)\u001b[0m\n\u001b[1;32m    406\u001b[0m         \u001b[0;32mfrom\u001b[0m \u001b[0;34m.\u001b[0m\u001b[0mmetrics\u001b[0m \u001b[0;32mimport\u001b[0m \u001b[0mr2_score\u001b[0m\u001b[0;34m\u001b[0m\u001b[0m\n\u001b[1;32m    407\u001b[0m         \u001b[0;32mfrom\u001b[0m \u001b[0;34m.\u001b[0m\u001b[0mmetrics\u001b[0m\u001b[0;34m.\u001b[0m\u001b[0mregression\u001b[0m \u001b[0;32mimport\u001b[0m \u001b[0m_check_reg_targets\u001b[0m\u001b[0;34m\u001b[0m\u001b[0m\n\u001b[0;32m--> 408\u001b[0;31m         \u001b[0my_pred\u001b[0m \u001b[0;34m=\u001b[0m \u001b[0mself\u001b[0m\u001b[0;34m.\u001b[0m\u001b[0mpredict\u001b[0m\u001b[0;34m(\u001b[0m\u001b[0mX\u001b[0m\u001b[0;34m)\u001b[0m\u001b[0;34m\u001b[0m\u001b[0m\n\u001b[0m\u001b[1;32m    409\u001b[0m         \u001b[0;31m# XXX: Remove the check in 0.23\u001b[0m\u001b[0;34m\u001b[0m\u001b[0;34m\u001b[0m\u001b[0m\n\u001b[1;32m    410\u001b[0m         \u001b[0my_type\u001b[0m\u001b[0;34m,\u001b[0m \u001b[0m_\u001b[0m\u001b[0;34m,\u001b[0m \u001b[0m_\u001b[0m\u001b[0;34m,\u001b[0m \u001b[0m_\u001b[0m \u001b[0;34m=\u001b[0m \u001b[0m_check_reg_targets\u001b[0m\u001b[0;34m(\u001b[0m\u001b[0my\u001b[0m\u001b[0;34m,\u001b[0m \u001b[0my_pred\u001b[0m\u001b[0;34m,\u001b[0m \u001b[0;32mNone\u001b[0m\u001b[0;34m)\u001b[0m\u001b[0;34m\u001b[0m\u001b[0m\n",
      "\u001b[0;32m~/anaconda3/lib/python3.6/site-packages/sklearn/ensemble/forest.py\u001b[0m in \u001b[0;36mpredict\u001b[0;34m(self, X)\u001b[0m\n\u001b[1;32m    707\u001b[0m                  \u001b[0;34m**\u001b[0m\u001b[0m_joblib_parallel_args\u001b[0m\u001b[0;34m(\u001b[0m\u001b[0mrequire\u001b[0m\u001b[0;34m=\u001b[0m\u001b[0;34m\"sharedmem\"\u001b[0m\u001b[0;34m)\u001b[0m\u001b[0;34m)\u001b[0m\u001b[0;34m(\u001b[0m\u001b[0;34m\u001b[0m\u001b[0m\n\u001b[1;32m    708\u001b[0m             \u001b[0mdelayed\u001b[0m\u001b[0;34m(\u001b[0m\u001b[0m_accumulate_prediction\u001b[0m\u001b[0;34m)\u001b[0m\u001b[0;34m(\u001b[0m\u001b[0me\u001b[0m\u001b[0;34m.\u001b[0m\u001b[0mpredict\u001b[0m\u001b[0;34m,\u001b[0m \u001b[0mX\u001b[0m\u001b[0;34m,\u001b[0m \u001b[0;34m[\u001b[0m\u001b[0my_hat\u001b[0m\u001b[0;34m]\u001b[0m\u001b[0;34m,\u001b[0m \u001b[0mlock\u001b[0m\u001b[0;34m)\u001b[0m\u001b[0;34m\u001b[0m\u001b[0m\n\u001b[0;32m--> 709\u001b[0;31m             for e in self.estimators_)\n\u001b[0m\u001b[1;32m    710\u001b[0m \u001b[0;34m\u001b[0m\u001b[0m\n\u001b[1;32m    711\u001b[0m         \u001b[0my_hat\u001b[0m \u001b[0;34m/=\u001b[0m \u001b[0mlen\u001b[0m\u001b[0;34m(\u001b[0m\u001b[0mself\u001b[0m\u001b[0;34m.\u001b[0m\u001b[0mestimators_\u001b[0m\u001b[0;34m)\u001b[0m\u001b[0;34m\u001b[0m\u001b[0m\n",
      "\u001b[0;32m~/anaconda3/lib/python3.6/site-packages/joblib/parallel.py\u001b[0m in \u001b[0;36m__call__\u001b[0;34m(self, iterable)\u001b[0m\n\u001b[1;32m    932\u001b[0m \u001b[0;34m\u001b[0m\u001b[0m\n\u001b[1;32m    933\u001b[0m             \u001b[0;32mwith\u001b[0m \u001b[0mself\u001b[0m\u001b[0;34m.\u001b[0m\u001b[0m_backend\u001b[0m\u001b[0;34m.\u001b[0m\u001b[0mretrieval_context\u001b[0m\u001b[0;34m(\u001b[0m\u001b[0;34m)\u001b[0m\u001b[0;34m:\u001b[0m\u001b[0;34m\u001b[0m\u001b[0m\n\u001b[0;32m--> 934\u001b[0;31m                 \u001b[0mself\u001b[0m\u001b[0;34m.\u001b[0m\u001b[0mretrieve\u001b[0m\u001b[0;34m(\u001b[0m\u001b[0;34m)\u001b[0m\u001b[0;34m\u001b[0m\u001b[0m\n\u001b[0m\u001b[1;32m    935\u001b[0m             \u001b[0;31m# Make sure that we get a last message telling us we are done\u001b[0m\u001b[0;34m\u001b[0m\u001b[0;34m\u001b[0m\u001b[0m\n\u001b[1;32m    936\u001b[0m             \u001b[0melapsed_time\u001b[0m \u001b[0;34m=\u001b[0m \u001b[0mtime\u001b[0m\u001b[0;34m.\u001b[0m\u001b[0mtime\u001b[0m\u001b[0;34m(\u001b[0m\u001b[0;34m)\u001b[0m \u001b[0;34m-\u001b[0m \u001b[0mself\u001b[0m\u001b[0;34m.\u001b[0m\u001b[0m_start_time\u001b[0m\u001b[0;34m\u001b[0m\u001b[0m\n",
      "\u001b[0;32m~/anaconda3/lib/python3.6/site-packages/joblib/parallel.py\u001b[0m in \u001b[0;36mretrieve\u001b[0;34m(self)\u001b[0m\n\u001b[1;32m    831\u001b[0m             \u001b[0;32mtry\u001b[0m\u001b[0;34m:\u001b[0m\u001b[0;34m\u001b[0m\u001b[0m\n\u001b[1;32m    832\u001b[0m                 \u001b[0;32mif\u001b[0m \u001b[0mgetattr\u001b[0m\u001b[0;34m(\u001b[0m\u001b[0mself\u001b[0m\u001b[0;34m.\u001b[0m\u001b[0m_backend\u001b[0m\u001b[0;34m,\u001b[0m \u001b[0;34m'supports_timeout'\u001b[0m\u001b[0;34m,\u001b[0m \u001b[0;32mFalse\u001b[0m\u001b[0;34m)\u001b[0m\u001b[0;34m:\u001b[0m\u001b[0;34m\u001b[0m\u001b[0m\n\u001b[0;32m--> 833\u001b[0;31m                     \u001b[0mself\u001b[0m\u001b[0;34m.\u001b[0m\u001b[0m_output\u001b[0m\u001b[0;34m.\u001b[0m\u001b[0mextend\u001b[0m\u001b[0;34m(\u001b[0m\u001b[0mjob\u001b[0m\u001b[0;34m.\u001b[0m\u001b[0mget\u001b[0m\u001b[0;34m(\u001b[0m\u001b[0mtimeout\u001b[0m\u001b[0;34m=\u001b[0m\u001b[0mself\u001b[0m\u001b[0;34m.\u001b[0m\u001b[0mtimeout\u001b[0m\u001b[0;34m)\u001b[0m\u001b[0;34m)\u001b[0m\u001b[0;34m\u001b[0m\u001b[0m\n\u001b[0m\u001b[1;32m    834\u001b[0m                 \u001b[0;32melse\u001b[0m\u001b[0;34m:\u001b[0m\u001b[0;34m\u001b[0m\u001b[0m\n\u001b[1;32m    835\u001b[0m                     \u001b[0mself\u001b[0m\u001b[0;34m.\u001b[0m\u001b[0m_output\u001b[0m\u001b[0;34m.\u001b[0m\u001b[0mextend\u001b[0m\u001b[0;34m(\u001b[0m\u001b[0mjob\u001b[0m\u001b[0;34m.\u001b[0m\u001b[0mget\u001b[0m\u001b[0;34m(\u001b[0m\u001b[0;34m)\u001b[0m\u001b[0;34m)\u001b[0m\u001b[0;34m\u001b[0m\u001b[0m\n",
      "\u001b[0;32m~/anaconda3/lib/python3.6/multiprocessing/pool.py\u001b[0m in \u001b[0;36mget\u001b[0;34m(self, timeout)\u001b[0m\n\u001b[1;32m    636\u001b[0m \u001b[0;34m\u001b[0m\u001b[0m\n\u001b[1;32m    637\u001b[0m     \u001b[0;32mdef\u001b[0m \u001b[0mget\u001b[0m\u001b[0;34m(\u001b[0m\u001b[0mself\u001b[0m\u001b[0;34m,\u001b[0m \u001b[0mtimeout\u001b[0m\u001b[0;34m=\u001b[0m\u001b[0;32mNone\u001b[0m\u001b[0;34m)\u001b[0m\u001b[0;34m:\u001b[0m\u001b[0;34m\u001b[0m\u001b[0m\n\u001b[0;32m--> 638\u001b[0;31m         \u001b[0mself\u001b[0m\u001b[0;34m.\u001b[0m\u001b[0mwait\u001b[0m\u001b[0;34m(\u001b[0m\u001b[0mtimeout\u001b[0m\u001b[0;34m)\u001b[0m\u001b[0;34m\u001b[0m\u001b[0m\n\u001b[0m\u001b[1;32m    639\u001b[0m         \u001b[0;32mif\u001b[0m \u001b[0;32mnot\u001b[0m \u001b[0mself\u001b[0m\u001b[0;34m.\u001b[0m\u001b[0mready\u001b[0m\u001b[0;34m(\u001b[0m\u001b[0;34m)\u001b[0m\u001b[0;34m:\u001b[0m\u001b[0;34m\u001b[0m\u001b[0m\n\u001b[1;32m    640\u001b[0m             \u001b[0;32mraise\u001b[0m \u001b[0mTimeoutError\u001b[0m\u001b[0;34m\u001b[0m\u001b[0m\n",
      "\u001b[0;32m~/anaconda3/lib/python3.6/multiprocessing/pool.py\u001b[0m in \u001b[0;36mwait\u001b[0;34m(self, timeout)\u001b[0m\n\u001b[1;32m    633\u001b[0m \u001b[0;34m\u001b[0m\u001b[0m\n\u001b[1;32m    634\u001b[0m     \u001b[0;32mdef\u001b[0m \u001b[0mwait\u001b[0m\u001b[0;34m(\u001b[0m\u001b[0mself\u001b[0m\u001b[0;34m,\u001b[0m \u001b[0mtimeout\u001b[0m\u001b[0;34m=\u001b[0m\u001b[0;32mNone\u001b[0m\u001b[0;34m)\u001b[0m\u001b[0;34m:\u001b[0m\u001b[0;34m\u001b[0m\u001b[0m\n\u001b[0;32m--> 635\u001b[0;31m         \u001b[0mself\u001b[0m\u001b[0;34m.\u001b[0m\u001b[0m_event\u001b[0m\u001b[0;34m.\u001b[0m\u001b[0mwait\u001b[0m\u001b[0;34m(\u001b[0m\u001b[0mtimeout\u001b[0m\u001b[0;34m)\u001b[0m\u001b[0;34m\u001b[0m\u001b[0m\n\u001b[0m\u001b[1;32m    636\u001b[0m \u001b[0;34m\u001b[0m\u001b[0m\n\u001b[1;32m    637\u001b[0m     \u001b[0;32mdef\u001b[0m \u001b[0mget\u001b[0m\u001b[0;34m(\u001b[0m\u001b[0mself\u001b[0m\u001b[0;34m,\u001b[0m \u001b[0mtimeout\u001b[0m\u001b[0;34m=\u001b[0m\u001b[0;32mNone\u001b[0m\u001b[0;34m)\u001b[0m\u001b[0;34m:\u001b[0m\u001b[0;34m\u001b[0m\u001b[0m\n",
      "\u001b[0;32m~/anaconda3/lib/python3.6/threading.py\u001b[0m in \u001b[0;36mwait\u001b[0;34m(self, timeout)\u001b[0m\n\u001b[1;32m    549\u001b[0m             \u001b[0msignaled\u001b[0m \u001b[0;34m=\u001b[0m \u001b[0mself\u001b[0m\u001b[0;34m.\u001b[0m\u001b[0m_flag\u001b[0m\u001b[0;34m\u001b[0m\u001b[0m\n\u001b[1;32m    550\u001b[0m             \u001b[0;32mif\u001b[0m \u001b[0;32mnot\u001b[0m \u001b[0msignaled\u001b[0m\u001b[0;34m:\u001b[0m\u001b[0;34m\u001b[0m\u001b[0m\n\u001b[0;32m--> 551\u001b[0;31m                 \u001b[0msignaled\u001b[0m \u001b[0;34m=\u001b[0m \u001b[0mself\u001b[0m\u001b[0;34m.\u001b[0m\u001b[0m_cond\u001b[0m\u001b[0;34m.\u001b[0m\u001b[0mwait\u001b[0m\u001b[0;34m(\u001b[0m\u001b[0mtimeout\u001b[0m\u001b[0;34m)\u001b[0m\u001b[0;34m\u001b[0m\u001b[0m\n\u001b[0m\u001b[1;32m    552\u001b[0m             \u001b[0;32mreturn\u001b[0m \u001b[0msignaled\u001b[0m\u001b[0;34m\u001b[0m\u001b[0m\n\u001b[1;32m    553\u001b[0m \u001b[0;34m\u001b[0m\u001b[0m\n",
      "\u001b[0;32m~/anaconda3/lib/python3.6/threading.py\u001b[0m in \u001b[0;36mwait\u001b[0;34m(self, timeout)\u001b[0m\n\u001b[1;32m    293\u001b[0m         \u001b[0;32mtry\u001b[0m\u001b[0;34m:\u001b[0m    \u001b[0;31m# restore state no matter what (e.g., KeyboardInterrupt)\u001b[0m\u001b[0;34m\u001b[0m\u001b[0m\n\u001b[1;32m    294\u001b[0m             \u001b[0;32mif\u001b[0m \u001b[0mtimeout\u001b[0m \u001b[0;32mis\u001b[0m \u001b[0;32mNone\u001b[0m\u001b[0;34m:\u001b[0m\u001b[0;34m\u001b[0m\u001b[0m\n\u001b[0;32m--> 295\u001b[0;31m                 \u001b[0mwaiter\u001b[0m\u001b[0;34m.\u001b[0m\u001b[0macquire\u001b[0m\u001b[0;34m(\u001b[0m\u001b[0;34m)\u001b[0m\u001b[0;34m\u001b[0m\u001b[0m\n\u001b[0m\u001b[1;32m    296\u001b[0m                 \u001b[0mgotit\u001b[0m \u001b[0;34m=\u001b[0m \u001b[0;32mTrue\u001b[0m\u001b[0;34m\u001b[0m\u001b[0m\n\u001b[1;32m    297\u001b[0m             \u001b[0;32melse\u001b[0m\u001b[0;34m:\u001b[0m\u001b[0;34m\u001b[0m\u001b[0m\n",
      "\u001b[0;31mKeyboardInterrupt\u001b[0m: "
     ]
    }
   ],
   "source": [
    "for n_estimators, min_samples_leaf in [[20,10],[10,5]]:\n",
    "    this_regr_params = regr_parameters.copy()\n",
    "    this_regr_params['n_estimators'] = n_estimators\n",
    "    this_regr_params['min_samples_leaf'] = min_samples_leaf\n",
    "    \n",
    "    regr, valid_score = test_params(this_regr_params)"
   ]
  },
  {
   "cell_type": "code",
   "execution_count": 169,
   "metadata": {},
   "outputs": [],
   "source": [
    "out = {'model':regr,\n",
    "      'model_params':this_regr_params,\n",
    "      'features':ft_pick,\n",
    "      'ft_range':df[ft_pick].max()-df[ft_pick].min(),\n",
    "      'ft_mean':df[ft_pick].mean()}\n",
    "\n",
    "path = 'RF0930_ft32_nt%d_mtl%d_test'%\\\n",
    "                (this_regr_params['n_estimators'],this_regr_params['min_samples_leaf'])\n",
    "\n",
    "model2pickle(out,  path)"
   ]
  },
  {
   "cell_type": "code",
   "execution_count": 170,
   "metadata": {},
   "outputs": [
    {
     "data": {
      "text/plain": [
       "'RF0930_ft32_nt20_mtl10_test'"
      ]
     },
     "execution_count": 170,
     "metadata": {},
     "output_type": "execute_result"
    }
   ],
   "source": [
    "path"
   ]
  },
  {
   "cell_type": "code",
   "execution_count": 173,
   "metadata": {},
   "outputs": [],
   "source": [
    "df[ft_pick +['y']].to_csv('../model_data.csv')"
   ]
  },
  {
   "cell_type": "markdown",
   "metadata": {},
   "source": [
    "## train on full"
   ]
  },
  {
   "cell_type": "code",
   "execution_count": 151,
   "metadata": {},
   "outputs": [],
   "source": [
    "ft = ft_pick\n",
    "\n",
    "X_all = df_demean[ft].copy().fillna(0)\n",
    "X_train,X_test,y_train, y_test = train_test_split(X_all_old, y_all, 0.2)\n",
    "\n",
    "X_train = X_all\n",
    "y_train = y_all"
   ]
  },
  {
   "cell_type": "code",
   "execution_count": 153,
   "metadata": {},
   "outputs": [
    {
     "name": "stdout",
     "output_type": "stream",
     "text": [
      "0:\ttemp train score: 0.108469, valid score: -0.001089\n",
      "20:\ttemp train score: 0.108011, valid score: 0.036475\n",
      "40:\ttemp train score: 0.109601, valid score: 0.038025\n",
      "60:\ttemp train score: 0.102533, valid score: 0.038780\n",
      "80:\ttemp train score: 0.108808, valid score: 0.039245\n",
      "86:\ttemp train score: 0.107592, valid score: 0.039295\n"
     ]
    }
   ],
   "source": [
    "this_regr_params = regr_parameters.copy()\n",
    "\n",
    "this_regr_params['n_estimators'] = 4\n",
    "this_regr_params['min_samples_leaf'] = 50\n",
    "\n",
    "regr_final, train_score, valid_score_final = RF87slice(this_regr_params, X_train, y_train, X_test, y_test)"
   ]
  },
  {
   "cell_type": "code",
   "execution_count": 155,
   "metadata": {},
   "outputs": [],
   "source": [
    "out = {'model':regr_final,\n",
    "      'model_params':this_regr_params,\n",
    "      'features':ft_pick,\n",
    "      'ft_range':df[ft_pick].max()-df[ft_pick].min(),\n",
    "      'ft_mean':df[ft_pick].mean()}\n",
    "\n",
    "path = 'RF0930_ft32_nt%d_mtl%d_fulldata'%\\\n",
    "                (this_regr_params['n_estimators'],this_regr_params['min_samples_leaf'])\n",
    "\n",
    "model2pickle(out,  path)"
   ]
  },
  {
   "cell_type": "code",
   "execution_count": 158,
   "metadata": {},
   "outputs": [
    {
     "data": {
      "text/plain": [
       "'RF0930_ft32_nt4_mtl50_fulldata'"
      ]
     },
     "execution_count": 158,
     "metadata": {},
     "output_type": "execute_result"
    }
   ],
   "source": [
    "path"
   ]
  },
  {
   "cell_type": "markdown",
   "metadata": {},
   "source": [
    "# test if submission is doing the right thing"
   ]
  },
  {
   "cell_type": "code",
   "execution_count": 185,
   "metadata": {},
   "outputs": [],
   "source": [
    "df_raw.iloc[:461].to_csv('../data.csv')"
   ]
  },
  {
   "cell_type": "code",
   "execution_count": 177,
   "metadata": {},
   "outputs": [],
   "source": [
    "X = X_all.iloc[:461]\n",
    "y = y_all.iloc[:461]"
   ]
  },
  {
   "cell_type": "code",
   "execution_count": 179,
   "metadata": {},
   "outputs": [],
   "source": [
    "model = regr\n",
    "res = []\n",
    "for i in range(len(X)):\n",
    "    if i <= 361:\n",
    "        res.append(0)\n",
    "    else:\n",
    "        res.append(model.predict([X.iloc[i].fillna(0).values])[0])"
   ]
  },
  {
   "cell_type": "code",
   "execution_count": 183,
   "metadata": {},
   "outputs": [
    {
     "data": {
      "text/plain": [
       "0.043207650475554416"
      ]
     },
     "execution_count": 183,
     "metadata": {},
     "output_type": "execute_result"
    }
   ],
   "source": [
    "r2_score(res,y.values)"
   ]
  },
  {
   "cell_type": "code",
   "execution_count": null,
   "metadata": {},
   "outputs": [],
   "source": []
  },
  {
   "cell_type": "code",
   "execution_count": 7,
   "metadata": {},
   "outputs": [],
   "source": [
    "df = pd.read_csv('../model_data.csv')"
   ]
  },
  {
   "cell_type": "code",
   "execution_count": 12,
   "metadata": {},
   "outputs": [],
   "source": [
    "# for whole book\n",
    "df_demean = df.copy()\n",
    "df_demean[ft_pick] = (df_demean[ft_pick]-df_demean[ft_pick].mean())/(df_demean[ft_pick].max()-df_demean[ft_pick].min())\n"
   ]
  },
  {
   "cell_type": "code",
   "execution_count": 13,
   "metadata": {},
   "outputs": [],
   "source": [
    "y_all = df_demean['y'].copy()"
   ]
  },
  {
   "cell_type": "code",
   "execution_count": 14,
   "metadata": {},
   "outputs": [],
   "source": [
    "# depend on the features\n",
    "ft = ft_pick\n",
    "X_all_demean = df_demean[ft].copy().fillna(0)\n",
    "X_train_demean,X_test_demean,y_train, y_test = train_test_split(X_all_demean, y_all, 0.2)"
   ]
  },
  {
   "cell_type": "code",
   "execution_count": 8,
   "metadata": {},
   "outputs": [],
   "source": [
    "ft_pick = ['bard',\n",
    " 'midprice_chg45',\n",
    " 'spread_ma5',\n",
    " 'volumn_imb_0',\n",
    " 'volumn_imb_1',\n",
    " 'volumn_imb_2',\n",
    " 'volumn_imb_1_chg5',\n",
    " 'volumn_imb_1_chg360',\n",
    " 'volumn_imb_2_chg360',\n",
    " 'volumn_imb_3+_chg360',\n",
    " 'askSize0_chg15',\n",
    " 'bidSize0_chg15',\n",
    " 'askSize0_chg180',\n",
    " 'bidSize0_chg180',\n",
    " 'askSize1_chg180',\n",
    " 'bidSize1_chg180',\n",
    " 'askRate3_dev',\n",
    " 'bidRate3_dev',\n",
    " 'mkt_ask_acc10',\n",
    " 'mkt_bid_acc10',\n",
    " 'lmt_bid_cnl_b3_acc10',\n",
    " 'lmt_ask_cnl_b3_acc10',\n",
    " 'lmt_bid_new0_acc10',\n",
    " 'lmt_bid_new1_acc10',\n",
    " 'lmt_ask_new0_acc10',\n",
    " 'lmt_ask_new1_acc10',\n",
    " 'mkt_ask_int',\n",
    " 'mkt_bid_int',\n",
    " 'lmt_bid_new2_acc10',\n",
    " 'lmt_ask_new2_acc10',\n",
    " 'lmt_bid_new3+_acc360',\n",
    " 'lmt_ask_new3+_acc360']"
   ]
  },
  {
   "cell_type": "code",
   "execution_count": 9,
   "metadata": {},
   "outputs": [],
   "source": [
    "from sklearn.ensemble import RandomForestRegressor\n",
    "\n",
    "regr_parameters = {\n",
    "    'min_samples_leaf': 100,\n",
    "    'n_estimators': 2,\n",
    "    'n_jobs': -1,\n",
    "    'random_state': 0}"
   ]
  },
  {
   "cell_type": "code",
   "execution_count": 21,
   "metadata": {},
   "outputs": [],
   "source": [
    "def test_params(this_regr_params):\n",
    "    print('n_estimators: %d,\\t min_samples_leaf: %d'%(this_regr_params['n_estimators'],this_regr_params['min_samples_leaf']))\n",
    "\n",
    "    regr, _ ,valid_score = RF87slice(this_regr_params,X_train_demean,y_train,X_test_demean,y_test)\n",
    "    \n",
    "    print('full data')\n",
    "    regr_full, _ , valid_score_full = RF87slice(this_regr_params,X_all_demean,y_all,X_test_demean, y_test)\n",
    "   \n",
    "    out = {'model':regr_full,\n",
    "          'model_params':this_regr_params,\n",
    "          'features':ft_pick,\n",
    "          'ft_range':df[ft_pick].max()-df[ft_pick].min(),\n",
    "          'ft_mean':df[ft_pick].mean()}\n",
    "\n",
    "    path = 'RF0930_ft32_nt%d_mtl%d_fulldata'%\\\n",
    "                    (this_regr_params['n_estimators'],this_regr_params['min_samples_leaf'])\n",
    "\n",
    "    model2pickle(out,  path)\n",
    "    \n",
    "    print('saved')\n",
    "    \n",
    "    return valid_score"
   ]
  },
  {
   "cell_type": "code",
   "execution_count": 19,
   "metadata": {},
   "outputs": [
    {
     "name": "stdout",
     "output_type": "stream",
     "text": [
      "n_estimators: 10,\t min_samples_leaf: 10\n",
      "full data\n",
      "0:\ttemp train score: 0.397424, valid score: 0.007229\n",
      "20:\ttemp train score: 0.393781, valid score: 0.058045\n",
      "40:\ttemp train score: 0.397432, valid score: 0.060936\n",
      "60:\ttemp train score: 0.392821, valid score: 0.062517\n",
      "80:\ttemp train score: 0.392446, valid score: 0.063141\n",
      "86:\ttemp train score: 0.398628, valid score: 0.063166\n",
      "saved\n"
     ]
    },
    {
     "ename": "NameError",
     "evalue": "name 'valid_score' is not defined",
     "output_type": "error",
     "traceback": [
      "\u001b[0;31m---------------------------------------------------------------------------\u001b[0m",
      "\u001b[0;31mNameError\u001b[0m                                 Traceback (most recent call last)",
      "\u001b[0;32m<ipython-input-19-4484b29b274e>\u001b[0m in \u001b[0;36m<module>\u001b[0;34m()\u001b[0m\n\u001b[1;32m      9\u001b[0m     \u001b[0mthis_regr_params\u001b[0m\u001b[0;34m[\u001b[0m\u001b[0;34m'min_samples_leaf'\u001b[0m\u001b[0;34m]\u001b[0m \u001b[0;34m=\u001b[0m \u001b[0mmin_samples_leaf\u001b[0m\u001b[0;34m\u001b[0m\u001b[0m\n\u001b[1;32m     10\u001b[0m \u001b[0;34m\u001b[0m\u001b[0m\n\u001b[0;32m---> 11\u001b[0;31m     \u001b[0mr\u001b[0m \u001b[0;34m=\u001b[0m \u001b[0mtest_params\u001b[0m\u001b[0;34m(\u001b[0m\u001b[0mthis_regr_params\u001b[0m\u001b[0;34m)\u001b[0m\u001b[0;34m\u001b[0m\u001b[0m\n\u001b[0m\u001b[1;32m     12\u001b[0m \u001b[0;34m\u001b[0m\u001b[0m\n\u001b[1;32m     13\u001b[0m     \u001b[0mr2_curve\u001b[0m\u001b[0;34m.\u001b[0m\u001b[0mappend\u001b[0m\u001b[0;34m(\u001b[0m\u001b[0mr\u001b[0m\u001b[0;34m)\u001b[0m\u001b[0;34m\u001b[0m\u001b[0m\n",
      "\u001b[0;32m<ipython-input-17-639b919b8f94>\u001b[0m in \u001b[0;36mtest_params\u001b[0;34m(this_regr_params)\u001b[0m\n\u001b[1;32m     19\u001b[0m     \u001b[0mprint\u001b[0m\u001b[0;34m(\u001b[0m\u001b[0;34m'saved'\u001b[0m\u001b[0;34m)\u001b[0m\u001b[0;34m\u001b[0m\u001b[0m\n\u001b[1;32m     20\u001b[0m \u001b[0;34m\u001b[0m\u001b[0m\n\u001b[0;32m---> 21\u001b[0;31m     \u001b[0;32mreturn\u001b[0m \u001b[0mvalid_score\u001b[0m\u001b[0;34m\u001b[0m\u001b[0m\n\u001b[0m",
      "\u001b[0;31mNameError\u001b[0m: name 'valid_score' is not defined"
     ]
    }
   ],
   "source": [
    "n_estimators = 10\n",
    "\n",
    "r2_curve =[]\n",
    "\n",
    "for min_samples_leaf in [10]:\n",
    "    \n",
    "    this_regr_params = regr_parameters.copy()\n",
    "    this_regr_params['n_estimators'] = n_estimators\n",
    "    this_regr_params['min_samples_leaf'] = min_samples_leaf\n",
    "    \n",
    "    r = test_params(this_regr_params)\n",
    "    \n",
    "    r2_curve.append(r)\n",
    "    \n",
    "plt.plot(r2_curve)"
   ]
  },
  {
   "cell_type": "code",
   "execution_count": 22,
   "metadata": {
    "scrolled": true
   },
   "outputs": [
    {
     "name": "stdout",
     "output_type": "stream",
     "text": [
      "n_estimators: 20,\t min_samples_leaf: 10\n",
      "0:\ttemp train score: 0.413203, valid score: -0.007517\n",
      "20:\ttemp train score: 0.409978, valid score: 0.024961\n",
      "40:\ttemp train score: 0.416649, valid score: 0.026851\n",
      "60:\ttemp train score: 0.410209, valid score: 0.028394\n",
      "80:\ttemp train score: 0.414209, valid score: 0.029199\n",
      "86:\ttemp train score: 0.411626, valid score: 0.029356\n",
      "full data\n",
      "0:\ttemp train score: 0.411626, valid score: 0.031781\n",
      "20:\ttemp train score: 0.411010, valid score: 0.059288\n",
      "40:\ttemp train score: 0.413932, valid score: 0.061578\n",
      "60:\ttemp train score: 0.410216, valid score: 0.063179\n",
      "80:\ttemp train score: 0.410451, valid score: 0.063771\n",
      "86:\ttemp train score: 0.413801, valid score: 0.063746\n",
      "saved\n"
     ]
    },
    {
     "data": {
      "text/plain": [
       "[<matplotlib.lines.Line2D at 0x1b32f12e80>,\n",
       " <matplotlib.lines.Line2D at 0x1b32f12208>,\n",
       " <matplotlib.lines.Line2D at 0x1b32f12b38>,\n",
       " <matplotlib.lines.Line2D at 0x1b32f12f28>,\n",
       " <matplotlib.lines.Line2D at 0x1b32f12390>,\n",
       " <matplotlib.lines.Line2D at 0x1b32f12438>,\n",
       " <matplotlib.lines.Line2D at 0x1b3c012b70>,\n",
       " <matplotlib.lines.Line2D at 0x1b3c012748>,\n",
       " <matplotlib.lines.Line2D at 0x1b3c012668>,\n",
       " <matplotlib.lines.Line2D at 0x1b3c012160>,\n",
       " <matplotlib.lines.Line2D at 0x1b5a20c780>,\n",
       " <matplotlib.lines.Line2D at 0x1b3c012278>,\n",
       " <matplotlib.lines.Line2D at 0x1b3c0122b0>,\n",
       " <matplotlib.lines.Line2D at 0x1b3c012198>,\n",
       " <matplotlib.lines.Line2D at 0x1b3c012f60>,\n",
       " <matplotlib.lines.Line2D at 0x1b3c012ba8>,\n",
       " <matplotlib.lines.Line2D at 0x1b3c0120b8>,\n",
       " <matplotlib.lines.Line2D at 0x1b3c0125f8>,\n",
       " <matplotlib.lines.Line2D at 0x1b869c62e8>,\n",
       " <matplotlib.lines.Line2D at 0x1b869c6630>,\n",
       " <matplotlib.lines.Line2D at 0x1b869c6978>,\n",
       " <matplotlib.lines.Line2D at 0x1b869c6cc0>,\n",
       " <matplotlib.lines.Line2D at 0x1b869cb048>,\n",
       " <matplotlib.lines.Line2D at 0x1b869cb390>,\n",
       " <matplotlib.lines.Line2D at 0x1b869cb7f0>,\n",
       " <matplotlib.lines.Line2D at 0x1b869cbb38>,\n",
       " <matplotlib.lines.Line2D at 0x1b869cbe80>,\n",
       " <matplotlib.lines.Line2D at 0x1b34b189b0>,\n",
       " <matplotlib.lines.Line2D at 0x1b34b18780>,\n",
       " <matplotlib.lines.Line2D at 0x1b34b18a90>,\n",
       " <matplotlib.lines.Line2D at 0x1b34b18470>,\n",
       " <matplotlib.lines.Line2D at 0x1b34b189e8>,\n",
       " <matplotlib.lines.Line2D at 0x1b34b181d0>,\n",
       " <matplotlib.lines.Line2D at 0x1b32f19d68>,\n",
       " <matplotlib.lines.Line2D at 0x1b34b05128>,\n",
       " <matplotlib.lines.Line2D at 0x1b34b1fa20>,\n",
       " <matplotlib.lines.Line2D at 0x1b34b1f6d8>,\n",
       " <matplotlib.lines.Line2D at 0x1b34b1ff98>,\n",
       " <matplotlib.lines.Line2D at 0x1b34b1f2b0>,\n",
       " <matplotlib.lines.Line2D at 0x1b3fe22080>,\n",
       " <matplotlib.lines.Line2D at 0x1b3fe22710>,\n",
       " <matplotlib.lines.Line2D at 0x1b86305208>,\n",
       " <matplotlib.lines.Line2D at 0x1b863050b8>,\n",
       " <matplotlib.lines.Line2D at 0x1b86305390>,\n",
       " <matplotlib.lines.Line2D at 0x1b863055f8>,\n",
       " <matplotlib.lines.Line2D at 0x1b86305780>,\n",
       " <matplotlib.lines.Line2D at 0x1b86305908>,\n",
       " <matplotlib.lines.Line2D at 0x1b86305a90>,\n",
       " <matplotlib.lines.Line2D at 0x1b86305c88>,\n",
       " <matplotlib.lines.Line2D at 0x1b86305e48>,\n",
       " <matplotlib.lines.Line2D at 0x1b86305fd0>,\n",
       " <matplotlib.lines.Line2D at 0x1b86305eb8>,\n",
       " <matplotlib.lines.Line2D at 0x1b3c024710>,\n",
       " <matplotlib.lines.Line2D at 0x1b3fe284a8>,\n",
       " <matplotlib.lines.Line2D at 0x1b61d869b0>,\n",
       " <matplotlib.lines.Line2D at 0x1b61d86048>,\n",
       " <matplotlib.lines.Line2D at 0x1b61d86e10>,\n",
       " <matplotlib.lines.Line2D at 0x1b61d86d30>,\n",
       " <matplotlib.lines.Line2D at 0x1b61d86f98>,\n",
       " <matplotlib.lines.Line2D at 0x1b61d865c0>,\n",
       " <matplotlib.lines.Line2D at 0x1b61d865f8>,\n",
       " <matplotlib.lines.Line2D at 0x1b61d862b0>,\n",
       " <matplotlib.lines.Line2D at 0x1b61d86128>,\n",
       " <matplotlib.lines.Line2D at 0x1b61d861d0>,\n",
       " <matplotlib.lines.Line2D at 0x1b61d867f0>,\n",
       " <matplotlib.lines.Line2D at 0x1b3c02a400>,\n",
       " <matplotlib.lines.Line2D at 0x1b3c02a2b0>,\n",
       " <matplotlib.lines.Line2D at 0x1b3c02a7f0>,\n",
       " <matplotlib.lines.Line2D at 0x1b3c02a390>,\n",
       " <matplotlib.lines.Line2D at 0x1b3c02a978>,\n",
       " <matplotlib.lines.Line2D at 0x1b3c02a080>,\n",
       " <matplotlib.lines.Line2D at 0x1b3c02a8d0>,\n",
       " <matplotlib.lines.Line2D at 0x1b3c02ac88>,\n",
       " <matplotlib.lines.Line2D at 0x1b3c02a320>,\n",
       " <matplotlib.lines.Line2D at 0x1b3c02aa20>,\n",
       " <matplotlib.lines.Line2D at 0x1b3c02a518>,\n",
       " <matplotlib.lines.Line2D at 0x1b86322400>,\n",
       " <matplotlib.lines.Line2D at 0x1b863220f0>,\n",
       " <matplotlib.lines.Line2D at 0x1b86322470>,\n",
       " <matplotlib.lines.Line2D at 0x1b86322668>,\n",
       " <matplotlib.lines.Line2D at 0x1b86322828>,\n",
       " <matplotlib.lines.Line2D at 0x1b863229b0>,\n",
       " <matplotlib.lines.Line2D at 0x1b86322b38>,\n",
       " <matplotlib.lines.Line2D at 0x1b86322cf8>,\n",
       " <matplotlib.lines.Line2D at 0x1b86322e48>,\n",
       " <matplotlib.lines.Line2D at 0x1b86322780>,\n",
       " <matplotlib.lines.Line2D at 0x1b86322eb8>]"
      ]
     },
     "execution_count": 22,
     "metadata": {},
     "output_type": "execute_result"
    },
    {
     "data": {
      "image/png": "[encoded data removed]",
      "text/plain": [
       "<Figure size 432x288 with 1 Axes>"
      ]
     },
     "metadata": {},
     "output_type": "display_data"
    }
   ],
   "source": [
    "n_estimators = 20\n",
    "\n",
    "r2_curve =[]\n",
    "\n",
    "for min_samples_leaf in [10]:\n",
    "    \n",
    "    this_regr_params = regr_parameters.copy()\n",
    "    this_regr_params['n_estimators'] = n_estimators\n",
    "    this_regr_params['min_samples_leaf'] = min_samples_leaf\n",
    "    \n",
    "    r = test_params(this_regr_params)\n",
    "    \n",
    "    r2_curve.append(r)\n",
    "    \n",
    "plt.plot(r2_curve)"
   ]
  },
  {
   "cell_type": "code",
   "execution_count": null,
   "metadata": {},
   "outputs": [],
   "source": [
    "n_estimators = 20\n",
    "\n",
    "r2_curve =[]\n",
    "\n",
    "for min_samples_leaf in [15]:\n",
    "    \n",
    "    this_regr_params = regr_parameters.copy()\n",
    "    this_regr_params['n_estimators'] = n_estimators\n",
    "    this_regr_params['min_samples_leaf'] = min_samples_leaf\n",
    "    \n",
    "    r = test_params(this_regr_params)\n",
    "    \n",
    "    r2_curve.append(r)\n",
    "    \n",
    "plt.plot(r2_curve)"
   ]
  },
  {
   "cell_type": "code",
   "execution_count": 25,
   "metadata": {},
   "outputs": [
    {
     "name": "stdout",
     "output_type": "stream",
     "text": [
      "n_estimators: 15,\t min_samples_leaf: 15\n",
      "0:\ttemp train score: 0.311195, valid score: -0.006936\n",
      "20:\ttemp train score: 0.310295, valid score: 0.025690\n",
      "40:\ttemp train score: 0.316071, valid score: 0.027322\n",
      "60:\ttemp train score: 0.306183, valid score: 0.028207\n",
      "80:\ttemp train score: 0.311698, valid score: 0.029016\n",
      "86:\ttemp train score: 0.311351, valid score: 0.029167\n",
      "full data\n",
      "0:\ttemp train score: 0.311108, valid score: 0.023814\n",
      "20:\ttemp train score: 0.307653, valid score: 0.052350\n",
      "40:\ttemp train score: 0.312460, valid score: 0.054025\n",
      "60:\ttemp train score: 0.306909, valid score: 0.055156\n",
      "80:\ttemp train score: 0.308138, valid score: 0.055658\n",
      "86:\ttemp train score: 0.310802, valid score: 0.055724\n",
      "saved\n"
     ]
    },
    {
     "data": {
      "text/plain": [
       "[<matplotlib.lines.Line2D at 0x1b869bc940>,\n",
       " <matplotlib.lines.Line2D at 0x1b869bc1d0>,\n",
       " <matplotlib.lines.Line2D at 0x1b869bc2b0>,\n",
       " <matplotlib.lines.Line2D at 0x1b869bcd30>,\n",
       " <matplotlib.lines.Line2D at 0x1b869bc780>,\n",
       " <matplotlib.lines.Line2D at 0x1b869bc4a8>,\n",
       " <matplotlib.lines.Line2D at 0x1b869bc438>,\n",
       " <matplotlib.lines.Line2D at 0x1b7a98cb38>,\n",
       " <matplotlib.lines.Line2D at 0x1b70bb3e80>,\n",
       " <matplotlib.lines.Line2D at 0x1b70bb3e48>,\n",
       " <matplotlib.lines.Line2D at 0x1b70bc24e0>,\n",
       " <matplotlib.lines.Line2D at 0x1b70bb3438>,\n",
       " <matplotlib.lines.Line2D at 0x1b70bb33c8>,\n",
       " <matplotlib.lines.Line2D at 0x1b70bb3518>,\n",
       " <matplotlib.lines.Line2D at 0x1b70bb3a90>,\n",
       " <matplotlib.lines.Line2D at 0x1b70bb3358>,\n",
       " <matplotlib.lines.Line2D at 0x1b70bb3048>,\n",
       " <matplotlib.lines.Line2D at 0x1b70bb3c18>,\n",
       " <matplotlib.lines.Line2D at 0x1b70bb3b70>,\n",
       " <matplotlib.lines.Line2D at 0x1b70bb3278>,\n",
       " <matplotlib.lines.Line2D at 0x1b70bb78d0>,\n",
       " <matplotlib.lines.Line2D at 0x1b70bb7198>,\n",
       " <matplotlib.lines.Line2D at 0x1b70bb7780>,\n",
       " <matplotlib.lines.Line2D at 0x1b384bb898>,\n",
       " <matplotlib.lines.Line2D at 0x1b384bba90>,\n",
       " <matplotlib.lines.Line2D at 0x1b384bbe80>,\n",
       " <matplotlib.lines.Line2D at 0x1b384bba20>,\n",
       " <matplotlib.lines.Line2D at 0x1b384bbf28>,\n",
       " <matplotlib.lines.Line2D at 0x1b384bb3c8>,\n",
       " <matplotlib.lines.Line2D at 0x1b384bb208>,\n",
       " <matplotlib.lines.Line2D at 0x1b84662588>,\n",
       " <matplotlib.lines.Line2D at 0x1b84662438>,\n",
       " <matplotlib.lines.Line2D at 0x1b84662c50>,\n",
       " <matplotlib.lines.Line2D at 0x1b84662320>,\n",
       " <matplotlib.lines.Line2D at 0x1b846626a0>,\n",
       " <matplotlib.lines.Line2D at 0x1b84662080>,\n",
       " <matplotlib.lines.Line2D at 0x1b84662048>,\n",
       " <matplotlib.lines.Line2D at 0x1b84662ef0>,\n",
       " <matplotlib.lines.Line2D at 0x1b38494128>,\n",
       " <matplotlib.lines.Line2D at 0x1b384947f0>,\n",
       " <matplotlib.lines.Line2D at 0x1b80cc37b8>,\n",
       " <matplotlib.lines.Line2D at 0x1b80cc3a58>,\n",
       " <matplotlib.lines.Line2D at 0x1b80cc37f0>,\n",
       " <matplotlib.lines.Line2D at 0x1b80cc3860>,\n",
       " <matplotlib.lines.Line2D at 0x1b80cc38d0>,\n",
       " <matplotlib.lines.Line2D at 0x1b80cc3b70>,\n",
       " <matplotlib.lines.Line2D at 0x1b876e8cc0>,\n",
       " <matplotlib.lines.Line2D at 0x1b876e8668>,\n",
       " <matplotlib.lines.Line2D at 0x1b876e8f60>,\n",
       " <matplotlib.lines.Line2D at 0x1b876e8390>,\n",
       " <matplotlib.lines.Line2D at 0x1b876e8550>,\n",
       " <matplotlib.lines.Line2D at 0x1b876e8a58>,\n",
       " <matplotlib.lines.Line2D at 0x1b876e8ef0>,\n",
       " <matplotlib.lines.Line2D at 0x1b876e8eb8>,\n",
       " <matplotlib.lines.Line2D at 0x1b876e84a8>,\n",
       " <matplotlib.lines.Line2D at 0x1b876e8198>,\n",
       " <matplotlib.lines.Line2D at 0x1b876e8da0>,\n",
       " <matplotlib.lines.Line2D at 0x1b876e8cf8>,\n",
       " <matplotlib.lines.Line2D at 0x1b829dd240>,\n",
       " <matplotlib.lines.Line2D at 0x1b869df048>,\n",
       " <matplotlib.lines.Line2D at 0x1b869dfc18>,\n",
       " <matplotlib.lines.Line2D at 0x1b869df160>,\n",
       " <matplotlib.lines.Line2D at 0x1b869df8d0>,\n",
       " <matplotlib.lines.Line2D at 0x1b869dfcf8>,\n",
       " <matplotlib.lines.Line2D at 0x1b869df5c0>,\n",
       " <matplotlib.lines.Line2D at 0x1b869df898>,\n",
       " <matplotlib.lines.Line2D at 0x1b869dfe10>,\n",
       " <matplotlib.lines.Line2D at 0x1b869df320>,\n",
       " <matplotlib.lines.Line2D at 0x1b869d06a0>,\n",
       " <matplotlib.lines.Line2D at 0x1b869d0748>,\n",
       " <matplotlib.lines.Line2D at 0x1b869d0c18>,\n",
       " <matplotlib.lines.Line2D at 0x1b869d0dd8>,\n",
       " <matplotlib.lines.Line2D at 0x1b869d02b0>,\n",
       " <matplotlib.lines.Line2D at 0x1b869d0198>,\n",
       " <matplotlib.lines.Line2D at 0x1b869d0f60>,\n",
       " <matplotlib.lines.Line2D at 0x1b869db9e8>,\n",
       " <matplotlib.lines.Line2D at 0x1b869db208>,\n",
       " <matplotlib.lines.Line2D at 0x1b869dbf60>,\n",
       " <matplotlib.lines.Line2D at 0x1b869dbb38>,\n",
       " <matplotlib.lines.Line2D at 0x1b869dbef0>,\n",
       " <matplotlib.lines.Line2D at 0x1b869dbb70>,\n",
       " <matplotlib.lines.Line2D at 0x1b869dba90>,\n",
       " <matplotlib.lines.Line2D at 0x1b869db9b0>,\n",
       " <matplotlib.lines.Line2D at 0x1b869db4a8>,\n",
       " <matplotlib.lines.Line2D at 0x1b869d61d0>,\n",
       " <matplotlib.lines.Line2D at 0x1b869d6400>,\n",
       " <matplotlib.lines.Line2D at 0x1b869d6a90>]"
      ]
     },
     "execution_count": 25,
     "metadata": {},
     "output_type": "execute_result"
    },
    {
     "data": {
      "image/png": "[encoded data removed]",
      "text/plain": [
       "<Figure size 432x288 with 1 Axes>"
      ]
     },
     "metadata": {},
     "output_type": "display_data"
    }
   ],
   "source": [
    "n_estimators = 15\n",
    "\n",
    "r2_curve =[]\n",
    "\n",
    "for min_samples_leaf in [15]:\n",
    "    \n",
    "    this_regr_params = regr_parameters.copy()\n",
    "    this_regr_params['n_estimators'] = n_estimators\n",
    "    this_regr_params['min_samples_leaf'] = min_samples_leaf\n",
    "    \n",
    "    r = test_params(this_regr_params)\n",
    "    \n",
    "    r2_curve.append(r)\n",
    "    \n",
    "plt.plot(r2_curve)"
   ]
  },
  {
   "cell_type": "code",
   "execution_count": 26,
   "metadata": {
    "scrolled": true
   },
   "outputs": [
    {
     "name": "stdout",
     "output_type": "stream",
     "text": [
      "n_estimators: 15,\t min_samples_leaf: 10\n",
      "0:\ttemp train score: 0.407775, valid score: -0.017550\n",
      "20:\ttemp train score: 0.404765, valid score: 0.024551\n",
      "40:\ttemp train score: 0.410299, valid score: 0.026605\n",
      "60:\ttemp train score: 0.404845, valid score: 0.028160\n",
      "80:\ttemp train score: 0.409492, valid score: 0.029072\n",
      "86:\ttemp train score: 0.405659, valid score: 0.029256\n",
      "full data\n",
      "0:\ttemp train score: 0.406633, valid score: 0.024674\n",
      "20:\ttemp train score: 0.405099, valid score: 0.058914\n",
      "40:\ttemp train score: 0.409526, valid score: 0.061328\n"
     ]
    },
    {
     "ename": "KeyboardInterrupt",
     "evalue": "",
     "output_type": "error",
     "traceback": [
      "\u001b[0;31m---------------------------------------------------------------------------\u001b[0m",
      "\u001b[0;31mKeyboardInterrupt\u001b[0m                         Traceback (most recent call last)",
      "\u001b[0;32m<ipython-input-26-11f92fff0929>\u001b[0m in \u001b[0;36m<module>\u001b[0;34m()\u001b[0m\n\u001b[1;32m      9\u001b[0m     \u001b[0mthis_regr_params\u001b[0m\u001b[0;34m[\u001b[0m\u001b[0;34m'min_samples_leaf'\u001b[0m\u001b[0;34m]\u001b[0m \u001b[0;34m=\u001b[0m \u001b[0mmin_samples_leaf\u001b[0m\u001b[0;34m\u001b[0m\u001b[0m\n\u001b[1;32m     10\u001b[0m \u001b[0;34m\u001b[0m\u001b[0m\n\u001b[0;32m---> 11\u001b[0;31m     \u001b[0mr\u001b[0m \u001b[0;34m=\u001b[0m \u001b[0mtest_params\u001b[0m\u001b[0;34m(\u001b[0m\u001b[0mthis_regr_params\u001b[0m\u001b[0;34m)\u001b[0m\u001b[0;34m\u001b[0m\u001b[0m\n\u001b[0m\u001b[1;32m     12\u001b[0m \u001b[0;34m\u001b[0m\u001b[0m\n\u001b[1;32m     13\u001b[0m     \u001b[0mr2_curve\u001b[0m\u001b[0;34m.\u001b[0m\u001b[0mappend\u001b[0m\u001b[0;34m(\u001b[0m\u001b[0mr\u001b[0m\u001b[0;34m)\u001b[0m\u001b[0;34m\u001b[0m\u001b[0m\n",
      "\u001b[0;32m<ipython-input-21-cc5a7c8da125>\u001b[0m in \u001b[0;36mtest_params\u001b[0;34m(this_regr_params)\u001b[0m\n\u001b[1;32m      5\u001b[0m \u001b[0;34m\u001b[0m\u001b[0m\n\u001b[1;32m      6\u001b[0m     \u001b[0mprint\u001b[0m\u001b[0;34m(\u001b[0m\u001b[0;34m'full data'\u001b[0m\u001b[0;34m)\u001b[0m\u001b[0;34m\u001b[0m\u001b[0m\n\u001b[0;32m----> 7\u001b[0;31m     \u001b[0mregr_full\u001b[0m\u001b[0;34m,\u001b[0m \u001b[0m_\u001b[0m \u001b[0;34m,\u001b[0m \u001b[0mvalid_score_full\u001b[0m \u001b[0;34m=\u001b[0m \u001b[0mRF87slice\u001b[0m\u001b[0;34m(\u001b[0m\u001b[0mthis_regr_params\u001b[0m\u001b[0;34m,\u001b[0m\u001b[0mX_all_demean\u001b[0m\u001b[0;34m,\u001b[0m\u001b[0my_all\u001b[0m\u001b[0;34m,\u001b[0m\u001b[0mX_test_demean\u001b[0m\u001b[0;34m,\u001b[0m \u001b[0my_test\u001b[0m\u001b[0;34m)\u001b[0m\u001b[0;34m\u001b[0m\u001b[0m\n\u001b[0m\u001b[1;32m      8\u001b[0m \u001b[0;34m\u001b[0m\u001b[0m\n\u001b[1;32m      9\u001b[0m     out = {'model':regr_full,\n",
      "\u001b[0;32m<ipython-input-5-dd8c73106f90>\u001b[0m in \u001b[0;36mRF87slice\u001b[0;34m(this_regr_params, X_train, y_train, X_test, y_test)\u001b[0m\n\u001b[1;32m     15\u001b[0m \u001b[0;34m\u001b[0m\u001b[0m\n\u001b[1;32m     16\u001b[0m         \u001b[0mtrain_score\u001b[0m\u001b[0;34m.\u001b[0m\u001b[0mappend\u001b[0m\u001b[0;34m(\u001b[0m\u001b[0mregr_temp\u001b[0m\u001b[0;34m.\u001b[0m\u001b[0mscore\u001b[0m\u001b[0;34m(\u001b[0m\u001b[0mX_train_this\u001b[0m\u001b[0;34m,\u001b[0m \u001b[0my_train_this\u001b[0m\u001b[0;34m.\u001b[0m\u001b[0mvalues\u001b[0m\u001b[0;34m)\u001b[0m\u001b[0;34m)\u001b[0m\u001b[0;34m\u001b[0m\u001b[0m\n\u001b[0;32m---> 17\u001b[0;31m         \u001b[0mvalid_score\u001b[0m\u001b[0;34m.\u001b[0m\u001b[0mappend\u001b[0m\u001b[0;34m(\u001b[0m\u001b[0mregr\u001b[0m\u001b[0;34m.\u001b[0m\u001b[0mscore\u001b[0m\u001b[0;34m(\u001b[0m\u001b[0mX_test\u001b[0m\u001b[0;34m,\u001b[0m \u001b[0my_test\u001b[0m\u001b[0;34m.\u001b[0m\u001b[0mvalues\u001b[0m\u001b[0;34m)\u001b[0m\u001b[0;34m)\u001b[0m\u001b[0;34m\u001b[0m\u001b[0m\n\u001b[0m\u001b[1;32m     18\u001b[0m \u001b[0;34m\u001b[0m\u001b[0m\n\u001b[1;32m     19\u001b[0m         \u001b[0;32mif\u001b[0m \u001b[0mi\u001b[0m\u001b[0;34m%\u001b[0m\u001b[0;36m20\u001b[0m \u001b[0;34m==\u001b[0m \u001b[0;36m0\u001b[0m \u001b[0;32mor\u001b[0m \u001b[0mi\u001b[0m \u001b[0;34m==\u001b[0m\u001b[0;36m86\u001b[0m\u001b[0;34m:\u001b[0m\u001b[0;34m\u001b[0m\u001b[0m\n",
      "\u001b[0;32m~/anaconda3/lib/python3.6/site-packages/sklearn/base.py\u001b[0m in \u001b[0;36mscore\u001b[0;34m(self, X, y, sample_weight)\u001b[0m\n\u001b[1;32m    406\u001b[0m         \u001b[0;32mfrom\u001b[0m \u001b[0;34m.\u001b[0m\u001b[0mmetrics\u001b[0m \u001b[0;32mimport\u001b[0m \u001b[0mr2_score\u001b[0m\u001b[0;34m\u001b[0m\u001b[0m\n\u001b[1;32m    407\u001b[0m         \u001b[0;32mfrom\u001b[0m \u001b[0;34m.\u001b[0m\u001b[0mmetrics\u001b[0m\u001b[0;34m.\u001b[0m\u001b[0mregression\u001b[0m \u001b[0;32mimport\u001b[0m \u001b[0m_check_reg_targets\u001b[0m\u001b[0;34m\u001b[0m\u001b[0m\n\u001b[0;32m--> 408\u001b[0;31m         \u001b[0my_pred\u001b[0m \u001b[0;34m=\u001b[0m \u001b[0mself\u001b[0m\u001b[0;34m.\u001b[0m\u001b[0mpredict\u001b[0m\u001b[0;34m(\u001b[0m\u001b[0mX\u001b[0m\u001b[0;34m)\u001b[0m\u001b[0;34m\u001b[0m\u001b[0m\n\u001b[0m\u001b[1;32m    409\u001b[0m         \u001b[0;31m# XXX: Remove the check in 0.23\u001b[0m\u001b[0;34m\u001b[0m\u001b[0;34m\u001b[0m\u001b[0m\n\u001b[1;32m    410\u001b[0m         \u001b[0my_type\u001b[0m\u001b[0;34m,\u001b[0m \u001b[0m_\u001b[0m\u001b[0;34m,\u001b[0m \u001b[0m_\u001b[0m\u001b[0;34m,\u001b[0m \u001b[0m_\u001b[0m \u001b[0;34m=\u001b[0m \u001b[0m_check_reg_targets\u001b[0m\u001b[0;34m(\u001b[0m\u001b[0my\u001b[0m\u001b[0;34m,\u001b[0m \u001b[0my_pred\u001b[0m\u001b[0;34m,\u001b[0m \u001b[0;32mNone\u001b[0m\u001b[0;34m)\u001b[0m\u001b[0;34m\u001b[0m\u001b[0m\n",
      "\u001b[0;32m~/anaconda3/lib/python3.6/site-packages/sklearn/ensemble/forest.py\u001b[0m in \u001b[0;36mpredict\u001b[0;34m(self, X)\u001b[0m\n\u001b[1;32m    707\u001b[0m                  \u001b[0;34m**\u001b[0m\u001b[0m_joblib_parallel_args\u001b[0m\u001b[0;34m(\u001b[0m\u001b[0mrequire\u001b[0m\u001b[0;34m=\u001b[0m\u001b[0;34m\"sharedmem\"\u001b[0m\u001b[0;34m)\u001b[0m\u001b[0;34m)\u001b[0m\u001b[0;34m(\u001b[0m\u001b[0;34m\u001b[0m\u001b[0m\n\u001b[1;32m    708\u001b[0m             \u001b[0mdelayed\u001b[0m\u001b[0;34m(\u001b[0m\u001b[0m_accumulate_prediction\u001b[0m\u001b[0;34m)\u001b[0m\u001b[0;34m(\u001b[0m\u001b[0me\u001b[0m\u001b[0;34m.\u001b[0m\u001b[0mpredict\u001b[0m\u001b[0;34m,\u001b[0m \u001b[0mX\u001b[0m\u001b[0;34m,\u001b[0m \u001b[0;34m[\u001b[0m\u001b[0my_hat\u001b[0m\u001b[0;34m]\u001b[0m\u001b[0;34m,\u001b[0m \u001b[0mlock\u001b[0m\u001b[0;34m)\u001b[0m\u001b[0;34m\u001b[0m\u001b[0m\n\u001b[0;32m--> 709\u001b[0;31m             for e in self.estimators_)\n\u001b[0m\u001b[1;32m    710\u001b[0m \u001b[0;34m\u001b[0m\u001b[0m\n\u001b[1;32m    711\u001b[0m         \u001b[0my_hat\u001b[0m \u001b[0;34m/=\u001b[0m \u001b[0mlen\u001b[0m\u001b[0;34m(\u001b[0m\u001b[0mself\u001b[0m\u001b[0;34m.\u001b[0m\u001b[0mestimators_\u001b[0m\u001b[0;34m)\u001b[0m\u001b[0;34m\u001b[0m\u001b[0m\n",
      "\u001b[0;32m~/anaconda3/lib/python3.6/site-packages/joblib/parallel.py\u001b[0m in \u001b[0;36m__call__\u001b[0;34m(self, iterable)\u001b[0m\n\u001b[1;32m    932\u001b[0m \u001b[0;34m\u001b[0m\u001b[0m\n\u001b[1;32m    933\u001b[0m             \u001b[0;32mwith\u001b[0m \u001b[0mself\u001b[0m\u001b[0;34m.\u001b[0m\u001b[0m_backend\u001b[0m\u001b[0;34m.\u001b[0m\u001b[0mretrieval_context\u001b[0m\u001b[0;34m(\u001b[0m\u001b[0;34m)\u001b[0m\u001b[0;34m:\u001b[0m\u001b[0;34m\u001b[0m\u001b[0m\n\u001b[0;32m--> 934\u001b[0;31m                 \u001b[0mself\u001b[0m\u001b[0;34m.\u001b[0m\u001b[0mretrieve\u001b[0m\u001b[0;34m(\u001b[0m\u001b[0;34m)\u001b[0m\u001b[0;34m\u001b[0m\u001b[0m\n\u001b[0m\u001b[1;32m    935\u001b[0m             \u001b[0;31m# Make sure that we get a last message telling us we are done\u001b[0m\u001b[0;34m\u001b[0m\u001b[0;34m\u001b[0m\u001b[0m\n\u001b[1;32m    936\u001b[0m             \u001b[0melapsed_time\u001b[0m \u001b[0;34m=\u001b[0m \u001b[0mtime\u001b[0m\u001b[0;34m.\u001b[0m\u001b[0mtime\u001b[0m\u001b[0;34m(\u001b[0m\u001b[0;34m)\u001b[0m \u001b[0;34m-\u001b[0m \u001b[0mself\u001b[0m\u001b[0;34m.\u001b[0m\u001b[0m_start_time\u001b[0m\u001b[0;34m\u001b[0m\u001b[0m\n",
      "\u001b[0;32m~/anaconda3/lib/python3.6/site-packages/joblib/parallel.py\u001b[0m in \u001b[0;36mretrieve\u001b[0;34m(self)\u001b[0m\n\u001b[1;32m    831\u001b[0m             \u001b[0;32mtry\u001b[0m\u001b[0;34m:\u001b[0m\u001b[0;34m\u001b[0m\u001b[0m\n\u001b[1;32m    832\u001b[0m                 \u001b[0;32mif\u001b[0m \u001b[0mgetattr\u001b[0m\u001b[0;34m(\u001b[0m\u001b[0mself\u001b[0m\u001b[0;34m.\u001b[0m\u001b[0m_backend\u001b[0m\u001b[0;34m,\u001b[0m \u001b[0;34m'supports_timeout'\u001b[0m\u001b[0;34m,\u001b[0m \u001b[0;32mFalse\u001b[0m\u001b[0;34m)\u001b[0m\u001b[0;34m:\u001b[0m\u001b[0;34m\u001b[0m\u001b[0m\n\u001b[0;32m--> 833\u001b[0;31m                     \u001b[0mself\u001b[0m\u001b[0;34m.\u001b[0m\u001b[0m_output\u001b[0m\u001b[0;34m.\u001b[0m\u001b[0mextend\u001b[0m\u001b[0;34m(\u001b[0m\u001b[0mjob\u001b[0m\u001b[0;34m.\u001b[0m\u001b[0mget\u001b[0m\u001b[0;34m(\u001b[0m\u001b[0mtimeout\u001b[0m\u001b[0;34m=\u001b[0m\u001b[0mself\u001b[0m\u001b[0;34m.\u001b[0m\u001b[0mtimeout\u001b[0m\u001b[0;34m)\u001b[0m\u001b[0;34m)\u001b[0m\u001b[0;34m\u001b[0m\u001b[0m\n\u001b[0m\u001b[1;32m    834\u001b[0m                 \u001b[0;32melse\u001b[0m\u001b[0;34m:\u001b[0m\u001b[0;34m\u001b[0m\u001b[0m\n\u001b[1;32m    835\u001b[0m                     \u001b[0mself\u001b[0m\u001b[0;34m.\u001b[0m\u001b[0m_output\u001b[0m\u001b[0;34m.\u001b[0m\u001b[0mextend\u001b[0m\u001b[0;34m(\u001b[0m\u001b[0mjob\u001b[0m\u001b[0;34m.\u001b[0m\u001b[0mget\u001b[0m\u001b[0;34m(\u001b[0m\u001b[0;34m)\u001b[0m\u001b[0;34m)\u001b[0m\u001b[0;34m\u001b[0m\u001b[0m\n",
      "\u001b[0;32m~/anaconda3/lib/python3.6/multiprocessing/pool.py\u001b[0m in \u001b[0;36mget\u001b[0;34m(self, timeout)\u001b[0m\n\u001b[1;32m    636\u001b[0m \u001b[0;34m\u001b[0m\u001b[0m\n\u001b[1;32m    637\u001b[0m     \u001b[0;32mdef\u001b[0m \u001b[0mget\u001b[0m\u001b[0;34m(\u001b[0m\u001b[0mself\u001b[0m\u001b[0;34m,\u001b[0m \u001b[0mtimeout\u001b[0m\u001b[0;34m=\u001b[0m\u001b[0;32mNone\u001b[0m\u001b[0;34m)\u001b[0m\u001b[0;34m:\u001b[0m\u001b[0;34m\u001b[0m\u001b[0m\n\u001b[0;32m--> 638\u001b[0;31m         \u001b[0mself\u001b[0m\u001b[0;34m.\u001b[0m\u001b[0mwait\u001b[0m\u001b[0;34m(\u001b[0m\u001b[0mtimeout\u001b[0m\u001b[0;34m)\u001b[0m\u001b[0;34m\u001b[0m\u001b[0m\n\u001b[0m\u001b[1;32m    639\u001b[0m         \u001b[0;32mif\u001b[0m \u001b[0;32mnot\u001b[0m \u001b[0mself\u001b[0m\u001b[0;34m.\u001b[0m\u001b[0mready\u001b[0m\u001b[0;34m(\u001b[0m\u001b[0;34m)\u001b[0m\u001b[0;34m:\u001b[0m\u001b[0;34m\u001b[0m\u001b[0m\n\u001b[1;32m    640\u001b[0m             \u001b[0;32mraise\u001b[0m \u001b[0mTimeoutError\u001b[0m\u001b[0;34m\u001b[0m\u001b[0m\n",
      "\u001b[0;32m~/anaconda3/lib/python3.6/multiprocessing/pool.py\u001b[0m in \u001b[0;36mwait\u001b[0;34m(self, timeout)\u001b[0m\n\u001b[1;32m    633\u001b[0m \u001b[0;34m\u001b[0m\u001b[0m\n\u001b[1;32m    634\u001b[0m     \u001b[0;32mdef\u001b[0m \u001b[0mwait\u001b[0m\u001b[0;34m(\u001b[0m\u001b[0mself\u001b[0m\u001b[0;34m,\u001b[0m \u001b[0mtimeout\u001b[0m\u001b[0;34m=\u001b[0m\u001b[0;32mNone\u001b[0m\u001b[0;34m)\u001b[0m\u001b[0;34m:\u001b[0m\u001b[0;34m\u001b[0m\u001b[0m\n\u001b[0;32m--> 635\u001b[0;31m         \u001b[0mself\u001b[0m\u001b[0;34m.\u001b[0m\u001b[0m_event\u001b[0m\u001b[0;34m.\u001b[0m\u001b[0mwait\u001b[0m\u001b[0;34m(\u001b[0m\u001b[0mtimeout\u001b[0m\u001b[0;34m)\u001b[0m\u001b[0;34m\u001b[0m\u001b[0m\n\u001b[0m\u001b[1;32m    636\u001b[0m \u001b[0;34m\u001b[0m\u001b[0m\n\u001b[1;32m    637\u001b[0m     \u001b[0;32mdef\u001b[0m \u001b[0mget\u001b[0m\u001b[0;34m(\u001b[0m\u001b[0mself\u001b[0m\u001b[0;34m,\u001b[0m \u001b[0mtimeout\u001b[0m\u001b[0;34m=\u001b[0m\u001b[0;32mNone\u001b[0m\u001b[0;34m)\u001b[0m\u001b[0;34m:\u001b[0m\u001b[0;34m\u001b[0m\u001b[0m\n",
      "\u001b[0;32m~/anaconda3/lib/python3.6/threading.py\u001b[0m in \u001b[0;36mwait\u001b[0;34m(self, timeout)\u001b[0m\n\u001b[1;32m    549\u001b[0m             \u001b[0msignaled\u001b[0m \u001b[0;34m=\u001b[0m \u001b[0mself\u001b[0m\u001b[0;34m.\u001b[0m\u001b[0m_flag\u001b[0m\u001b[0;34m\u001b[0m\u001b[0m\n\u001b[1;32m    550\u001b[0m             \u001b[0;32mif\u001b[0m \u001b[0;32mnot\u001b[0m \u001b[0msignaled\u001b[0m\u001b[0;34m:\u001b[0m\u001b[0;34m\u001b[0m\u001b[0m\n\u001b[0;32m--> 551\u001b[0;31m                 \u001b[0msignaled\u001b[0m \u001b[0;34m=\u001b[0m \u001b[0mself\u001b[0m\u001b[0;34m.\u001b[0m\u001b[0m_cond\u001b[0m\u001b[0;34m.\u001b[0m\u001b[0mwait\u001b[0m\u001b[0;34m(\u001b[0m\u001b[0mtimeout\u001b[0m\u001b[0;34m)\u001b[0m\u001b[0;34m\u001b[0m\u001b[0m\n\u001b[0m\u001b[1;32m    552\u001b[0m             \u001b[0;32mreturn\u001b[0m \u001b[0msignaled\u001b[0m\u001b[0;34m\u001b[0m\u001b[0m\n\u001b[1;32m    553\u001b[0m \u001b[0;34m\u001b[0m\u001b[0m\n",
      "\u001b[0;32m~/anaconda3/lib/python3.6/threading.py\u001b[0m in \u001b[0;36mwait\u001b[0;34m(self, timeout)\u001b[0m\n\u001b[1;32m    293\u001b[0m         \u001b[0;32mtry\u001b[0m\u001b[0;34m:\u001b[0m    \u001b[0;31m# restore state no matter what (e.g., KeyboardInterrupt)\u001b[0m\u001b[0;34m\u001b[0m\u001b[0m\n\u001b[1;32m    294\u001b[0m             \u001b[0;32mif\u001b[0m \u001b[0mtimeout\u001b[0m \u001b[0;32mis\u001b[0m \u001b[0;32mNone\u001b[0m\u001b[0;34m:\u001b[0m\u001b[0;34m\u001b[0m\u001b[0m\n\u001b[0;32m--> 295\u001b[0;31m                 \u001b[0mwaiter\u001b[0m\u001b[0;34m.\u001b[0m\u001b[0macquire\u001b[0m\u001b[0;34m(\u001b[0m\u001b[0;34m)\u001b[0m\u001b[0;34m\u001b[0m\u001b[0m\n\u001b[0m\u001b[1;32m    296\u001b[0m                 \u001b[0mgotit\u001b[0m \u001b[0;34m=\u001b[0m \u001b[0;32mTrue\u001b[0m\u001b[0;34m\u001b[0m\u001b[0m\n\u001b[1;32m    297\u001b[0m             \u001b[0;32melse\u001b[0m\u001b[0;34m:\u001b[0m\u001b[0;34m\u001b[0m\u001b[0m\n",
      "\u001b[0;31mKeyboardInterrupt\u001b[0m: "
     ]
    }
   ],
   "source": [
    "n_estimators = 15\n",
    "\n",
    "r2_curve =[]\n",
    "\n",
    "for min_samples_leaf in [10]:\n",
    "    \n",
    "    this_regr_params = regr_parameters.copy()\n",
    "    this_regr_params['n_estimators'] = n_estimators\n",
    "    this_regr_params['min_samples_leaf'] = min_samples_leaf\n",
    "    \n",
    "    r = test_params(this_regr_params)\n",
    "    \n",
    "    r2_curve.append(r)\n",
    "    \n",
    "plt.plot(r2_curve)"
   ]
  },
  {
   "cell_type": "code",
   "execution_count": 27,
   "metadata": {},
   "outputs": [
    {
     "name": "stdout",
     "output_type": "stream",
     "text": [
      "n_estimators: 15,\t min_samples_leaf: 20\n",
      "0:\ttemp train score: 0.252750, valid score: 0.000643\n",
      "20:\ttemp train score: 0.252956, valid score: 0.025321\n",
      "40:\ttemp train score: 0.253936, valid score: 0.027279\n",
      "60:\ttemp train score: 0.249201, valid score: 0.028209\n",
      "80:\ttemp train score: 0.253229, valid score: 0.028869\n",
      "86:\ttemp train score: 0.251500, valid score: 0.028999\n",
      "full data\n",
      "0:\ttemp train score: 0.252143, valid score: 0.026080\n",
      "20:\ttemp train score: 0.250995, valid score: 0.048008\n",
      "40:\ttemp train score: 0.254619, valid score: 0.049496\n",
      "60:\ttemp train score: 0.247168, valid score: 0.050398\n",
      "80:\ttemp train score: 0.251868, valid score: 0.050932\n",
      "86:\ttemp train score: 0.253868, valid score: 0.051005\n",
      "saved\n"
     ]
    },
    {
     "data": {
      "text/plain": [
       "[<matplotlib.lines.Line2D at 0x1b27b1f1d0>,\n",
       " <matplotlib.lines.Line2D at 0x1b27b1f390>,\n",
       " <matplotlib.lines.Line2D at 0x1b27b1f630>,\n",
       " <matplotlib.lines.Line2D at 0x1b27b1f7b8>,\n",
       " <matplotlib.lines.Line2D at 0x1b27b1f908>,\n",
       " <matplotlib.lines.Line2D at 0x1b27b1fa58>,\n",
       " <matplotlib.lines.Line2D at 0x1b27b1fc18>,\n",
       " <matplotlib.lines.Line2D at 0x1b27b1fda0>,\n",
       " <matplotlib.lines.Line2D at 0x1b27b1fef0>,\n",
       " <matplotlib.lines.Line2D at 0x1b27b1fb00>,\n",
       " <matplotlib.lines.Line2D at 0x12a9fc8d0>,\n",
       " <matplotlib.lines.Line2D at 0x1b384b0518>,\n",
       " <matplotlib.lines.Line2D at 0x1b384b0dd8>,\n",
       " <matplotlib.lines.Line2D at 0x1b384b0780>,\n",
       " <matplotlib.lines.Line2D at 0x1b3fe285f8>,\n",
       " <matplotlib.lines.Line2D at 0x1b3fe28b70>,\n",
       " <matplotlib.lines.Line2D at 0x1b86328470>,\n",
       " <matplotlib.lines.Line2D at 0x1b863289b0>,\n",
       " <matplotlib.lines.Line2D at 0x1b86328dd8>,\n",
       " <matplotlib.lines.Line2D at 0x11fc33438>,\n",
       " <matplotlib.lines.Line2D at 0x1b32ee01d0>,\n",
       " <matplotlib.lines.Line2D at 0x1b32ee0cf8>,\n",
       " <matplotlib.lines.Line2D at 0x1b2514b198>,\n",
       " <matplotlib.lines.Line2D at 0x1b2514b4e0>,\n",
       " <matplotlib.lines.Line2D at 0x1b2514b940>,\n",
       " <matplotlib.lines.Line2D at 0x1b2514b160>,\n",
       " <matplotlib.lines.Line2D at 0x1b2514b390>,\n",
       " <matplotlib.lines.Line2D at 0x1b2514b588>,\n",
       " <matplotlib.lines.Line2D at 0x1b2514b780>,\n",
       " <matplotlib.lines.Line2D at 0x1b2514b9b0>,\n",
       " <matplotlib.lines.Line2D at 0x1b2514bbe0>,\n",
       " <matplotlib.lines.Line2D at 0x1b2514bd30>,\n",
       " <matplotlib.lines.Line2D at 0x1b2514be80>,\n",
       " <matplotlib.lines.Line2D at 0x1b2514bfd0>,\n",
       " <matplotlib.lines.Line2D at 0x1b22d472e8>,\n",
       " <matplotlib.lines.Line2D at 0x1b22d475c0>,\n",
       " <matplotlib.lines.Line2D at 0x1b22d47908>,\n",
       " <matplotlib.lines.Line2D at 0x1b22d470f0>,\n",
       " <matplotlib.lines.Line2D at 0x1b22d47320>,\n",
       " <matplotlib.lines.Line2D at 0x1b22d474e0>,\n",
       " <matplotlib.lines.Line2D at 0x1b22d47780>,\n",
       " <matplotlib.lines.Line2D at 0x1b22d479e8>,\n",
       " <matplotlib.lines.Line2D at 0x1b22d47c88>,\n",
       " <matplotlib.lines.Line2D at 0x1b22d47e48>,\n",
       " <matplotlib.lines.Line2D at 0x1b22d47f98>,\n",
       " <matplotlib.lines.Line2D at 0x1352ca0b8>,\n",
       " <matplotlib.lines.Line2D at 0x1b869e68d0>,\n",
       " <matplotlib.lines.Line2D at 0x1b22d560f0>,\n",
       " <matplotlib.lines.Line2D at 0x1b22d562e8>,\n",
       " <matplotlib.lines.Line2D at 0x1b22d56438>,\n",
       " <matplotlib.lines.Line2D at 0x1b22d565f8>,\n",
       " <matplotlib.lines.Line2D at 0x1b22d56b70>,\n",
       " <matplotlib.lines.Line2D at 0x1b22d568d0>,\n",
       " <matplotlib.lines.Line2D at 0x1b22d56e48>,\n",
       " <matplotlib.lines.Line2D at 0x1b22d56be0>,\n",
       " <matplotlib.lines.Line2D at 0x1b22d56d68>,\n",
       " <matplotlib.lines.Line2D at 0x1b22d56f98>,\n",
       " <matplotlib.lines.Line2D at 0x1b22d56940>,\n",
       " <matplotlib.lines.Line2D at 0x1b22d564a8>,\n",
       " <matplotlib.lines.Line2D at 0x1b25157208>,\n",
       " <matplotlib.lines.Line2D at 0x1b25157828>,\n",
       " <matplotlib.lines.Line2D at 0x1b25157c88>,\n",
       " <matplotlib.lines.Line2D at 0x1b251570b8>,\n",
       " <matplotlib.lines.Line2D at 0x1b251575c0>,\n",
       " <matplotlib.lines.Line2D at 0x1b25157a90>,\n",
       " <matplotlib.lines.Line2D at 0x1b25157080>,\n",
       " <matplotlib.lines.Line2D at 0x1b25157358>,\n",
       " <matplotlib.lines.Line2D at 0x1b25157710>,\n",
       " <matplotlib.lines.Line2D at 0x1b25157a58>,\n",
       " <matplotlib.lines.Line2D at 0x1b25157eb8>,\n",
       " <matplotlib.lines.Line2D at 0x1b69965a58>,\n",
       " <matplotlib.lines.Line2D at 0x1b69965c18>,\n",
       " <matplotlib.lines.Line2D at 0x1b69965748>,\n",
       " <matplotlib.lines.Line2D at 0x1b69965588>,\n",
       " <matplotlib.lines.Line2D at 0x1b69965eb8>,\n",
       " <matplotlib.lines.Line2D at 0x1b69965550>,\n",
       " <matplotlib.lines.Line2D at 0x1b69965cc0>,\n",
       " <matplotlib.lines.Line2D at 0x1b69965400>,\n",
       " <matplotlib.lines.Line2D at 0x1b69965978>,\n",
       " <matplotlib.lines.Line2D at 0x1b69965c88>,\n",
       " <matplotlib.lines.Line2D at 0x1b69965b70>,\n",
       " <matplotlib.lines.Line2D at 0x1b69965048>,\n",
       " <matplotlib.lines.Line2D at 0x1b24063240>,\n",
       " <matplotlib.lines.Line2D at 0x1b240636a0>,\n",
       " <matplotlib.lines.Line2D at 0x1b24063b70>,\n",
       " <matplotlib.lines.Line2D at 0x1b24063a20>,\n",
       " <matplotlib.lines.Line2D at 0x1b240630b8>]"
      ]
     },
     "execution_count": 27,
     "metadata": {},
     "output_type": "execute_result"
    },
    {
     "data": {
      "image/png": "[encoded data removed]",
      "text/plain": [
       "<Figure size 432x288 with 1 Axes>"
      ]
     },
     "metadata": {},
     "output_type": "display_data"
    }
   ],
   "source": [
    "n_estimators = 15\n",
    "\n",
    "r2_curve =[]\n",
    "\n",
    "for min_samples_leaf in [20]:\n",
    "    \n",
    "    this_regr_params = regr_parameters.copy()\n",
    "    this_regr_params['n_estimators'] = n_estimators\n",
    "    this_regr_params['min_samples_leaf'] = min_samples_leaf\n",
    "    \n",
    "    r = test_params(this_regr_params)\n",
    "    \n",
    "    r2_curve.append(r)\n",
    "    \n",
    "plt.plot(r2_curve)"
   ]
  },
  {
   "cell_type": "code",
   "execution_count": 29,
   "metadata": {},
   "outputs": [
    {
     "name": "stdout",
     "output_type": "stream",
     "text": [
      "n_estimators: 15,\t min_samples_leaf: 10\n",
      "full data\n",
      "0:\ttemp train score: 0.406633, valid score: 0.024674\n",
      "20:\ttemp train score: 0.405099, valid score: 0.058914\n",
      "40:\ttemp train score: 0.409526, valid score: 0.061328\n",
      "60:\ttemp train score: 0.404693, valid score: 0.062854\n",
      "80:\ttemp train score: 0.404266, valid score: 0.063519\n",
      "86:\ttemp train score: 0.408802, valid score: 0.063526\n"
     ]
    }
   ],
   "source": [
    "n_estimators = 15\n",
    "\n",
    "min_samples_leaf = 10\n",
    "\n",
    "this_regr_params = regr_parameters.copy()\n",
    "this_regr_params['n_estimators'] = n_estimators\n",
    "this_regr_params['min_samples_leaf'] = min_samples_leaf\n",
    "\n",
    "print('n_estimators: %d,\\t min_samples_leaf: %d'%(this_regr_params['n_estimators'],this_regr_params['min_samples_leaf']))\n",
    "\n",
    "print('full data')\n",
    "regr_full, _ , valid_score_full = RF87slice(this_regr_params,X_all_demean,y_all,X_test_demean, y_test)\n",
    "\n",
    "out = {'model':regr_full,\n",
    "      'model_params':this_regr_params,\n",
    "      'features':ft_pick,\n",
    "      'ft_range':df[ft_pick].max()-df[ft_pick].min(),\n",
    "      'ft_mean':df[ft_pick].mean()}\n",
    "\n",
    "path = 'RF0930_ft32_nt%d_mtl%d_fulldata'%\\\n",
    "                (this_regr_params['n_estimators'],this_regr_params['min_samples_leaf'])\n",
    "\n",
    "model2pickle(out,  path)"
   ]
  },
  {
   "cell_type": "code",
   "execution_count": 31,
   "metadata": {},
   "outputs": [
    {
     "name": "stdout",
     "output_type": "stream",
     "text": [
      "n_estimators: 17,\t min_samples_leaf: 15\n",
      "0:\ttemp train score: 0.312936, valid score: -0.003656\n",
      "20:\ttemp train score: 0.312056, valid score: 0.025869\n",
      "40:\ttemp train score: 0.317869, valid score: 0.027547\n",
      "60:\ttemp train score: 0.309789, valid score: 0.028354\n",
      "80:\ttemp train score: 0.313390, valid score: 0.029138\n",
      "86:\ttemp train score: 0.313625, valid score: 0.029275\n",
      "full data\n",
      "0:\ttemp train score: 0.313363, valid score: 0.026551\n",
      "20:\ttemp train score: 0.310426, valid score: 0.052378\n",
      "40:\ttemp train score: 0.314180, valid score: 0.054026\n",
      "60:\ttemp train score: 0.308966, valid score: 0.055156\n",
      "80:\ttemp train score: 0.310739, valid score: 0.055673\n",
      "86:\ttemp train score: 0.312336, valid score: 0.055739\n",
      "saved\n",
      "n_estimators: 18,\t min_samples_leaf: 15\n",
      "0:\ttemp train score: 0.314132, valid score: -0.002419\n",
      "20:\ttemp train score: 0.313247, valid score: 0.025890\n",
      "40:\ttemp train score: 0.318693, valid score: 0.027538\n",
      "60:\ttemp train score: 0.310428, valid score: 0.028415\n",
      "80:\ttemp train score: 0.314109, valid score: 0.029168\n",
      "86:\ttemp train score: 0.314737, valid score: 0.029306\n",
      "full data\n",
      "0:\ttemp train score: 0.314385, valid score: 0.028197\n",
      "20:\ttemp train score: 0.311124, valid score: 0.052425\n",
      "40:\ttemp train score: 0.314854, valid score: 0.054069\n",
      "60:\ttemp train score: 0.310610, valid score: 0.055215\n",
      "80:\ttemp train score: 0.311616, valid score: 0.055731\n",
      "86:\ttemp train score: 0.312858, valid score: 0.055805\n",
      "saved\n",
      "n_estimators: 19,\t min_samples_leaf: 15\n",
      "0:\ttemp train score: 0.315130, valid score: -0.000997\n",
      "20:\ttemp train score: 0.313979, valid score: 0.025965\n",
      "40:\ttemp train score: 0.318774, valid score: 0.027560\n",
      "60:\ttemp train score: 0.311331, valid score: 0.028469\n",
      "80:\ttemp train score: 0.314900, valid score: 0.029219\n",
      "86:\ttemp train score: 0.315194, valid score: 0.029360\n",
      "full data\n",
      "0:\ttemp train score: 0.314454, valid score: 0.029630\n",
      "20:\ttemp train score: 0.311893, valid score: 0.052469\n",
      "40:\ttemp train score: 0.315593, valid score: 0.054129\n",
      "60:\ttemp train score: 0.311269, valid score: 0.055274\n",
      "80:\ttemp train score: 0.312718, valid score: 0.055814\n",
      "86:\ttemp train score: 0.313557, valid score: 0.055881\n",
      "saved\n",
      "n_estimators: 20,\t min_samples_leaf: 15\n",
      "0:\ttemp train score: 0.315787, valid score: 0.001082\n",
      "20:\ttemp train score: 0.314700, valid score: 0.025967\n",
      "40:\ttemp train score: 0.319360, valid score: 0.027564\n",
      "60:\ttemp train score: 0.312114, valid score: 0.028502\n",
      "80:\ttemp train score: 0.316287, valid score: 0.029249\n",
      "86:\ttemp train score: 0.315458, valid score: 0.029385\n",
      "full data\n",
      "0:\ttemp train score: 0.315050, valid score: 0.030869\n",
      "20:\ttemp train score: 0.312554, valid score: 0.052645\n",
      "40:\ttemp train score: 0.316183, valid score: 0.054231\n",
      "60:\ttemp train score: 0.312100, valid score: 0.055339\n",
      "80:\ttemp train score: 0.313125, valid score: 0.055836\n",
      "86:\ttemp train score: 0.314518, valid score: 0.055888\n",
      "saved\n"
     ]
    }
   ],
   "source": [
    "min_samples_leaf = 15\n",
    "for n_estimators in [17,18,19,20]:\n",
    "    \n",
    "    this_regr_params = regr_parameters.copy()\n",
    "    this_regr_params['n_estimators'] = n_estimators\n",
    "    this_regr_params['min_samples_leaf'] = min_samples_leaf\n",
    "    \n",
    "    r = test_params(this_regr_params)"
   ]
  },
  {
   "cell_type": "code",
   "execution_count": 32,
   "metadata": {},
   "outputs": [
    {
     "name": "stdout",
     "output_type": "stream",
     "text": [
      "n_estimators: 15,\t min_samples_leaf: 14\n",
      "0:\ttemp train score: 0.324863, valid score: -0.009216\n",
      "20:\ttemp train score: 0.324976, valid score: 0.025155\n",
      "40:\ttemp train score: 0.330380, valid score: 0.027025\n",
      "60:\ttemp train score: 0.322730, valid score: 0.028123\n",
      "80:\ttemp train score: 0.325635, valid score: 0.028991\n",
      "86:\ttemp train score: 0.326363, valid score: 0.029160\n",
      "full data\n",
      "0:\ttemp train score: 0.326220, valid score: 0.023279\n",
      "20:\ttemp train score: 0.323619, valid score: 0.053547\n",
      "40:\ttemp train score: 0.327338, valid score: 0.055370\n",
      "60:\ttemp train score: 0.321708, valid score: 0.056408\n",
      "80:\ttemp train score: 0.323572, valid score: 0.056946\n",
      "86:\ttemp train score: 0.326031, valid score: 0.057001\n",
      "saved\n",
      "n_estimators: 15,\t min_samples_leaf: 13\n",
      "0:\ttemp train score: 0.343535, valid score: -0.012751\n",
      "20:\ttemp train score: 0.340885, valid score: 0.025170\n",
      "40:\ttemp train score: 0.346962, valid score: 0.027125\n",
      "60:\ttemp train score: 0.339392, valid score: 0.028197\n",
      "80:\ttemp train score: 0.343379, valid score: 0.029035\n",
      "86:\ttemp train score: 0.342039, valid score: 0.029213\n",
      "full data\n",
      "0:\ttemp train score: 0.344046, valid score: 0.023499\n",
      "20:\ttemp train score: 0.340158, valid score: 0.054492\n",
      "40:\ttemp train score: 0.344683, valid score: 0.056552\n",
      "60:\ttemp train score: 0.339509, valid score: 0.057804\n",
      "80:\ttemp train score: 0.339299, valid score: 0.058337\n",
      "86:\ttemp train score: 0.342770, valid score: 0.058398\n",
      "saved\n",
      "n_estimators: 15,\t min_samples_leaf: 12\n",
      "0:\ttemp train score: 0.362555, valid score: -0.014718\n",
      "20:\ttemp train score: 0.359485, valid score: 0.024896\n",
      "40:\ttemp train score: 0.366605, valid score: 0.027046\n",
      "60:\ttemp train score: 0.358697, valid score: 0.028166\n",
      "80:\ttemp train score: 0.362267, valid score: 0.029041\n",
      "86:\ttemp train score: 0.362278, valid score: 0.029220\n",
      "full data\n",
      "0:\ttemp train score: 0.362021, valid score: 0.023971\n",
      "20:\ttemp train score: 0.359302, valid score: 0.055649\n",
      "40:\ttemp train score: 0.363237, valid score: 0.057716\n",
      "60:\ttemp train score: 0.356893, valid score: 0.059165\n",
      "80:\ttemp train score: 0.358813, valid score: 0.059773\n",
      "86:\ttemp train score: 0.361535, valid score: 0.059848\n",
      "saved\n",
      "n_estimators: 15,\t min_samples_leaf: 11\n",
      "0:\ttemp train score: 0.383861, valid score: -0.016843\n",
      "20:\ttemp train score: 0.379779, valid score: 0.024795\n",
      "40:\ttemp train score: 0.386313, valid score: 0.026936\n",
      "60:\ttemp train score: 0.379904, valid score: 0.028184\n",
      "80:\ttemp train score: 0.384107, valid score: 0.029051\n",
      "86:\ttemp train score: 0.383085, valid score: 0.029243\n",
      "full data\n",
      "0:\ttemp train score: 0.382391, valid score: 0.025145\n",
      "20:\ttemp train score: 0.382082, valid score: 0.057110\n",
      "40:\ttemp train score: 0.383866, valid score: 0.059506\n",
      "60:\ttemp train score: 0.378134, valid score: 0.061017\n",
      "80:\ttemp train score: 0.380215, valid score: 0.061595\n",
      "86:\ttemp train score: 0.382500, valid score: 0.061674\n",
      "saved\n"
     ]
    }
   ],
   "source": [
    "n_estimators = 15\n",
    "for min_samples_leaf in [14,13,12,11]:\n",
    "    \n",
    "    this_regr_params = regr_parameters.copy()\n",
    "    this_regr_params['n_estimators'] = n_estimators\n",
    "    this_regr_params['min_samples_leaf'] = min_samples_leaf\n",
    "    \n",
    "    r = test_params(this_regr_params)"
   ]
  },
  {
   "cell_type": "code",
   "execution_count": null,
   "metadata": {},
   "outputs": [],
   "source": []
  }
 ],
 "metadata": {
  "kernelspec": {
   "display_name": "Python 3",
   "language": "python",
   "name": "python3"
  },
  "language_info": {
   "codemirror_mode": {
    "name": "ipython",
    "version": 3
   },
   "file_extension": ".py",
   "mimetype": "text/x-python",
   "name": "python",
   "nbconvert_exporter": "python",
   "pygments_lexer": "ipython3",
   "version": "3.6.4"
  }
 },
 "nbformat": 4,
 "nbformat_minor": 2
}
