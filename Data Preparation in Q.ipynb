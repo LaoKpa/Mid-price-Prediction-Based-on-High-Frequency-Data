{
 "cells": [
  {
   "cell_type": "markdown",
   "metadata": {},
   "source": [
    "# Data Preparation in q/kdb+\n",
    "\n",
    "Use q to do the heavy work, handle large dataset manipulation. \n",
    "\n",
    "This notebook does 3 things.\n",
    "1. load data\n",
    "2. reshape data for visualization\n",
    "3. feature engineering"
   ]
  },
  {
   "cell_type": "markdown",
   "metadata": {},
   "source": [
    "# Read Data into Table"
   ]
  },
  {
   "cell_type": "markdown",
   "metadata": {},
   "source": [
    "### Preview File as Text"
   ]
  },
  {
   "cell_type": "code",
   "execution_count": 1,
   "metadata": {},
   "outputs": [],
   "source": [
    "fname:\"/home/shiyu/Desktop/XTX_challenge/data/data-training.csv\""
   ]
  },
  {
   "cell_type": "code",
   "execution_count": 2,
   "metadata": {
    "scrolled": true
   },
   "outputs": [
    {
     "data": {
      "text/plain": [
       "\"askRate0,askRate1,askRate2,askRate3,askRate4,askRate5,askRate6,askRate7,askR..\n",
       "\"1619.5,1620.0,1621.0,,,,,,,,,,,,,1.0,10.0,24.0,,,,,,,,,,,,,1615.0,1614.0,161..\n",
       "\"1619.5,1620.0,1621.0,1621.5,,,,,,,,,,,,1.0,10.0,24.0,5.0,,,,,,,,,,,,1615.0,1..\n",
       "\"1619.5,1620.0,1621.0,1621.5,1622.0,,,,,,,,,,,1.0,10.0,24.0,5.0,2.0,,,,,,,,,,..\n",
       "\"1619.5,1620.0,1621.0,1621.5,1622.0,,,,,,,,,,,1.0,10.0,24.0,5.0,22.0,,,,,,,,,..\n",
       "\"1619.5,1620.0,1621.0,1621.5,1622.0,,,,,,,,,,,1.0,10.0,24.0,5.0,32.0,,,,,,,,,..\n",
       "\"1619.5,1620.0,1621.0,1621.5,1622.0,,,,,,,,,,,1.0,10.0,24.0,5.0,152.0,,,,,,,,..\n",
       "\"1619.5,1620.0,1621.0,1621.5,1622.0,1623.0,,,,,,,,,,1.0,10.0,24.0,5.0,152.0,1..\n",
       "\"1619.5,1620.0,1621.0,1621.5,1622.0,1623.0,1623.5,,,,,,,,,1.0,10.0,24.0,5.0,1..\n",
       "\"1619.5,1620.0,1621.0,1621.5,1622.0,1623.0,1623.5,1624.0,,,,,,,,1.0,10.0,24.0..\n"
      ]
     },
     "execution_count": 2,
     "metadata": {},
     "output_type": "execute_result"
    }
   ],
   "source": [
    "10#system \"cat \",fname"
   ]
  },
  {
   "cell_type": "markdown",
   "metadata": {},
   "source": [
    "### Understand the Fields"
   ]
  },
  {
   "cell_type": "code",
   "execution_count": 3,
   "metadata": {
    "scrolled": true
   },
   "outputs": [
    {
     "name": "stdout",
     "output_type": "stream",
     "text": [
      "\"column number: 61\"\n",
      "colnames   \n",
      "-----------\n",
      "\"askRate0\" \n",
      "\"askRate1\" \n",
      "\"askRate2\" \n",
      "\"askRate3\" \n",
      "\"askRate4\" \n",
      "\"askRate5\" \n",
      "\"askRate6\" \n",
      "\"askRate7\" \n",
      "\"askRate8\" \n",
      "\"askRate9\" \n",
      "\"askRate10\"\n",
      "\"askRate11\"\n",
      "\"askRate12\"\n",
      "\"askRate13\"\n",
      "\"askRate14\"\n",
      "\"askSize0\" \n",
      "\"askSize1\" \n",
      "\"askSize2\" \n",
      "\"askSize3\" \n",
      "\"askSize4\" \n",
      "..\n"
     ]
    }
   ],
   "source": [
    "colnames: \",\" vs first system \"head \",fname\n",
    "\n",
    "show \"column number: \", string count colnames\n",
    "show ([]colnames:colnames)"
   ]
  },
  {
   "cell_type": "code",
   "execution_count": 4,
   "metadata": {},
   "outputs": [],
   "source": [
    "bid_rates_col:\"bidRate\",/:string til 14\n",
    "bid_sizes_col:\"bidSize\",/:string til 14\n",
    "ask_rates_col:\"askRate\",/:string til 14\n",
    "ask_sizes_col:\"askSize\",/:string til 14"
   ]
  },
  {
   "cell_type": "markdown",
   "metadata": {},
   "source": [
    "### Load Table"
   ]
  },
  {
   "cell_type": "code",
   "execution_count": 5,
   "metadata": {},
   "outputs": [],
   "source": [
    "t:(61#\"F\";enlist \",\") 0: read0 hsym `$fname"
   ]
  },
  {
   "cell_type": "markdown",
   "metadata": {},
   "source": [
    "### Add Time as Key\n",
    "The data doesn't provide timestamp. We only rows are sequential ticks. Simply use row number as time to keep the sequence."
   ]
  },
  {
   "cell_type": "code",
   "execution_count": 6,
   "metadata": {},
   "outputs": [],
   "source": [
    "t: update time:i from t"
   ]
  },
  {
   "cell_type": "markdown",
   "metadata": {},
   "source": [
    "[Read Data into Table] ends"
   ]
  },
  {
   "cell_type": "markdown",
   "metadata": {},
   "source": [
    "# Reshape Data for Visualization Purpose\n",
    "\n",
    "Let each row represents one level at a time, i.e. keyed by [level;time]. For visualizing orders distirbution over time."
   ]
  },
  {
   "cell_type": "code",
   "execution_count": 7,
   "metadata": {},
   "outputs": [],
   "source": [
    "/unstack data of one price level [x]\n",
    "f_unstack:{?[t;();0b;`time`level`askRate`askSize`bidRate`bidSize!\n",
    "                     `time,x,(`$\"askRate\",string x),(`$\"askSize\",string x),\n",
    "                             (`$\"bidRate\",string x),(`$\"bidSize\",string x)]}"
   ]
  },
  {
   "cell_type": "code",
   "execution_count": 8,
   "metadata": {
    "scrolled": true
   },
   "outputs": [],
   "source": [
    "t_unstack: raze f_unstack each til 14"
   ]
  },
  {
   "cell_type": "markdown",
   "metadata": {},
   "source": [
    "### Check Resulted Table"
   ]
  },
  {
   "cell_type": "code",
   "execution_count": 9,
   "metadata": {
    "scrolled": true
   },
   "outputs": [
    {
     "data": {
      "text/plain": [
       "time level askRate askSize bidRate bidSize\n",
       "------------------------------------------\n",
       "0    0     1619.5  1       1615    7      \n",
       "1    0     1619.5  1       1615    7      \n",
       "2    0     1619.5  1       1615    7      \n",
       "3    0     1619.5  1       1615    7      \n",
       "4    0     1619.5  1       1615    7      \n",
       "5    0     1619.5  1       1615    7      \n",
       "6    0     1619.5  1       1615    7      \n",
       "7    0     1619.5  1       1615    7      \n",
       "8    0     1619.5  1       1615    7      \n",
       "9    0     1619.5  1       1615    7      \n"
      ]
     },
     "execution_count": 9,
     "metadata": {},
     "output_type": "execute_result"
    }
   ],
   "source": [
    "/check the first few lines...\n",
    "10#t_unstack"
   ]
  },
  {
   "cell_type": "code",
   "execution_count": 10,
   "metadata": {
    "scrolled": true
   },
   "outputs": [
    {
     "data": {
      "text/plain": [
       "       | ifmatch\n",
       "------ | -------\n",
       "748428 | 1      \n",
       "2102632| 1      \n",
       "1523210| 1      \n",
       "1778945| 1      \n",
       "1501018| 1      \n"
      ]
     },
     "execution_count": 10,
     "metadata": {},
     "output_type": "execute_result"
    }
   ],
   "source": [
    "/randomly pick time points, check if bidRate for 14 levels match raw data\n",
    "f_check:{14=sum value(select ifmatch:bidRate from t_unstack where time=x)\n",
    "            =flip ?[t;enlist (=;`time;x);0b;(`$bid_rates_col)!`$bid_rates_col]}\n",
    "\n",
    "rdnlist:5?count t\n",
    "rdnlist!f_check peach rdnlist"
   ]
  },
  {
   "cell_type": "markdown",
   "metadata": {},
   "source": [
    "### Dump Data into Splayed Table and .csv\n",
    "\n",
    "The splayed table is for future loading in q. .csv is for loading in python. Right, just too rich in local storage."
   ]
  },
  {
   "cell_type": "code",
   "execution_count": 11,
   "metadata": {},
   "outputs": [
    {
     "data": {
      "text/plain": [
       "\"dumptable:{[t;fp;sep]\"\n",
       "\" (hsym `$fp)0:sep 0:t;\"\n",
       "\" };\"\n"
      ]
     },
     "execution_count": 11,
     "metadata": {},
     "output_type": "execute_result"
    }
   ],
   "source": [
    "/load function from lib\n",
    "\\l ../data/lib.q\n",
    "system \"cat ../data/lib.q\""
   ]
  },
  {
   "cell_type": "code",
   "execution_count": 12,
   "metadata": {},
   "outputs": [
    {
     "data": {
      "text/plain": [
       "`:/home/shiyu/Desktop/XTX_challenge/data/data_unstack_splayed/\n"
      ]
     },
     "execution_count": 12,
     "metadata": {},
     "output_type": "execute_result"
    }
   ],
   "source": [
    "/save as splayed table\n",
    "`:/home/shiyu/Desktop/XTX_challenge/data/data_unstack_splayed/ set t\n",
    "/ save as .csv\n",
    "dumptable[t_unstack;\"/home/shiyu/Desktop/XTX_challenge/data/data_unstack.csv\";\",\"]"
   ]
  },
  {
   "cell_type": "markdown",
   "metadata": {},
   "source": [
    "[Reshape Data for Visualization Purpose] ends"
   ]
  },
  {
   "cell_type": "markdown",
   "metadata": {},
   "source": [
    "# Feature Engineering"
   ]
  },
  {
   "cell_type": "code",
   "execution_count": 7,
   "metadata": {},
   "outputs": [],
   "source": [
    "/fill null\n",
    "t:0^t"
   ]
  },
  {
   "cell_type": "code",
   "execution_count": 8,
   "metadata": {},
   "outputs": [],
   "source": [
    "/utilities\n",
    "/diff function\n",
    "f_diff:{[col;lag]l:count t;(lag#0f),(((lag-l)#t[col])-(l-lag)#t[col])} /return list\n",
    "f_diff_t:{(enlist`$x,\"_diff\",string y)!enlist f_diff[`$x;y]} /return table"
   ]
  },
  {
   "cell_type": "markdown",
   "metadata": {},
   "source": [
    "### Mid Price, Spread, Book Price\n",
    "... and its Moving Average, Moving Volatility and Change"
   ]
  },
  {
   "cell_type": "code",
   "execution_count": 9,
   "metadata": {},
   "outputs": [],
   "source": [
    "/mid price = (askRate0+bidRate0)/2\n",
    "t:update midprice:(askRate0+bidRate0)%2 from t\n",
    "\n",
    "/spread = askRate0 - bidRate0\n",
    "t:![t;();0b;(enlist `spread)!enlist (-;`askRate0;`bidRate0)]\n",
    "\n",
    "/book price = (askRate_i*bidSize_i+bidRate_i*askSize_i)/(askSize_i+bidSize_i)\n",
    "f_bp:{[aR;aS;bR;bS](aR*bS+bR*aS)%(aS+bS)}\n",
    "t:![t;();0b;raze{(enlist `$\"bookprice\",string x)!\n",
    "                  enlist(f_bp;\n",
    "                         `$\"askRate\",string x;\n",
    "                         `$\"askSize\",string x;\n",
    "                         `$\"bidRate\",string x;\n",
    "                         `$\"bidSize\",string x)} peach til 3]"
   ]
  },
  {
   "cell_type": "code",
   "execution_count": 10,
   "metadata": {},
   "outputs": [],
   "source": [
    "/moving average of prices/spread\n",
    "\n",
    "/col: column name\n",
    "/l: window length\n",
    "f_ma_t:{[col;l](enlist `$(string col),\"_ma\",string l)!enlist (l msum t col)%l }\n",
    "t:![t;();0b;raze raze (f_ma_t each (`midprice`spread`bookprice0)) peach (5 15 45 87 180 360)]"
   ]
  },
  {
   "cell_type": "code",
   "execution_count": 11,
   "metadata": {},
   "outputs": [],
   "source": [
    "/moving volatility of prices/spread\n",
    "f_std_t:{[col;l](enlist `$(string col),\"_std\",string l)!enlist (l msum t col)%l }\n",
    "t:![t;();0b;raze raze (f_std_t each (`midprice`spread`bookprice0)) peach (5 15 45 87 180 360)]"
   ]
  },
  {
   "cell_type": "code",
   "execution_count": 12,
   "metadata": {},
   "outputs": [],
   "source": [
    "/change of prices/spread\n",
    "t:![t;();0b;raze raze (f_diff_t each string `midprice`spread`bookprice0) peach (5 15 45 87 180 360)]"
   ]
  },
  {
   "cell_type": "markdown",
   "metadata": {},
   "source": [
    "### Volume, Level\n",
    "... and its Change"
   ]
  },
  {
   "cell_type": "code",
   "execution_count": 13,
   "metadata": {},
   "outputs": [],
   "source": [
    "/level change\n",
    "t:![t;();0b;raze raze (f_diff_t each (ask_rates_col,bid_rates_col)) peach (5 15 45 87 180 360)]\n",
    "\n",
    "/volume = sum of ask/bid size for level 0-14\n",
    "t:![t;();0b;(enlist `askSize_ttl)!enlist sum?[t;();();(`$ask_sizes_col)!`$ask_sizes_col]]\n",
    "t:![t;();0b;(enlist `bidSize_ttl)!enlist sum?[t;();();(`$bid_sizes_col)!`$bid_sizes_col]]\n",
    "\n",
    "/volume change\n",
    "t:![t;();0b;raze raze (f_diff_t each (ask_sizes_col,bid_sizes_col)) peach (5 15 45 87 180 360)]"
   ]
  },
  {
   "cell_type": "markdown",
   "metadata": {},
   "source": [
    "### Volume Imbalance\n",
    "... and its Change"
   ]
  },
  {
   "cell_type": "code",
   "execution_count": 14,
   "metadata": {},
   "outputs": [],
   "source": [
    "/volume imbalance for level i = bidSize_i/(bidSize_i+askSize_i)\n",
    "f_vol_imb:{[aS;bS]bS%(aS+bS)}\n",
    "t:![t;();0b;raze{(enlist `$\"vol_imb\",string x)!\n",
    "                  enlist (f_vol_imb;\n",
    "                          `$\"askSize\",string x;\n",
    "                          `$\"bidSize\",string x)} peach til 15]"
   ]
  },
  {
   "cell_type": "code",
   "execution_count": 15,
   "metadata": {},
   "outputs": [],
   "source": [
    "/aggregated volume imbalance for level i-j\n",
    "\n",
    "/tt: table\n",
    "/i: start level\n",
    "/j: end level\n",
    "/d: direction {ask,bid}\n",
    "f_vol_agg:{[tt;i;j;d]col:d,/:\"Size\",/:string(i-j-1)#til j+1; /columns to aggregate\n",
    "            sum?[tt;();();(`$col)!`$col]} /return aggregated column\n",
    "f_vol_imb_agg:{[tt;i;j]f_vol_imb[f_vol_agg[tt;i;j;\"ask\"];f_vol_agg[tt;i;j;\"bid\"]]}\n",
    "\n",
    "/level 0-4\n",
    "t:![t;();0b;(enlist `$\"vol_imb_agg\",\"0_4\")!enlist f_vol_imb_agg[t;0;4]]\n",
    "/level 5-14\n",
    "t:![t;();0b;(enlist `$\"vol_imb_agg\",\"5_14\")!enlist f_vol_imb_agg[t;5;14]]"
   ]
  },
  {
   "cell_type": "code",
   "execution_count": 16,
   "metadata": {},
   "outputs": [],
   "source": [
    "/aggregated volume imbalance change\n",
    "t:![t;();0b;raze raze (f_diff_t each string `vol_imb_agg0_4`vol_imb_agg5_14) peach (5 15 45 87 180 360)]"
   ]
  },
  {
   "cell_type": "markdown",
   "metadata": {},
   "source": [
    "### Level Sparsity"
   ]
  },
  {
   "cell_type": "code",
   "execution_count": 17,
   "metadata": {},
   "outputs": [],
   "source": [
    "/level sparsity = askRate_i - askRate_0\n",
    "/d: direction {ask/bid}\n",
    "/l: level 1-14\n",
    "f_spar:{[d;l]col:d,\"Rate\";t[`$col,string l]-t[`$col,string 0]}\n",
    "f_spar_t:{[d;l](enlist`$ raze d,\"Rate\",(string l),\"_spa\")!enlist f_spar[d;l]}\n",
    "\n",
    "t:![t;();0b;raze raze (f_spar_t each (\"ask\";\"bid\")) peach (1,2,3,7,14)]\n",
    "\n",
    "/aggregated clipped top 3 level sparsity\n",
    "bid_diff: sum 0|2.5&-[t `$\"bidRate\",/:string til 3;t `$\"bidRate\",/:string -3#til 4]-0.5\n",
    "ask_diff: sum 0|2.5&-[t `$\"askRate\",/:string -3#til 4;t `$\"askRate\",/:string til 3]-0.5\n",
    "t:![t;();0b;(enlist `bard)!enlist (bid_diff+ask_diff)]"
   ]
  },
  {
   "cell_type": "markdown",
   "metadata": {},
   "source": [
    "### Dump Table of Features into Splayed Table"
   ]
  },
  {
   "cell_type": "code",
   "execution_count": 18,
   "metadata": {},
   "outputs": [
    {
     "data": {
      "text/plain": [
       "`:/home/shiyu/Desktop/XTX_challenge/data/data_features_splayed/\n"
      ]
     },
     "execution_count": 18,
     "metadata": {},
     "output_type": "execute_result"
    }
   ],
   "source": [
    "`:/home/shiyu/Desktop/XTX_challenge/data/data_features_splayed/ set t"
   ]
  },
  {
   "cell_type": "markdown",
   "metadata": {},
   "source": [
    "[Feature Engineering] ends"
   ]
  }
 ],
 "metadata": {
  "kernelspec": {
   "display_name": "Q (kdb+)",
   "language": "q",
   "name": "qpk"
  },
  "language_info": {
   "file_extension": ".q",
   "mimetype": "text/x-q",
   "name": "q",
   "version": "3.6.0"
  }
 },
 "nbformat": 4,
 "nbformat_minor": 2
}
