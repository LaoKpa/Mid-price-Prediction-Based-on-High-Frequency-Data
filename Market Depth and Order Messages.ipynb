{
 "cells": [
  {
   "cell_type": "markdown",
   "metadata": {},
   "source": [
    "# Market Depth View, Market/Limit Orders\n",
    "\n",
    "This notebook is to create market depth view of order book and approximate market and limit order message. It's not feature engineering.\n",
    "\n",
    "- Raw order book data includes 14 levels of ask/bid sizes and rates on fixed column names. \n",
    "\n",
    "- Market depth view transforms the data so the columns are a fixed axis of price levels. Axis: Time-Prices; Value: Order Size.\n",
    "\n",
    "We could estimate the size of market order, limit order and cancelled order from market depth view.\n",
    "\n",
    "\n",
    "### Table of Contents\n",
    "\n",
    "1. [Load Raw Training Data](#1)\n",
    "\n",
    "2. [Create Market Depth View of Limit Order Book](#2)\n",
    "  \n",
    "3. [Approximate Market, Limit and Cancelled Orders](#3)\n",
    "\n",
    "4. [Results Summary](#4)"
   ]
  },
  {
   "cell_type": "code",
   "execution_count": 2,
   "metadata": {},
   "outputs": [],
   "source": [
    "import numpy as np\n",
    "import pandas as pd\n",
    "import feather\n",
    "import matplotlib.pyplot as plt\n",
    "import seaborn as sns\n",
    "\n",
    "sns.set(style = 'whitegrid')\n",
    "\n",
    "%matplotlib inline"
   ]
  },
  {
   "cell_type": "markdown",
   "metadata": {},
   "source": [
    "<a id=\"1\" ></a>\n",
    "# Load Raw Training Data"
   ]
  },
  {
   "cell_type": "code",
   "execution_count": 3,
   "metadata": {},
   "outputs": [],
   "source": [
    "t_raw = feather.read_dataframe('../data-training.feather')"
   ]
  },
  {
   "cell_type": "code",
   "execution_count": 4,
   "metadata": {},
   "outputs": [
    {
     "data": {
      "text/html": [
       "<div>\n",
       "<style scoped>\n",
       "    .dataframe tbody tr th:only-of-type {\n",
       "        vertical-align: middle;\n",
       "    }\n",
       "\n",
       "    .dataframe tbody tr th {\n",
       "        vertical-align: top;\n",
       "    }\n",
       "\n",
       "    .dataframe thead th {\n",
       "        text-align: right;\n",
       "    }\n",
       "</style>\n",
       "<table border=\"1\" class=\"dataframe\">\n",
       "  <thead>\n",
       "    <tr style=\"text-align: right;\">\n",
       "      <th></th>\n",
       "      <th>askRate0</th>\n",
       "      <th>askRate1</th>\n",
       "      <th>askRate2</th>\n",
       "      <th>askRate3</th>\n",
       "      <th>askRate4</th>\n",
       "      <th>askRate5</th>\n",
       "      <th>askRate6</th>\n",
       "      <th>askRate7</th>\n",
       "      <th>askRate8</th>\n",
       "      <th>askRate9</th>\n",
       "      <th>...</th>\n",
       "      <th>bidSize6</th>\n",
       "      <th>bidSize7</th>\n",
       "      <th>bidSize8</th>\n",
       "      <th>bidSize9</th>\n",
       "      <th>bidSize10</th>\n",
       "      <th>bidSize11</th>\n",
       "      <th>bidSize12</th>\n",
       "      <th>bidSize13</th>\n",
       "      <th>bidSize14</th>\n",
       "      <th>y</th>\n",
       "    </tr>\n",
       "  </thead>\n",
       "  <tbody>\n",
       "    <tr>\n",
       "      <td>0</td>\n",
       "      <td>1619.5</td>\n",
       "      <td>1620.0</td>\n",
       "      <td>1621.0</td>\n",
       "      <td>NaN</td>\n",
       "      <td>NaN</td>\n",
       "      <td>NaN</td>\n",
       "      <td>NaN</td>\n",
       "      <td>NaN</td>\n",
       "      <td>NaN</td>\n",
       "      <td>NaN</td>\n",
       "      <td>...</td>\n",
       "      <td>20.0</td>\n",
       "      <td>27.0</td>\n",
       "      <td>11.0</td>\n",
       "      <td>14.0</td>\n",
       "      <td>35.0</td>\n",
       "      <td>10.0</td>\n",
       "      <td>1.0</td>\n",
       "      <td>10.0</td>\n",
       "      <td>13.0</td>\n",
       "      <td>-0.5</td>\n",
       "    </tr>\n",
       "    <tr>\n",
       "      <td>1</td>\n",
       "      <td>1619.5</td>\n",
       "      <td>1620.0</td>\n",
       "      <td>1621.0</td>\n",
       "      <td>1621.5</td>\n",
       "      <td>NaN</td>\n",
       "      <td>NaN</td>\n",
       "      <td>NaN</td>\n",
       "      <td>NaN</td>\n",
       "      <td>NaN</td>\n",
       "      <td>NaN</td>\n",
       "      <td>...</td>\n",
       "      <td>20.0</td>\n",
       "      <td>27.0</td>\n",
       "      <td>11.0</td>\n",
       "      <td>14.0</td>\n",
       "      <td>35.0</td>\n",
       "      <td>10.0</td>\n",
       "      <td>1.0</td>\n",
       "      <td>10.0</td>\n",
       "      <td>13.0</td>\n",
       "      <td>-0.5</td>\n",
       "    </tr>\n",
       "    <tr>\n",
       "      <td>2</td>\n",
       "      <td>1619.5</td>\n",
       "      <td>1620.0</td>\n",
       "      <td>1621.0</td>\n",
       "      <td>1621.5</td>\n",
       "      <td>1622.0</td>\n",
       "      <td>NaN</td>\n",
       "      <td>NaN</td>\n",
       "      <td>NaN</td>\n",
       "      <td>NaN</td>\n",
       "      <td>NaN</td>\n",
       "      <td>...</td>\n",
       "      <td>20.0</td>\n",
       "      <td>27.0</td>\n",
       "      <td>11.0</td>\n",
       "      <td>14.0</td>\n",
       "      <td>35.0</td>\n",
       "      <td>10.0</td>\n",
       "      <td>1.0</td>\n",
       "      <td>10.0</td>\n",
       "      <td>13.0</td>\n",
       "      <td>-0.5</td>\n",
       "    </tr>\n",
       "    <tr>\n",
       "      <td>3</td>\n",
       "      <td>1619.5</td>\n",
       "      <td>1620.0</td>\n",
       "      <td>1621.0</td>\n",
       "      <td>1621.5</td>\n",
       "      <td>1622.0</td>\n",
       "      <td>NaN</td>\n",
       "      <td>NaN</td>\n",
       "      <td>NaN</td>\n",
       "      <td>NaN</td>\n",
       "      <td>NaN</td>\n",
       "      <td>...</td>\n",
       "      <td>20.0</td>\n",
       "      <td>27.0</td>\n",
       "      <td>11.0</td>\n",
       "      <td>14.0</td>\n",
       "      <td>35.0</td>\n",
       "      <td>10.0</td>\n",
       "      <td>1.0</td>\n",
       "      <td>10.0</td>\n",
       "      <td>13.0</td>\n",
       "      <td>-0.5</td>\n",
       "    </tr>\n",
       "    <tr>\n",
       "      <td>4</td>\n",
       "      <td>1619.5</td>\n",
       "      <td>1620.0</td>\n",
       "      <td>1621.0</td>\n",
       "      <td>1621.5</td>\n",
       "      <td>1622.0</td>\n",
       "      <td>NaN</td>\n",
       "      <td>NaN</td>\n",
       "      <td>NaN</td>\n",
       "      <td>NaN</td>\n",
       "      <td>NaN</td>\n",
       "      <td>...</td>\n",
       "      <td>20.0</td>\n",
       "      <td>27.0</td>\n",
       "      <td>11.0</td>\n",
       "      <td>14.0</td>\n",
       "      <td>35.0</td>\n",
       "      <td>10.0</td>\n",
       "      <td>1.0</td>\n",
       "      <td>10.0</td>\n",
       "      <td>13.0</td>\n",
       "      <td>-0.5</td>\n",
       "    </tr>\n",
       "  </tbody>\n",
       "</table>\n",
       "<p>5 rows × 61 columns</p>\n",
       "</div>"
      ],
      "text/plain": [
       "   askRate0  askRate1  askRate2  askRate3  askRate4  askRate5  askRate6  \\\n",
       "0    1619.5    1620.0    1621.0       NaN       NaN       NaN       NaN   \n",
       "1    1619.5    1620.0    1621.0    1621.5       NaN       NaN       NaN   \n",
       "2    1619.5    1620.0    1621.0    1621.5    1622.0       NaN       NaN   \n",
       "3    1619.5    1620.0    1621.0    1621.5    1622.0       NaN       NaN   \n",
       "4    1619.5    1620.0    1621.0    1621.5    1622.0       NaN       NaN   \n",
       "\n",
       "   askRate7  askRate8  askRate9  ...  bidSize6  bidSize7  bidSize8  bidSize9  \\\n",
       "0       NaN       NaN       NaN  ...      20.0      27.0      11.0      14.0   \n",
       "1       NaN       NaN       NaN  ...      20.0      27.0      11.0      14.0   \n",
       "2       NaN       NaN       NaN  ...      20.0      27.0      11.0      14.0   \n",
       "3       NaN       NaN       NaN  ...      20.0      27.0      11.0      14.0   \n",
       "4       NaN       NaN       NaN  ...      20.0      27.0      11.0      14.0   \n",
       "\n",
       "   bidSize10  bidSize11  bidSize12  bidSize13  bidSize14    y  \n",
       "0       35.0       10.0        1.0       10.0       13.0 -0.5  \n",
       "1       35.0       10.0        1.0       10.0       13.0 -0.5  \n",
       "2       35.0       10.0        1.0       10.0       13.0 -0.5  \n",
       "3       35.0       10.0        1.0       10.0       13.0 -0.5  \n",
       "4       35.0       10.0        1.0       10.0       13.0 -0.5  \n",
       "\n",
       "[5 rows x 61 columns]"
      ]
     },
     "execution_count": 4,
     "metadata": {},
     "output_type": "execute_result"
    }
   ],
   "source": [
    "t_raw.head()"
   ]
  },
  {
   "cell_type": "code",
   "execution_count": 5,
   "metadata": {},
   "outputs": [],
   "source": [
    "t_book = t_raw.drop('y',1)\n",
    "t_target = t_raw['y']"
   ]
  },
  {
   "cell_type": "markdown",
   "metadata": {},
   "source": [
    "<a id=\"2\" ></a>\n",
    "# Create Market Depth View of Limit Order Book\n",
    "To see how limit order positions change on price ladder."
   ]
  },
  {
   "cell_type": "code",
   "execution_count": 6,
   "metadata": {},
   "outputs": [],
   "source": [
    "# column names\n",
    "rate_col_names = [c for c in t_book.columns if 'askRate' in c][::-1]\\\n",
    "               + [c for c in t_book.columns if 'bidRate' in c]\n",
    "size_col_names = [c for c in t_book.columns if 'askSize' in c][::-1]\\\n",
    "               + [c for c in t_book.columns if 'bidSize' in c]\n",
    "\n",
    "# rate and size columns index\n",
    "rate_iloc = [i for i, c in enumerate(t_book.columns) if c in rate_col_names]\n",
    "size_iloc = [i for i, c in enumerate(t_book.columns) if c in size_col_names]\n",
    "\n",
    "# rate range for the given book data\n",
    "min_rate = t_book.loc[:,rate_col_names].min().min()\n",
    "max_rate = t_book.loc[:,rate_col_names].max().max()\n",
    "rate_range = np.arange(min_rate,max_rate+0.5,0.5)\n",
    "\n",
    "# number of data given\n",
    "n_tick = len(t_book)"
   ]
  },
  {
   "cell_type": "markdown",
   "metadata": {},
   "source": [
    "save the parameters for future use"
   ]
  },
  {
   "cell_type": "code",
   "execution_count": 8,
   "metadata": {},
   "outputs": [],
   "source": [
    "import pickle\n",
    "\n",
    "params_raw_data = {'rate_col_names':rate_col_names, 'size_col_names':size_col_names,\n",
    "                   'rate_iloc':rate_iloc, 'size_iloc':size_iloc,\n",
    "                   'rate_range':rate_range, 'n_tick':n_tick}\n",
    "\n",
    "pickle.dump(params_raw_data,open('params_raw_data.pkl','wb'))"
   ]
  },
  {
   "cell_type": "markdown",
   "metadata": {},
   "source": [
    "<a id=\"2.1\" ></a>"
   ]
  },
  {
   "cell_type": "markdown",
   "metadata": {},
   "source": [
    "function to convert one tick of data, using parallel computing"
   ]
  },
  {
   "cell_type": "code",
   "execution_count": 6,
   "metadata": {},
   "outputs": [],
   "source": [
    "import multiprocessing as mp\n",
    "\n",
    "# create market depth view of one tick of order info\n",
    "def depth_of_market_onetick(tick):\n",
    "    rate = tick[rate_iloc]\n",
    "    size = tick[size_iloc]\n",
    "    rate = [r for r in rate if not np.isnan(r)]\n",
    "    size = [s for s in size if not np.isnan(s)]\n",
    "    \n",
    "    t  = np.zeros(len(rate_range))\n",
    "    t[[int((r-rate_range[0])*2) for r in rate]] = size\n",
    "    \n",
    "    return t\n",
    "\n",
    "# create market depth view for entire order book\n",
    "def depth_of_market_book(book):\n",
    "    pool = mp.Pool(mp.cpu_count())\n",
    "    depth_of_market = pool.map(depth_of_market_onetick, [t for t in np.array(book)])\n",
    "    pool.close()\n",
    "\n",
    "    return depth_of_market"
   ]
  },
  {
   "cell_type": "markdown",
   "metadata": {},
   "source": [
    "<a id=\"2.2\" ></a>\n",
    "Create depth view of subsets and merge"
   ]
  },
  {
   "cell_type": "code",
   "execution_count": 23,
   "metadata": {
    "collapsed": true
   },
   "outputs": [
    {
     "name": "stdout",
     "output_type": "stream",
     "text": [
      "0\n",
      "10\n",
      "20\n",
      "30\n",
      "40\n",
      "50\n",
      "60\n",
      "70\n",
      "80\n",
      "90\n",
      "100\n",
      "110\n",
      "120\n",
      "130\n",
      "140\n",
      "150\n",
      "160\n",
      "170\n",
      "180\n",
      "190\n",
      "200\n",
      "210\n",
      "220\n",
      "230\n",
      "240\n",
      "250\n",
      "260\n",
      "270\n",
      "280\n",
      "290\n"
     ]
    }
   ],
   "source": [
    "from tqdm import tqdm\n",
    "\n",
    "# split the order book into 300 subsets\n",
    "for i in tqdm(range(300)):\n",
    "    bgn = i*1e4\n",
    "    end = (i+1)*1e4\n",
    "        \n",
    "    pkl_filename = \"depth_book_\"+str(i)+\".pkl\"\n",
    "    with open(pkl_filename, 'wb') as file:\n",
    "        pickle.dump(depth_of_market_book(t_book.loc[bgn:end-1]), file)"
   ]
  },
  {
   "cell_type": "code",
   "execution_count": 28,
   "metadata": {},
   "outputs": [
    {
     "name": "stdout",
     "output_type": "stream",
     "text": [
      "2999999\n"
     ]
    }
   ],
   "source": [
    "# merge the results of 300 subsets\n",
    "depth_book = []\n",
    "for i in tqdm(range(300)):\n",
    "    depth_book.extend(pickle.load(open( \"depth_book_\"+str(i)+\".pkl\", \"rb\" ) ))\n",
    "\n",
    "pkl_filename = \"depth_book.pkl\"\n",
    "with open(pkl_filename, 'wb') as file:\n",
    "    pickle.dump(depth_book, file)"
   ]
  },
  {
   "cell_type": "markdown",
   "metadata": {},
   "source": [
    "assign index labels, columns are price levels, rows are ticks"
   ]
  },
  {
   "cell_type": "code",
   "execution_count": 33,
   "metadata": {},
   "outputs": [],
   "source": [
    "# convert depth book to dataframe and save to feather for faster reading\n",
    "t_depth_book = pd.DataFrame(depth_book, columns=rate_range)\n",
    "\n",
    "import feather\n",
    "feather.write_dataframe(t_depth_book, 'depth_book.feather')"
   ]
  },
  {
   "cell_type": "code",
   "execution_count": 7,
   "metadata": {},
   "outputs": [
    {
     "data": {
      "text/html": [
       "<div>\n",
       "<style scoped>\n",
       "    .dataframe tbody tr th:only-of-type {\n",
       "        vertical-align: middle;\n",
       "    }\n",
       "\n",
       "    .dataframe tbody tr th {\n",
       "        vertical-align: top;\n",
       "    }\n",
       "\n",
       "    .dataframe thead th {\n",
       "        text-align: right;\n",
       "    }\n",
       "</style>\n",
       "<table border=\"1\" class=\"dataframe\">\n",
       "  <thead>\n",
       "    <tr style=\"text-align: right;\">\n",
       "      <th></th>\n",
       "      <th>1565.0</th>\n",
       "      <th>1565.5</th>\n",
       "      <th>1566.0</th>\n",
       "      <th>1566.5</th>\n",
       "      <th>1567.0</th>\n",
       "      <th>1567.5</th>\n",
       "      <th>1568.0</th>\n",
       "      <th>1568.5</th>\n",
       "      <th>1569.0</th>\n",
       "      <th>1569.5</th>\n",
       "      <th>...</th>\n",
       "      <th>1711.5</th>\n",
       "      <th>1712.0</th>\n",
       "      <th>1712.5</th>\n",
       "      <th>1713.0</th>\n",
       "      <th>1713.5</th>\n",
       "      <th>1714.0</th>\n",
       "      <th>1714.5</th>\n",
       "      <th>1715.0</th>\n",
       "      <th>1715.5</th>\n",
       "      <th>1716.0</th>\n",
       "    </tr>\n",
       "  </thead>\n",
       "  <tbody>\n",
       "    <tr>\n",
       "      <td>0</td>\n",
       "      <td>0.0</td>\n",
       "      <td>0.0</td>\n",
       "      <td>0.0</td>\n",
       "      <td>0.0</td>\n",
       "      <td>0.0</td>\n",
       "      <td>0.0</td>\n",
       "      <td>0.0</td>\n",
       "      <td>0.0</td>\n",
       "      <td>0.0</td>\n",
       "      <td>0.0</td>\n",
       "      <td>...</td>\n",
       "      <td>0.0</td>\n",
       "      <td>0.0</td>\n",
       "      <td>0.0</td>\n",
       "      <td>0.0</td>\n",
       "      <td>0.0</td>\n",
       "      <td>0.0</td>\n",
       "      <td>0.0</td>\n",
       "      <td>0.0</td>\n",
       "      <td>0.0</td>\n",
       "      <td>0.0</td>\n",
       "    </tr>\n",
       "    <tr>\n",
       "      <td>1</td>\n",
       "      <td>0.0</td>\n",
       "      <td>0.0</td>\n",
       "      <td>0.0</td>\n",
       "      <td>0.0</td>\n",
       "      <td>0.0</td>\n",
       "      <td>0.0</td>\n",
       "      <td>0.0</td>\n",
       "      <td>0.0</td>\n",
       "      <td>0.0</td>\n",
       "      <td>0.0</td>\n",
       "      <td>...</td>\n",
       "      <td>0.0</td>\n",
       "      <td>0.0</td>\n",
       "      <td>0.0</td>\n",
       "      <td>0.0</td>\n",
       "      <td>0.0</td>\n",
       "      <td>0.0</td>\n",
       "      <td>0.0</td>\n",
       "      <td>0.0</td>\n",
       "      <td>0.0</td>\n",
       "      <td>0.0</td>\n",
       "    </tr>\n",
       "    <tr>\n",
       "      <td>2</td>\n",
       "      <td>0.0</td>\n",
       "      <td>0.0</td>\n",
       "      <td>0.0</td>\n",
       "      <td>0.0</td>\n",
       "      <td>0.0</td>\n",
       "      <td>0.0</td>\n",
       "      <td>0.0</td>\n",
       "      <td>0.0</td>\n",
       "      <td>0.0</td>\n",
       "      <td>0.0</td>\n",
       "      <td>...</td>\n",
       "      <td>0.0</td>\n",
       "      <td>0.0</td>\n",
       "      <td>0.0</td>\n",
       "      <td>0.0</td>\n",
       "      <td>0.0</td>\n",
       "      <td>0.0</td>\n",
       "      <td>0.0</td>\n",
       "      <td>0.0</td>\n",
       "      <td>0.0</td>\n",
       "      <td>0.0</td>\n",
       "    </tr>\n",
       "    <tr>\n",
       "      <td>3</td>\n",
       "      <td>0.0</td>\n",
       "      <td>0.0</td>\n",
       "      <td>0.0</td>\n",
       "      <td>0.0</td>\n",
       "      <td>0.0</td>\n",
       "      <td>0.0</td>\n",
       "      <td>0.0</td>\n",
       "      <td>0.0</td>\n",
       "      <td>0.0</td>\n",
       "      <td>0.0</td>\n",
       "      <td>...</td>\n",
       "      <td>0.0</td>\n",
       "      <td>0.0</td>\n",
       "      <td>0.0</td>\n",
       "      <td>0.0</td>\n",
       "      <td>0.0</td>\n",
       "      <td>0.0</td>\n",
       "      <td>0.0</td>\n",
       "      <td>0.0</td>\n",
       "      <td>0.0</td>\n",
       "      <td>0.0</td>\n",
       "    </tr>\n",
       "    <tr>\n",
       "      <td>4</td>\n",
       "      <td>0.0</td>\n",
       "      <td>0.0</td>\n",
       "      <td>0.0</td>\n",
       "      <td>0.0</td>\n",
       "      <td>0.0</td>\n",
       "      <td>0.0</td>\n",
       "      <td>0.0</td>\n",
       "      <td>0.0</td>\n",
       "      <td>0.0</td>\n",
       "      <td>0.0</td>\n",
       "      <td>...</td>\n",
       "      <td>0.0</td>\n",
       "      <td>0.0</td>\n",
       "      <td>0.0</td>\n",
       "      <td>0.0</td>\n",
       "      <td>0.0</td>\n",
       "      <td>0.0</td>\n",
       "      <td>0.0</td>\n",
       "      <td>0.0</td>\n",
       "      <td>0.0</td>\n",
       "      <td>0.0</td>\n",
       "    </tr>\n",
       "  </tbody>\n",
       "</table>\n",
       "<p>5 rows × 303 columns</p>\n",
       "</div>"
      ],
      "text/plain": [
       "   1565.0  1565.5  1566.0  1566.5  1567.0  1567.5  1568.0  1568.5  1569.0  \\\n",
       "0     0.0     0.0     0.0     0.0     0.0     0.0     0.0     0.0     0.0   \n",
       "1     0.0     0.0     0.0     0.0     0.0     0.0     0.0     0.0     0.0   \n",
       "2     0.0     0.0     0.0     0.0     0.0     0.0     0.0     0.0     0.0   \n",
       "3     0.0     0.0     0.0     0.0     0.0     0.0     0.0     0.0     0.0   \n",
       "4     0.0     0.0     0.0     0.0     0.0     0.0     0.0     0.0     0.0   \n",
       "\n",
       "   1569.5  ...  1711.5  1712.0  1712.5  1713.0  1713.5  1714.0  1714.5  \\\n",
       "0     0.0  ...     0.0     0.0     0.0     0.0     0.0     0.0     0.0   \n",
       "1     0.0  ...     0.0     0.0     0.0     0.0     0.0     0.0     0.0   \n",
       "2     0.0  ...     0.0     0.0     0.0     0.0     0.0     0.0     0.0   \n",
       "3     0.0  ...     0.0     0.0     0.0     0.0     0.0     0.0     0.0   \n",
       "4     0.0  ...     0.0     0.0     0.0     0.0     0.0     0.0     0.0   \n",
       "\n",
       "   1715.0  1715.5  1716.0  \n",
       "0     0.0     0.0     0.0  \n",
       "1     0.0     0.0     0.0  \n",
       "2     0.0     0.0     0.0  \n",
       "3     0.0     0.0     0.0  \n",
       "4     0.0     0.0     0.0  \n",
       "\n",
       "[5 rows x 303 columns]"
      ]
     },
     "execution_count": 7,
     "metadata": {},
     "output_type": "execute_result"
    }
   ],
   "source": [
    "t_depth_book = feather.read_dataframe('depth_book.feather')\n",
    "t_depth_book.head()"
   ]
  },
  {
   "cell_type": "markdown",
   "metadata": {},
   "source": [
    "<a id=\"3\" ></a>\n",
    "<a id=\"3.1\" ></a>\n",
    "# Approximate Market, Limit and Cancelled Orders\n",
    "\n",
    "Based on the position changes on each bid/ask level, we could estimate how many market/limit orders have been booked or cancelled since last tick. Order messages should be available in rea-life HFT. \n",
    "\n",
    "\n",
    "Assumptions are\n",
    "- orders that push top bid/ask prices further from mid-price are all market orders\n",
    "- positions change beyond the new top bid/ask prices are caused by limit orders or cancellation\n",
    "\n",
    "and they will cause\n",
    "- ignoring the limit orders at the top ask/bid prices which fill the top level ask/bid like market orders"
   ]
  },
  {
   "cell_type": "code",
   "execution_count": 74,
   "metadata": {},
   "outputs": [],
   "source": [
    "# position change since last tick\n",
    "t_order_chg = t_depth_book.diff()\n",
    "\n",
    "# first ask and bid price index on market depth book column axis\n",
    "t_top_level_iloc = t_book.loc[:,['askRate0','bidRate0']].add(-min_rate).mul(2).astype(int)"
   ]
  },
  {
   "cell_type": "code",
   "execution_count": 9,
   "metadata": {},
   "outputs": [
    {
     "data": {
      "text/html": [
       "<div>\n",
       "<style scoped>\n",
       "    .dataframe tbody tr th:only-of-type {\n",
       "        vertical-align: middle;\n",
       "    }\n",
       "\n",
       "    .dataframe tbody tr th {\n",
       "        vertical-align: top;\n",
       "    }\n",
       "\n",
       "    .dataframe thead th {\n",
       "        text-align: right;\n",
       "    }\n",
       "</style>\n",
       "<table border=\"1\" class=\"dataframe\">\n",
       "  <thead>\n",
       "    <tr style=\"text-align: right;\">\n",
       "      <th></th>\n",
       "      <th>askRate0</th>\n",
       "      <th>bidRate0</th>\n",
       "    </tr>\n",
       "  </thead>\n",
       "  <tbody>\n",
       "    <tr>\n",
       "      <td>0</td>\n",
       "      <td>109</td>\n",
       "      <td>100</td>\n",
       "    </tr>\n",
       "    <tr>\n",
       "      <td>1</td>\n",
       "      <td>109</td>\n",
       "      <td>100</td>\n",
       "    </tr>\n",
       "    <tr>\n",
       "      <td>2</td>\n",
       "      <td>109</td>\n",
       "      <td>100</td>\n",
       "    </tr>\n",
       "    <tr>\n",
       "      <td>3</td>\n",
       "      <td>109</td>\n",
       "      <td>100</td>\n",
       "    </tr>\n",
       "    <tr>\n",
       "      <td>4</td>\n",
       "      <td>109</td>\n",
       "      <td>100</td>\n",
       "    </tr>\n",
       "  </tbody>\n",
       "</table>\n",
       "</div>"
      ],
      "text/plain": [
       "   askRate0  bidRate0\n",
       "0       109       100\n",
       "1       109       100\n",
       "2       109       100\n",
       "3       109       100\n",
       "4       109       100"
      ]
     },
     "execution_count": 9,
     "metadata": {},
     "output_type": "execute_result"
    }
   ],
   "source": [
    "t_top_level_iloc.head()"
   ]
  },
  {
   "cell_type": "markdown",
   "metadata": {},
   "source": [
    "approximate sizes of three types of order for one tick"
   ]
  },
  {
   "cell_type": "code",
   "execution_count": 29,
   "metadata": {},
   "outputs": [],
   "source": [
    "# backsolve the order info for one tick\n",
    "def approx_orders_onetick(order_chg, this_top_level, last_top_level):\n",
    "    \"\"\"\n",
    "    inputs types are np.array, faster than pd.DataFrame indexing\n",
    "    \n",
    "    order_chg:      depth_book change from last tick\n",
    "    this_top_level: first ask and bid price iloc of this tick, [ask,bid]\n",
    "    last_top_level: first ask and bid price iloc of last tick, [ask,bid]\n",
    "    \"\"\"\n",
    "    market_ask_range = order_chg[this_top_level[1]:last_top_level[1]+1]\n",
    "    market_bid_range = order_chg[last_top_level[0]:this_top_level[0]+1]\n",
    "    \n",
    "    market_ask = -market_ask_range.copy()\n",
    "    market_ask[market_ask<0]=0\n",
    "    market_bid = -market_bid_range.copy()\n",
    "    market_bid[market_bid<0]=0\n",
    "    \n",
    "    order_chg[this_top_level[1]:last_top_level[1]+1] += market_ask\n",
    "    order_chg[last_top_level[0]:this_top_level[0]+1] += market_bid\n",
    "    \n",
    "    limit = order_chg.copy()\n",
    "    limit[limit<0] = 0\n",
    "    cancl = -order_chg.copy()\n",
    "    cancl[cancl<0] = 0\n",
    "        \n",
    "    return [market_ask.sum(), market_bid.sum(), limit, cancl]"
   ]
  },
  {
   "cell_type": "markdown",
   "metadata": {},
   "source": [
    "test if the function is doing the right thing"
   ]
  },
  {
   "cell_type": "code",
   "execution_count": 11,
   "metadata": {},
   "outputs": [],
   "source": [
    "def check_order_approx(i,lag=1,if_print=False):\n",
    "    order_chg = t_depth_book.loc[i]-t_depth_book.loc[i-lag]\n",
    "    market_ask,market_bid,limit,cancl = approx_orders_onetick(order_chg.values,\n",
    "                                                              t_top_level_iloc.loc[i],\n",
    "                                                              t_top_level_iloc.loc[i-lag])\n",
    "    \n",
    "    this_rates = t_book.loc[i,rate_col_names].dropna().values\n",
    "    last_rates = t_book.loc[i-lag,rate_col_names].dropna().values\n",
    "    \n",
    "    rates = np.unique(np.concatenate((this_rates,last_rates)))\n",
    "    rates_iloc = [int((r-min_rate)*2) for r in rates]\n",
    "    \n",
    "    res = pd.DataFrame(index=rates[::-1],columns=['last_tick','this_tick','chg','limit','cancl'])\n",
    "    \n",
    "    res.loc[last_rates,'last_tick'] = t_book.loc[i-lag,size_col_names].dropna().values\n",
    "    res.loc[this_rates,'this_tick'] = t_book.loc[i,size_col_names].dropna().values\n",
    "    res.loc[:,'limit'] = limit[rates_iloc][::-1]\n",
    "    res.loc[:,'cancl'] = cancl[rates_iloc][::-1]\n",
    "    res = res.fillna(0)\n",
    "    res['chg'] = res['this_tick']-res['last_tick']\n",
    "    \n",
    "    if if_print:\n",
    "        print('best_ask: %.1f\\t best_bid: %.1f'%(t_book.loc[i,'askRate0'],t_book.loc[i,'bidRate0']))\n",
    "        print('market_ask: %d\\t market_bid: %d'%(market_ask,market_bid))\n",
    "        print(res)\n",
    "    \n",
    "    test_result = res['this_tick'].add(-res['last_tick']).sum()-res['limit'].sum()+res['cancl'].sum()==-market_ask-market_bid\n",
    "    \n",
    "    return(test_result)"
   ]
  },
  {
   "cell_type": "markdown",
   "metadata": {},
   "source": [
    "Print out a sample tick and orders estimation results. The below indicates the function is doing the right job."
   ]
  },
  {
   "cell_type": "code",
   "execution_count": 12,
   "metadata": {},
   "outputs": [
    {
     "name": "stdout",
     "output_type": "stream",
     "text": [
      "best_ask: 1616.5\t best_bid: 1616.0\n",
      "market_ask: 0\t market_bid: 0\n",
      "        last_tick  this_tick   chg  limit  cancl\n",
      "1624.0       24.0        0.0 -24.0    0.0   24.0\n",
      "1623.5        4.0        4.0   0.0    0.0   -0.0\n",
      "1623.0       10.0       10.0   0.0    0.0   -0.0\n",
      "1622.5        4.0        4.0   0.0    0.0   -0.0\n",
      "1622.0      152.0      152.0   0.0    0.0   -0.0\n",
      "1621.5        8.0        8.0   0.0    0.0   -0.0\n",
      "1621.0       24.0       24.0   0.0    0.0   -0.0\n",
      "1620.5        5.0        5.0   0.0    0.0   -0.0\n",
      "1620.0       13.0       13.0   0.0    0.0   -0.0\n",
      "1619.5        4.0        4.0   0.0    0.0   -0.0\n",
      "1619.0        3.0        3.0   0.0    0.0   -0.0\n",
      "1618.5        2.0        2.0   0.0    0.0   -0.0\n",
      "1618.0        4.0        4.0   0.0    0.0   -0.0\n",
      "1617.5        1.0        1.0   0.0    0.0   -0.0\n",
      "1617.0        1.0        1.0   0.0    0.0   -0.0\n",
      "1616.5        0.0        1.0   1.0    1.0    0.0\n",
      "1616.0        4.0        4.0   0.0    0.0   -0.0\n",
      "1615.5        3.0        3.0   0.0    0.0   -0.0\n",
      "1615.0      101.0      101.0   0.0    0.0   -0.0\n",
      "1614.5        3.0        3.0   0.0    0.0   -0.0\n",
      "1614.0       14.0       14.0   0.0    0.0   -0.0\n",
      "1613.5        5.0        5.0   0.0    0.0   -0.0\n",
      "1613.0        4.0        4.0   0.0    0.0   -0.0\n",
      "1612.5        3.0        3.0   0.0    0.0   -0.0\n",
      "1612.0       10.0       10.0   0.0    0.0   -0.0\n",
      "1611.5        7.0        7.0   0.0    0.0   -0.0\n",
      "1611.0       20.0       20.0   0.0    0.0   -0.0\n",
      "1610.0        4.0        4.0   0.0    0.0   -0.0\n",
      "1608.5        2.0        2.0   0.0    0.0   -0.0\n",
      "1608.0        1.0        1.0   0.0    0.0   -0.0\n",
      "1607.0       60.0       60.0   0.0    0.0   -0.0\n"
     ]
    },
    {
     "data": {
      "text/plain": [
       "True"
      ]
     },
     "execution_count": 12,
     "metadata": {},
     "output_type": "execute_result"
    }
   ],
   "source": [
    "check_order_approx(380,if_print=True)"
   ]
  },
  {
   "cell_type": "markdown",
   "metadata": {},
   "source": [
    "Randomly pick 10 ticks with random lags to check if the test passes. Yes it passed for all samples."
   ]
  },
  {
   "cell_type": "code",
   "execution_count": 13,
   "metadata": {},
   "outputs": [
    {
     "name": "stdout",
     "output_type": "stream",
     "text": [
      "row_i\tlag\tpass?\n",
      "2191040\t48\tTrue\n",
      "1506523\t60\tTrue\n",
      "2492213\t70\tTrue\n",
      "241581\t10\tTrue\n",
      "171575\t63\tTrue\n",
      "2957944\t42\tTrue\n",
      "93514\t92\tTrue\n",
      "2660046\t55\tTrue\n",
      "369724\t6\tTrue\n",
      "1506923\t56\tTrue\n"
     ]
    }
   ],
   "source": [
    "print(\"%s\\t%s\\t%s\"%('row_i','lag','pass?'))\n",
    "for i in np.random.randint(1,len(t_book),10):\n",
    "    lag = np.random.randint(1,min(i,100))\n",
    "    print(\"%d\\t%d\\t%s\"%(i,lag,check_order_approx(i,lag)))"
   ]
  },
  {
   "cell_type": "markdown",
   "metadata": {},
   "source": [
    "<a id=\"3.3\" ></a>\n",
    "### populate the transformation to whole book"
   ]
  },
  {
   "cell_type": "markdown",
   "metadata": {},
   "source": [
    "Populate the single tick function to multiple ticks (a subset of book)."
   ]
  },
  {
   "cell_type": "code",
   "execution_count": 44,
   "metadata": {},
   "outputs": [],
   "source": [
    "import pickle\n",
    "from tqdm import tqdm\n",
    "# approximate orders for entire order book\n",
    "def approx_orders(chg,top_iloc):\n",
    "    pool = mp.Pool(mp.cpu_count())\n",
    "    params = ((chg.iloc[i].values,top_iloc.iloc[i].values,top_iloc.iloc[i-1].values) for i in range(1,len(chg)))\n",
    "    depth_of_market = pool.starmap(approx_orders_onetick, [p for p in params])\n",
    "    pool.close()\n",
    "\n",
    "    return depth_of_market"
   ]
  },
  {
   "cell_type": "markdown",
   "metadata": {},
   "source": [
    "Since the book is too large, separate it to 300 subgroups, calculate, dump the results and merge."
   ]
  },
  {
   "cell_type": "code",
   "execution_count": 72,
   "metadata": {},
   "outputs": [
    {
     "name": "stderr",
     "output_type": "stream",
     "text": [
      "100%|██████████| 300/300 [38:47<00:00,  7.76s/it]\n"
     ]
    }
   ],
   "source": [
    "# split the order book into 300 subsets\n",
    "for i in tqdm(range(300)):\n",
    "    bgn = int(i*1e4)\n",
    "    end = int((i+1)*1e4)\n",
    "        \n",
    "    pkl_filename = \"approx_order\"+str(i)+\".pkl\"\n",
    "    with open(pkl_filename, 'wb') as file:\n",
    "        pickle.dump(approx_orders(t_order_chg.loc[bgn:end],t_top_level_iloc.loc[bgn:end]), file)"
   ]
  },
  {
   "cell_type": "code",
   "execution_count": 73,
   "metadata": {},
   "outputs": [
    {
     "name": "stderr",
     "output_type": "stream",
     "text": [
      "100%|██████████| 300/300 [00:37<00:00,  7.97it/s]\n"
     ]
    }
   ],
   "source": [
    "# merge the results of 300 subsets\n",
    "market_ask_bid = []\n",
    "market_bid_orders = []\n",
    "limit_orders = []\n",
    "cancl_orders = []\n",
    "for i in tqdm(range(300)):\n",
    "    temp = pickle.load(open( \"approx_order\"+str(i)+\".pkl\", \"rb\" ))\n",
    "    market_ask_bid.extend([t[:2] for t in temp])\n",
    "    limit_orders.extend([t[2] for t in temp])\n",
    "    cancl_orders.extend([t[3] for t in temp])\n",
    "\n",
    "pickle.dump(market_ask_bid, open(\"approx_market_ask_bid.pkl\",\"wb\"))\n",
    "pickle.dump(limit_orders, open(\"approx_limit.pkl\",\"wb\"))\n",
    "pickle.dump(cancl_orders, open(\"approx_cancl.pkl\",\"wb\"))"
   ]
  },
  {
   "cell_type": "markdown",
   "metadata": {},
   "source": [
    "Assign index to order dataframes.\n",
    "- market orders have column [ask,bid]\n",
    "- limit/cancelled orders have price levels as columns\n",
    "- rows are ticks"
   ]
  },
  {
   "cell_type": "code",
   "execution_count": 22,
   "metadata": {},
   "outputs": [],
   "source": [
    "market_ask_bid = pickle.load(open(\"approx_market_ask_bid.pkl\",\"rb\"))\n",
    "df_market = pd.DataFrame(market_ask_bid, columns=['market_ask','market_bid'])\n",
    "df_market.index = range(2,3000000)\n",
    "feather.write_dataframe(df_market,'df_market_order.feather')"
   ]
  },
  {
   "cell_type": "markdown",
   "metadata": {},
   "source": [
    "# Results"
   ]
  },
  {
   "cell_type": "markdown",
   "metadata": {},
   "source": [
    "<a id=\"4\" ></a>\n",
    "Now we have three types of order info:\n",
    "1. df_market: market ask and bid order\n",
    "2. df_limit: limit order at different price levels\n",
    "3. df_cancl: cancelled order at different price level\n",
    "\n",
    "This book will ends here. It serves as once-in-a-project-life type preparation work. "
   ]
  }
 ],
 "metadata": {
  "kernelspec": {
   "display_name": "Python 3",
   "language": "python",
   "name": "python3"
  },
  "language_info": {
   "codemirror_mode": {
    "name": "ipython",
    "version": 3
   },
   "file_extension": ".py",
   "mimetype": "text/x-python",
   "name": "python",
   "nbconvert_exporter": "python",
   "pygments_lexer": "ipython3",
   "version": "3.7.4"
  }
 },
 "nbformat": 4,
 "nbformat_minor": 2
}
